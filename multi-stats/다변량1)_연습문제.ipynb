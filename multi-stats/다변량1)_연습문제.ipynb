{
  "nbformat": 4,
  "nbformat_minor": 0,
  "metadata": {
    "colab": {
      "name": "다변량1) 연습문제.ipynb",
      "provenance": []
    },
    "kernelspec": {
      "name": "python3",
      "display_name": "Python 3"
    },
    "language_info": {
      "name": "python"
    }
  },
  "cells": [
    {
      "cell_type": "code",
      "metadata": {
        "id": "fFXroVhO7BMI"
      },
      "source": [
        "%load_ext rpy2.ipython"
      ],
      "execution_count": null,
      "outputs": []
    },
    {
      "cell_type": "code",
      "metadata": {
        "id": "V47UBXoG7IJg"
      },
      "source": [
        "import numpy as np\n",
        "import pandas as pd\n",
        "import matplotlib.pyplot as plt\n",
        "import seaborn as sns\n",
        "import scipy.stats as st\n",
        "import pingouin as pg"
      ],
      "execution_count": null,
      "outputs": []
    },
    {
      "cell_type": "code",
      "metadata": {
        "colab": {
          "base_uri": "https://localhost:8080/"
        },
        "id": "B8TeO4ql7Ihg",
        "outputId": "242c72a3-a89a-4895-e518-d657692b3522"
      },
      "source": [
        "!sudo apt-get install -y fonts-nanum\n",
        "!sudo fc-cache -fv\n",
        "!rm ~/.cache/matplotlib -rf"
      ],
      "execution_count": null,
      "outputs": [
        {
          "output_type": "stream",
          "name": "stdout",
          "text": [
            "Reading package lists... Done\n",
            "Building dependency tree       \n",
            "Reading state information... Done\n",
            "fonts-nanum is already the newest version (20170925-1).\n",
            "0 upgraded, 0 newly installed, 0 to remove and 37 not upgraded.\n",
            "/usr/share/fonts: caching, new cache contents: 0 fonts, 1 dirs\n",
            "/usr/share/fonts/truetype: caching, new cache contents: 0 fonts, 3 dirs\n",
            "/usr/share/fonts/truetype/humor-sans: caching, new cache contents: 1 fonts, 0 dirs\n",
            "/usr/share/fonts/truetype/liberation: caching, new cache contents: 16 fonts, 0 dirs\n",
            "/usr/share/fonts/truetype/nanum: caching, new cache contents: 10 fonts, 0 dirs\n",
            "/usr/local/share/fonts: caching, new cache contents: 0 fonts, 0 dirs\n",
            "/root/.local/share/fonts: skipping, no such directory\n",
            "/root/.fonts: skipping, no such directory\n",
            "/var/cache/fontconfig: cleaning cache directory\n",
            "/root/.cache/fontconfig: not cleaning non-existent cache directory\n",
            "/root/.fontconfig: not cleaning non-existent cache directory\n",
            "fc-cache: succeeded\n"
          ]
        }
      ]
    },
    {
      "cell_type": "code",
      "metadata": {
        "id": "tH_O33Mo7sev"
      },
      "source": [
        "%%R\n",
        "options(max.print=50)"
      ],
      "execution_count": null,
      "outputs": []
    },
    {
      "cell_type": "code",
      "metadata": {
        "id": "Pr3u2rtx81RO"
      },
      "source": [
        "plt.rc('font', family='nanumgothic')\n",
        "plt.rcParams['axes.unicode_minus'] = False"
      ],
      "execution_count": null,
      "outputs": []
    },
    {
      "cell_type": "code",
      "metadata": {
        "colab": {
          "base_uri": "https://localhost:8080/"
        },
        "id": "bDK3ZrLg-o1e",
        "outputId": "476b17c1-72f3-4c8f-eca8-2089db8a68ee"
      },
      "source": [
        "pip install --upgrade pingouin"
      ],
      "execution_count": null,
      "outputs": [
        {
          "output_type": "stream",
          "name": "stdout",
          "text": [
            "Requirement already satisfied: pingouin in /usr/local/lib/python3.7/dist-packages (0.5.0)\n",
            "Requirement already satisfied: statsmodels>=0.12.0 in /usr/local/lib/python3.7/dist-packages (from pingouin) (0.13.0)\n",
            "Requirement already satisfied: outdated in /usr/local/lib/python3.7/dist-packages (from pingouin) (0.2.1)\n",
            "Requirement already satisfied: numpy>=1.19 in /usr/local/lib/python3.7/dist-packages (from pingouin) (1.19.5)\n",
            "Requirement already satisfied: pandas>=1.0 in /usr/local/lib/python3.7/dist-packages (from pingouin) (1.1.5)\n",
            "Requirement already satisfied: scikit-learn in /usr/local/lib/python3.7/dist-packages (from pingouin) (0.22.2.post1)\n",
            "Requirement already satisfied: scipy>=1.7 in /usr/local/lib/python3.7/dist-packages (from pingouin) (1.7.2)\n",
            "Requirement already satisfied: matplotlib>=3.0.2 in /usr/local/lib/python3.7/dist-packages (from pingouin) (3.2.2)\n",
            "Requirement already satisfied: seaborn>=0.9.0 in /usr/local/lib/python3.7/dist-packages (from pingouin) (0.11.2)\n",
            "Requirement already satisfied: tabulate in /usr/local/lib/python3.7/dist-packages (from pingouin) (0.8.9)\n",
            "Requirement already satisfied: pandas-flavor>=0.2.0 in /usr/local/lib/python3.7/dist-packages (from pingouin) (0.2.0)\n",
            "Requirement already satisfied: cycler>=0.10 in /usr/local/lib/python3.7/dist-packages (from matplotlib>=3.0.2->pingouin) (0.10.0)\n",
            "Requirement already satisfied: kiwisolver>=1.0.1 in /usr/local/lib/python3.7/dist-packages (from matplotlib>=3.0.2->pingouin) (1.3.2)\n",
            "Requirement already satisfied: python-dateutil>=2.1 in /usr/local/lib/python3.7/dist-packages (from matplotlib>=3.0.2->pingouin) (2.8.2)\n",
            "Requirement already satisfied: pyparsing!=2.0.4,!=2.1.2,!=2.1.6,>=2.0.1 in /usr/local/lib/python3.7/dist-packages (from matplotlib>=3.0.2->pingouin) (2.4.7)\n",
            "Requirement already satisfied: six in /usr/local/lib/python3.7/dist-packages (from cycler>=0.10->matplotlib>=3.0.2->pingouin) (1.15.0)\n",
            "Requirement already satisfied: pytz>=2017.2 in /usr/local/lib/python3.7/dist-packages (from pandas>=1.0->pingouin) (2018.9)\n",
            "Requirement already satisfied: xarray in /usr/local/lib/python3.7/dist-packages (from pandas-flavor>=0.2.0->pingouin) (0.18.2)\n",
            "Requirement already satisfied: patsy>=0.5.2 in /usr/local/lib/python3.7/dist-packages (from statsmodels>=0.12.0->pingouin) (0.5.2)\n",
            "Requirement already satisfied: littleutils in /usr/local/lib/python3.7/dist-packages (from outdated->pingouin) (0.2.2)\n",
            "Requirement already satisfied: requests in /usr/local/lib/python3.7/dist-packages (from outdated->pingouin) (2.23.0)\n",
            "Requirement already satisfied: certifi>=2017.4.17 in /usr/local/lib/python3.7/dist-packages (from requests->outdated->pingouin) (2021.5.30)\n",
            "Requirement already satisfied: idna<3,>=2.5 in /usr/local/lib/python3.7/dist-packages (from requests->outdated->pingouin) (2.10)\n",
            "Requirement already satisfied: urllib3!=1.25.0,!=1.25.1,<1.26,>=1.21.1 in /usr/local/lib/python3.7/dist-packages (from requests->outdated->pingouin) (1.24.3)\n",
            "Requirement already satisfied: chardet<4,>=3.0.2 in /usr/local/lib/python3.7/dist-packages (from requests->outdated->pingouin) (3.0.4)\n",
            "Requirement already satisfied: joblib>=0.11 in /usr/local/lib/python3.7/dist-packages (from scikit-learn->pingouin) (1.0.1)\n",
            "Requirement already satisfied: setuptools>=40.4 in /usr/local/lib/python3.7/dist-packages (from xarray->pandas-flavor>=0.2.0->pingouin) (57.4.0)\n"
          ]
        }
      ]
    },
    {
      "cell_type": "markdown",
      "metadata": {
        "id": "1mgl3dJc7R83"
      },
      "source": [
        "# 1"
      ]
    },
    {
      "cell_type": "code",
      "metadata": {
        "colab": {
          "base_uri": "https://localhost:8080/"
        },
        "id": "-lxkqs0c7VeH",
        "outputId": "295243e4-2de3-4155-e387-9ae1ec521ae4"
      },
      "source": [
        "%%R\n",
        "mat <- read.csv(\"/content/drive/MyDrive/st_data/제01장/학력조사결과.csv\", fileEncoding='euc-kr')\n",
        "dim(mat)"
      ],
      "execution_count": null,
      "outputs": [
        {
          "output_type": "stream",
          "name": "stdout",
          "text": [
            "[1] 800  12\n"
          ]
        }
      ]
    },
    {
      "cell_type": "code",
      "metadata": {
        "colab": {
          "base_uri": "https://localhost:8080/"
        },
        "id": "zWAID3DT7f7A",
        "outputId": "ecc5616a-5dd5-49ea-aab8-9899c626094e"
      },
      "source": [
        "%%R\n",
        "head(mat)"
      ],
      "execution_count": null,
      "outputs": [
        {
          "output_type": "stream",
          "name": "stdout",
          "text": [
            "  ID 성별   동아리 진로 의욕 사전점수 국어 사회 수학 과학 영어 사후점수\n",
            "1  1    F   무소속 문과   54      269   59   62   58   55   53      287\n",
            "2  2    F 인문계열 문과   25      162   49   53   62   53   55      272\n",
            "3  3    M 인문계열 문과   25      123   43   43   37   32   37      192\n",
            "4  4    F   무소속 문과   48      176   63   49   54   40   52      258\n",
            " [ reached 'max' / getOption(\"max.print\") -- omitted 2 rows ]\n"
          ]
        }
      ]
    },
    {
      "cell_type": "code",
      "metadata": {
        "colab": {
          "base_uri": "https://localhost:8080/",
          "height": 497
        },
        "id": "PFaPZzSF71T2",
        "outputId": "54d692ad-a84e-42b0-c2df-6da4831ba01c"
      },
      "source": [
        "%%R\n",
        "library(lattice)\n",
        "histogram(~사전점수|동아리, data=mat, breaks=15)"
      ],
      "execution_count": null,
      "outputs": [
        {
          "output_type": "display_data",
          "data": {
            "image/png": "[encoded data removed]"
          },
          "metadata": {}
        }
      ]
    },
    {
      "cell_type": "code",
      "metadata": {
        "colab": {
          "base_uri": "https://localhost:8080/",
          "height": 497
        },
        "id": "WSUzZE-h8Kx2",
        "outputId": "10dd0701-d97c-4a74-8d31-5496e9e99a8b"
      },
      "source": [
        "%%R\n",
        "boxplot(사전점수~동아리, data=mat, horizontal=TRUE)"
      ],
      "execution_count": null,
      "outputs": [
        {
          "output_type": "display_data",
          "data": {
            "image/png": "[encoded data removed]"
          },
          "metadata": {}
        }
      ]
    },
    {
      "cell_type": "code",
      "metadata": {
        "colab": {
          "base_uri": "https://localhost:8080/"
        },
        "id": "BsZ-hYSL8Qem",
        "outputId": "891ddf1b-7a9f-4132-ff3b-5ffeb43d4585"
      },
      "source": [
        "mat = pd.read_csv(\"/content/drive/MyDrive/st_data/제01장/학력조사결과.csv\", encoding='euc-kr')\n",
        "mat.shape"
      ],
      "execution_count": null,
      "outputs": [
        {
          "output_type": "execute_result",
          "data": {
            "text/plain": [
              "(800, 12)"
            ]
          },
          "metadata": {},
          "execution_count": 11
        }
      ]
    },
    {
      "cell_type": "code",
      "metadata": {
        "colab": {
          "base_uri": "https://localhost:8080/",
          "height": 204
        },
        "id": "ErcpmZmk8WHm",
        "outputId": "e6ec486d-f27d-4425-aa8e-15d8e7d43c01"
      },
      "source": [
        "mat.head()"
      ],
      "execution_count": null,
      "outputs": [
        {
          "output_type": "execute_result",
          "data": {
            "text/html": [
              "<div>\n",
              "<style scoped>\n",
              "    .dataframe tbody tr th:only-of-type {\n",
              "        vertical-align: middle;\n",
              "    }\n",
              "\n",
              "    .dataframe tbody tr th {\n",
              "        vertical-align: top;\n",
              "    }\n",
              "\n",
              "    .dataframe thead th {\n",
              "        text-align: right;\n",
              "    }\n",
              "</style>\n",
              "<table border=\"1\" class=\"dataframe\">\n",
              "  <thead>\n",
              "    <tr style=\"text-align: right;\">\n",
              "      <th></th>\n",
              "      <th>ID</th>\n",
              "      <th>성별</th>\n",
              "      <th>동아리</th>\n",
              "      <th>진로</th>\n",
              "      <th>의욕</th>\n",
              "      <th>사전점수</th>\n",
              "      <th>국어</th>\n",
              "      <th>사회</th>\n",
              "      <th>수학</th>\n",
              "      <th>과학</th>\n",
              "      <th>영어</th>\n",
              "      <th>사후점수</th>\n",
              "    </tr>\n",
              "  </thead>\n",
              "  <tbody>\n",
              "    <tr>\n",
              "      <th>0</th>\n",
              "      <td>1</td>\n",
              "      <td>F</td>\n",
              "      <td>무소속</td>\n",
              "      <td>문과</td>\n",
              "      <td>54</td>\n",
              "      <td>269</td>\n",
              "      <td>59</td>\n",
              "      <td>62</td>\n",
              "      <td>58</td>\n",
              "      <td>55</td>\n",
              "      <td>53</td>\n",
              "      <td>287</td>\n",
              "    </tr>\n",
              "    <tr>\n",
              "      <th>1</th>\n",
              "      <td>2</td>\n",
              "      <td>F</td>\n",
              "      <td>인문계열</td>\n",
              "      <td>문과</td>\n",
              "      <td>25</td>\n",
              "      <td>162</td>\n",
              "      <td>49</td>\n",
              "      <td>53</td>\n",
              "      <td>62</td>\n",
              "      <td>53</td>\n",
              "      <td>55</td>\n",
              "      <td>272</td>\n",
              "    </tr>\n",
              "    <tr>\n",
              "      <th>2</th>\n",
              "      <td>3</td>\n",
              "      <td>M</td>\n",
              "      <td>인문계열</td>\n",
              "      <td>문과</td>\n",
              "      <td>25</td>\n",
              "      <td>123</td>\n",
              "      <td>43</td>\n",
              "      <td>43</td>\n",
              "      <td>37</td>\n",
              "      <td>32</td>\n",
              "      <td>37</td>\n",
              "      <td>192</td>\n",
              "    </tr>\n",
              "    <tr>\n",
              "      <th>3</th>\n",
              "      <td>4</td>\n",
              "      <td>F</td>\n",
              "      <td>무소속</td>\n",
              "      <td>문과</td>\n",
              "      <td>48</td>\n",
              "      <td>176</td>\n",
              "      <td>63</td>\n",
              "      <td>49</td>\n",
              "      <td>54</td>\n",
              "      <td>40</td>\n",
              "      <td>52</td>\n",
              "      <td>258</td>\n",
              "    </tr>\n",
              "    <tr>\n",
              "      <th>4</th>\n",
              "      <td>5</td>\n",
              "      <td>M</td>\n",
              "      <td>체육계열</td>\n",
              "      <td>문과</td>\n",
              "      <td>41</td>\n",
              "      <td>172</td>\n",
              "      <td>55</td>\n",
              "      <td>56</td>\n",
              "      <td>40</td>\n",
              "      <td>58</td>\n",
              "      <td>44</td>\n",
              "      <td>253</td>\n",
              "    </tr>\n",
              "  </tbody>\n",
              "</table>\n",
              "</div>"
            ],
            "text/plain": [
              "   ID 성별   동아리  진로  의욕  사전점수  국어  사회  수학  과학  영어  사후점수\n",
              "0   1  F   무소속  문과  54   269  59  62  58  55  53   287\n",
              "1   2  F  인문계열  문과  25   162  49  53  62  53  55   272\n",
              "2   3  M  인문계열  문과  25   123  43  43  37  32  37   192\n",
              "3   4  F   무소속  문과  48   176  63  49  54  40  52   258\n",
              "4   5  M  체육계열  문과  41   172  55  56  40  58  44   253"
            ]
          },
          "metadata": {},
          "execution_count": 12
        }
      ]
    },
    {
      "cell_type": "code",
      "metadata": {
        "colab": {
          "base_uri": "https://localhost:8080/",
          "height": 225
        },
        "id": "9SLcU5o48XKW",
        "outputId": "ab3aa74a-711a-46bf-cf31-dba9881fc3e3"
      },
      "source": [
        "g = sns.FacetGrid(mat, col='동아리')\n",
        "g.map(sns.histplot, '사전점수', bins=20, stat='percent')\n",
        "plt.show()"
      ],
      "execution_count": null,
      "outputs": [
        {
          "output_type": "display_data",
          "data": {
            "image/png": "[encoded data removed]",
            "text/plain": [
              "<Figure size 648x216 with 3 Axes>"
            ]
          },
          "metadata": {
            "needs_background": "light"
          }
        }
      ]
    },
    {
      "cell_type": "code",
      "metadata": {
        "colab": {
          "base_uri": "https://localhost:8080/",
          "height": 277
        },
        "id": "mpwEh80K87y-",
        "outputId": "2d4efe77-ad89-41b1-d546-377bfb16a7b5"
      },
      "source": [
        "sns.boxplot(x='사전점수', y='동아리', data=mat)\n",
        "plt.show()"
      ],
      "execution_count": null,
      "outputs": [
        {
          "output_type": "display_data",
          "data": {
            "image/png": "[encoded data removed]",
            "text/plain": [
              "<Figure size 432x288 with 1 Axes>"
            ]
          },
          "metadata": {
            "needs_background": "light"
          }
        }
      ]
    },
    {
      "cell_type": "markdown",
      "metadata": {
        "id": "NWm3VoWD9XNN"
      },
      "source": [
        "# 2"
      ]
    },
    {
      "cell_type": "code",
      "metadata": {
        "colab": {
          "base_uri": "https://localhost:8080/"
        },
        "id": "IlmumAEe9Y1X",
        "outputId": "ccfd51f2-9ab4-4b80-a64e-e53831d0b007"
      },
      "source": [
        "%%R\n",
        "tapply(mat$사전점수, mat$동아리, mean)"
      ],
      "execution_count": null,
      "outputs": [
        {
          "output_type": "stream",
          "name": "stdout",
          "text": [
            "  무소속 인문계열 체육계열 \n",
            "183.5000 188.8655 182.6379 \n"
          ]
        }
      ]
    },
    {
      "cell_type": "code",
      "metadata": {
        "colab": {
          "base_uri": "https://localhost:8080/"
        },
        "id": "yZRtmLrB9eM-",
        "outputId": "62ddbfd2-191b-453e-dd0b-8408aa14bb25"
      },
      "source": [
        "%%R\n",
        "tapply(mat$사전점수, mat$동아리, median)"
      ],
      "execution_count": null,
      "outputs": [
        {
          "output_type": "stream",
          "name": "stdout",
          "text": [
            "  무소속 인문계열 체육계열 \n",
            "   185.5    186.5    180.0 \n"
          ]
        }
      ]
    },
    {
      "cell_type": "code",
      "metadata": {
        "colab": {
          "base_uri": "https://localhost:8080/"
        },
        "id": "wL7H88OJ9gYH",
        "outputId": "f23c2c04-1a93-4568-80eb-540cc62bb57c"
      },
      "source": [
        "%%R\n",
        "tapply(mat$사전점수, mat$동아리, sd)"
      ],
      "execution_count": null,
      "outputs": [
        {
          "output_type": "stream",
          "name": "stdout",
          "text": [
            "  무소속 인문계열 체육계열 \n",
            "49.18550 46.30607 51.48008 \n"
          ]
        }
      ]
    },
    {
      "cell_type": "code",
      "metadata": {
        "colab": {
          "base_uri": "https://localhost:8080/",
          "height": 173
        },
        "id": "Ejvl-tEB9ig_",
        "outputId": "ec686b64-660e-4a95-fb6d-64e9689a2ec8"
      },
      "source": [
        "mat['사전점수'].groupby(mat['동아리']).agg(['mean', 'median', 'std'])"
      ],
      "execution_count": null,
      "outputs": [
        {
          "output_type": "execute_result",
          "data": {
            "text/html": [
              "<div>\n",
              "<style scoped>\n",
              "    .dataframe tbody tr th:only-of-type {\n",
              "        vertical-align: middle;\n",
              "    }\n",
              "\n",
              "    .dataframe tbody tr th {\n",
              "        vertical-align: top;\n",
              "    }\n",
              "\n",
              "    .dataframe thead th {\n",
              "        text-align: right;\n",
              "    }\n",
              "</style>\n",
              "<table border=\"1\" class=\"dataframe\">\n",
              "  <thead>\n",
              "    <tr style=\"text-align: right;\">\n",
              "      <th></th>\n",
              "      <th>mean</th>\n",
              "      <th>median</th>\n",
              "      <th>std</th>\n",
              "    </tr>\n",
              "    <tr>\n",
              "      <th>동아리</th>\n",
              "      <th></th>\n",
              "      <th></th>\n",
              "      <th></th>\n",
              "    </tr>\n",
              "  </thead>\n",
              "  <tbody>\n",
              "    <tr>\n",
              "      <th>무소속</th>\n",
              "      <td>183.500000</td>\n",
              "      <td>185.5</td>\n",
              "      <td>49.185499</td>\n",
              "    </tr>\n",
              "    <tr>\n",
              "      <th>인문계열</th>\n",
              "      <td>188.865546</td>\n",
              "      <td>186.5</td>\n",
              "      <td>46.306068</td>\n",
              "    </tr>\n",
              "    <tr>\n",
              "      <th>체육계열</th>\n",
              "      <td>182.637860</td>\n",
              "      <td>180.0</td>\n",
              "      <td>51.480078</td>\n",
              "    </tr>\n",
              "  </tbody>\n",
              "</table>\n",
              "</div>"
            ],
            "text/plain": [
              "            mean  median        std\n",
              "동아리                                \n",
              "무소속   183.500000   185.5  49.185499\n",
              "인문계열  188.865546   186.5  46.306068\n",
              "체육계열  182.637860   180.0  51.480078"
            ]
          },
          "metadata": {},
          "execution_count": 18
        }
      ]
    },
    {
      "cell_type": "markdown",
      "metadata": {
        "id": "cxugfz3q9wYH"
      },
      "source": [
        "# 3"
      ]
    },
    {
      "cell_type": "code",
      "metadata": {
        "colab": {
          "base_uri": "https://localhost:8080/"
        },
        "id": "mlJRXdmX9xr9",
        "outputId": "f01cbd71-4508-48f7-aeed-e9889e00875b"
      },
      "source": [
        "%%R\n",
        "t.test(수학~성별, data=mat, var.equal=TRUE)"
      ],
      "execution_count": null,
      "outputs": [
        {
          "output_type": "stream",
          "name": "stdout",
          "text": [
            "\n",
            "\tTwo Sample t-test\n",
            "\n",
            "data:  수학 by 성별\n",
            "t = -0.30619, df = 798, p-value = 0.7595\n",
            "alternative hypothesis: true difference in means between group F and group M is not equal to 0\n",
            "95 percent confidence interval:\n",
            " -1.742079  1.271932\n",
            "sample estimates:\n",
            "mean in group F mean in group M \n",
            "       54.12879        54.36386 \n",
            "\n"
          ]
        }
      ]
    },
    {
      "cell_type": "code",
      "metadata": {
        "colab": {
          "base_uri": "https://localhost:8080/"
        },
        "id": "rmfvCiSqC8Kl",
        "outputId": "db4aa162-850c-4395-9202-11a759478cec"
      },
      "source": [
        "%%R\n",
        "female = mat[mat$성별=='F', '수학']\n",
        "male = mat[mat$성별=='M', '수학']\n",
        "\n",
        "effectd1 <- function(x1, x2, ci=0.95){\n",
        "    m1 = mean(x1)\n",
        "    m2 = mean(x2)\n",
        "    n1 = length(x1)\n",
        "    n2 = length(x2)\n",
        "    s1 = sd(x1)\n",
        "    s2 = sd(x2)\n",
        "    spooled = sqrt(((n1 - 1) * s1 ^ 2 + (n2 - 1) * s2 ^ 2) / (n1 + n2 - 2))\n",
        "    d = (m1 - m2) / spooled\n",
        "    return(d)\n",
        "}\n",
        "\n",
        "effectd1(female, male)"
      ],
      "execution_count": null,
      "outputs": [
        {
          "output_type": "stream",
          "name": "stdout",
          "text": [
            "[1] -0.02165224\n"
          ]
        }
      ]
    },
    {
      "cell_type": "code",
      "metadata": {
        "colab": {
          "base_uri": "https://localhost:8080/"
        },
        "id": "5fB9gVSp-DW2",
        "outputId": "36a63f41-d51e-489b-a92b-fd916853aa27"
      },
      "source": [
        "male = mat.loc[mat.성별 == 'M', '수학']\n",
        "female = mat.loc[mat.성별 == 'F', '수학']\n",
        "st.ttest_ind(female, male)"
      ],
      "execution_count": null,
      "outputs": [
        {
          "output_type": "execute_result",
          "data": {
            "text/plain": [
              "Ttest_indResult(statistic=-0.3061935630225848, pvalue=0.7595371390467393)"
            ]
          },
          "metadata": {},
          "execution_count": 21
        }
      ]
    },
    {
      "cell_type": "code",
      "metadata": {
        "colab": {
          "base_uri": "https://localhost:8080/"
        },
        "id": "l1vfM7W5D_TE",
        "outputId": "26a464b5-6ffd-4afe-b966-4f73d4fbd775"
      },
      "source": [
        "def effectd1(x1, x2, ci=0.95):\n",
        "  n1, n2 = len(x1), len(x2)\n",
        "  m1, m2 = x1.mean(), x2.mean()\n",
        "  s1, s2 = x1.std(), x2.std()\n",
        "  spooled = np.sqrt(((n1 - 1) * (s1**2) + (n2 - 1) * (s2**2)) / (n1+n2-2))\n",
        "  d = (m1 - m2) / spooled\n",
        "  return d\n",
        "effectd1(female, male)"
      ],
      "execution_count": null,
      "outputs": [
        {
          "output_type": "execute_result",
          "data": {
            "text/plain": [
              "-0.021652237115816455"
            ]
          },
          "metadata": {},
          "execution_count": 22
        }
      ]
    },
    {
      "cell_type": "code",
      "metadata": {
        "colab": {
          "base_uri": "https://localhost:8080/"
        },
        "id": "g2JgRBHFEYeM",
        "outputId": "bb8bd9e6-6010-4540-a930-45abe1776b47"
      },
      "source": [
        "female.std()"
      ],
      "execution_count": null,
      "outputs": [
        {
          "output_type": "execute_result",
          "data": {
            "text/plain": [
              "10.667166211451798"
            ]
          },
          "metadata": {},
          "execution_count": 23
        }
      ]
    },
    {
      "cell_type": "markdown",
      "metadata": {
        "id": "twqOPaYzCpA9"
      },
      "source": [
        "5% 수준에서 수학 평균에 성별 차이는 나타나지 않았다.\n",
        "\n",
        "$t(798) = -0.306, d= 0.022$\n",
        "\n",
        "confidence interval은 '일단은' 생략한다. 바인더 가지고 연구 좀 해보자."
      ]
    },
    {
      "cell_type": "code",
      "metadata": {
        "colab": {
          "base_uri": "https://localhost:8080/",
          "height": 80
        },
        "id": "bFWmCxtWFLtc",
        "outputId": "336d53b0-5455-4574-9495-379214416e09"
      },
      "source": [
        "pg.ttest(male, female)"
      ],
      "execution_count": null,
      "outputs": [
        {
          "output_type": "execute_result",
          "data": {
            "text/html": [
              "<div>\n",
              "<style scoped>\n",
              "    .dataframe tbody tr th:only-of-type {\n",
              "        vertical-align: middle;\n",
              "    }\n",
              "\n",
              "    .dataframe tbody tr th {\n",
              "        vertical-align: top;\n",
              "    }\n",
              "\n",
              "    .dataframe thead th {\n",
              "        text-align: right;\n",
              "    }\n",
              "</style>\n",
              "<table border=\"1\" class=\"dataframe\">\n",
              "  <thead>\n",
              "    <tr style=\"text-align: right;\">\n",
              "      <th></th>\n",
              "      <th>T</th>\n",
              "      <th>dof</th>\n",
              "      <th>alternative</th>\n",
              "      <th>p-val</th>\n",
              "      <th>CI95%</th>\n",
              "      <th>cohen-d</th>\n",
              "      <th>BF10</th>\n",
              "      <th>power</th>\n",
              "    </tr>\n",
              "  </thead>\n",
              "  <tbody>\n",
              "    <tr>\n",
              "      <th>T-test</th>\n",
              "      <td>0.306299</td>\n",
              "      <td>797.837385</td>\n",
              "      <td>two-sided</td>\n",
              "      <td>0.759457</td>\n",
              "      <td>[-1.27, 1.74]</td>\n",
              "      <td>0.021652</td>\n",
              "      <td>0.083</td>\n",
              "      <td>0.060782</td>\n",
              "    </tr>\n",
              "  </tbody>\n",
              "</table>\n",
              "</div>"
            ],
            "text/plain": [
              "               T         dof alternative  ...   cohen-d   BF10     power\n",
              "T-test  0.306299  797.837385   two-sided  ...  0.021652  0.083  0.060782\n",
              "\n",
              "[1 rows x 8 columns]"
            ]
          },
          "metadata": {},
          "execution_count": 24
        }
      ]
    },
    {
      "cell_type": "code",
      "metadata": {
        "colab": {
          "base_uri": "https://localhost:8080/",
          "height": 35
        },
        "id": "zppZtpEKFgWE",
        "outputId": "b1f8e573-491a-4bc7-9d42-4cf696cd7593"
      },
      "source": [
        "import scipy\n",
        "scipy.__version__"
      ],
      "execution_count": null,
      "outputs": [
        {
          "output_type": "execute_result",
          "data": {
            "application/vnd.google.colaboratory.intrinsic+json": {
              "type": "string"
            },
            "text/plain": [
              "'1.7.2'"
            ]
          },
          "metadata": {},
          "execution_count": 25
        }
      ]
    },
    {
      "cell_type": "markdown",
      "metadata": {
        "id": "pbCOCvUb-_W3"
      },
      "source": [
        "# 4"
      ]
    },
    {
      "cell_type": "code",
      "metadata": {
        "colab": {
          "base_uri": "https://localhost:8080/",
          "height": 419
        },
        "id": "wnoCqBox_DKm",
        "outputId": "1f4d7037-3124-4703-bf31-897c59fc9b88"
      },
      "source": [
        "mat"
      ],
      "execution_count": null,
      "outputs": [
        {
          "output_type": "execute_result",
          "data": {
            "text/html": [
              "<div>\n",
              "<style scoped>\n",
              "    .dataframe tbody tr th:only-of-type {\n",
              "        vertical-align: middle;\n",
              "    }\n",
              "\n",
              "    .dataframe tbody tr th {\n",
              "        vertical-align: top;\n",
              "    }\n",
              "\n",
              "    .dataframe thead th {\n",
              "        text-align: right;\n",
              "    }\n",
              "</style>\n",
              "<table border=\"1\" class=\"dataframe\">\n",
              "  <thead>\n",
              "    <tr style=\"text-align: right;\">\n",
              "      <th></th>\n",
              "      <th>ID</th>\n",
              "      <th>성별</th>\n",
              "      <th>동아리</th>\n",
              "      <th>진로</th>\n",
              "      <th>의욕</th>\n",
              "      <th>사전점수</th>\n",
              "      <th>국어</th>\n",
              "      <th>사회</th>\n",
              "      <th>수학</th>\n",
              "      <th>과학</th>\n",
              "      <th>영어</th>\n",
              "      <th>사후점수</th>\n",
              "    </tr>\n",
              "  </thead>\n",
              "  <tbody>\n",
              "    <tr>\n",
              "      <th>0</th>\n",
              "      <td>1</td>\n",
              "      <td>F</td>\n",
              "      <td>무소속</td>\n",
              "      <td>문과</td>\n",
              "      <td>54</td>\n",
              "      <td>269</td>\n",
              "      <td>59</td>\n",
              "      <td>62</td>\n",
              "      <td>58</td>\n",
              "      <td>55</td>\n",
              "      <td>53</td>\n",
              "      <td>287</td>\n",
              "    </tr>\n",
              "    <tr>\n",
              "      <th>1</th>\n",
              "      <td>2</td>\n",
              "      <td>F</td>\n",
              "      <td>인문계열</td>\n",
              "      <td>문과</td>\n",
              "      <td>25</td>\n",
              "      <td>162</td>\n",
              "      <td>49</td>\n",
              "      <td>53</td>\n",
              "      <td>62</td>\n",
              "      <td>53</td>\n",
              "      <td>55</td>\n",
              "      <td>272</td>\n",
              "    </tr>\n",
              "    <tr>\n",
              "      <th>2</th>\n",
              "      <td>3</td>\n",
              "      <td>M</td>\n",
              "      <td>인문계열</td>\n",
              "      <td>문과</td>\n",
              "      <td>25</td>\n",
              "      <td>123</td>\n",
              "      <td>43</td>\n",
              "      <td>43</td>\n",
              "      <td>37</td>\n",
              "      <td>32</td>\n",
              "      <td>37</td>\n",
              "      <td>192</td>\n",
              "    </tr>\n",
              "    <tr>\n",
              "      <th>3</th>\n",
              "      <td>4</td>\n",
              "      <td>F</td>\n",
              "      <td>무소속</td>\n",
              "      <td>문과</td>\n",
              "      <td>48</td>\n",
              "      <td>176</td>\n",
              "      <td>63</td>\n",
              "      <td>49</td>\n",
              "      <td>54</td>\n",
              "      <td>40</td>\n",
              "      <td>52</td>\n",
              "      <td>258</td>\n",
              "    </tr>\n",
              "    <tr>\n",
              "      <th>4</th>\n",
              "      <td>5</td>\n",
              "      <td>M</td>\n",
              "      <td>체육계열</td>\n",
              "      <td>문과</td>\n",
              "      <td>41</td>\n",
              "      <td>172</td>\n",
              "      <td>55</td>\n",
              "      <td>56</td>\n",
              "      <td>40</td>\n",
              "      <td>58</td>\n",
              "      <td>44</td>\n",
              "      <td>253</td>\n",
              "    </tr>\n",
              "    <tr>\n",
              "      <th>...</th>\n",
              "      <td>...</td>\n",
              "      <td>...</td>\n",
              "      <td>...</td>\n",
              "      <td>...</td>\n",
              "      <td>...</td>\n",
              "      <td>...</td>\n",
              "      <td>...</td>\n",
              "      <td>...</td>\n",
              "      <td>...</td>\n",
              "      <td>...</td>\n",
              "      <td>...</td>\n",
              "      <td>...</td>\n",
              "    </tr>\n",
              "    <tr>\n",
              "      <th>795</th>\n",
              "      <td>796</td>\n",
              "      <td>M</td>\n",
              "      <td>무소속</td>\n",
              "      <td>문과</td>\n",
              "      <td>43</td>\n",
              "      <td>177</td>\n",
              "      <td>48</td>\n",
              "      <td>47</td>\n",
              "      <td>41</td>\n",
              "      <td>47</td>\n",
              "      <td>40</td>\n",
              "      <td>223</td>\n",
              "    </tr>\n",
              "    <tr>\n",
              "      <th>796</th>\n",
              "      <td>797</td>\n",
              "      <td>M</td>\n",
              "      <td>체육계열</td>\n",
              "      <td>이과</td>\n",
              "      <td>39</td>\n",
              "      <td>68</td>\n",
              "      <td>48</td>\n",
              "      <td>42</td>\n",
              "      <td>52</td>\n",
              "      <td>45</td>\n",
              "      <td>59</td>\n",
              "      <td>246</td>\n",
              "    </tr>\n",
              "    <tr>\n",
              "      <th>797</th>\n",
              "      <td>798</td>\n",
              "      <td>F</td>\n",
              "      <td>체육계열</td>\n",
              "      <td>문과</td>\n",
              "      <td>44</td>\n",
              "      <td>244</td>\n",
              "      <td>62</td>\n",
              "      <td>62</td>\n",
              "      <td>58</td>\n",
              "      <td>37</td>\n",
              "      <td>65</td>\n",
              "      <td>284</td>\n",
              "    </tr>\n",
              "    <tr>\n",
              "      <th>798</th>\n",
              "      <td>799</td>\n",
              "      <td>F</td>\n",
              "      <td>체육계열</td>\n",
              "      <td>이과</td>\n",
              "      <td>57</td>\n",
              "      <td>135</td>\n",
              "      <td>33</td>\n",
              "      <td>47</td>\n",
              "      <td>62</td>\n",
              "      <td>56</td>\n",
              "      <td>52</td>\n",
              "      <td>250</td>\n",
              "    </tr>\n",
              "    <tr>\n",
              "      <th>799</th>\n",
              "      <td>800</td>\n",
              "      <td>M</td>\n",
              "      <td>인문계열</td>\n",
              "      <td>문과</td>\n",
              "      <td>54</td>\n",
              "      <td>141</td>\n",
              "      <td>49</td>\n",
              "      <td>46</td>\n",
              "      <td>50</td>\n",
              "      <td>34</td>\n",
              "      <td>55</td>\n",
              "      <td>234</td>\n",
              "    </tr>\n",
              "  </tbody>\n",
              "</table>\n",
              "<p>800 rows × 12 columns</p>\n",
              "</div>"
            ],
            "text/plain": [
              "      ID 성별   동아리  진로  의욕  사전점수  국어  사회  수학  과학  영어  사후점수\n",
              "0      1  F   무소속  문과  54   269  59  62  58  55  53   287\n",
              "1      2  F  인문계열  문과  25   162  49  53  62  53  55   272\n",
              "2      3  M  인문계열  문과  25   123  43  43  37  32  37   192\n",
              "3      4  F   무소속  문과  48   176  63  49  54  40  52   258\n",
              "4      5  M  체육계열  문과  41   172  55  56  40  58  44   253\n",
              "..   ... ..   ...  ..  ..   ...  ..  ..  ..  ..  ..   ...\n",
              "795  796  M   무소속  문과  43   177  48  47  41  47  40   223\n",
              "796  797  M  체육계열  이과  39    68  48  42  52  45  59   246\n",
              "797  798  F  체육계열  문과  44   244  62  62  58  37  65   284\n",
              "798  799  F  체육계열  이과  57   135  33  47  62  56  52   250\n",
              "799  800  M  인문계열  문과  54   141  49  46  50  34  55   234\n",
              "\n",
              "[800 rows x 12 columns]"
            ]
          },
          "metadata": {},
          "execution_count": 26
        }
      ]
    },
    {
      "cell_type": "code",
      "metadata": {
        "colab": {
          "base_uri": "https://localhost:8080/"
        },
        "id": "dbP56AHM_AHn",
        "outputId": "34cce64f-ab6b-4831-b7ed-0b9dbb4327e2"
      },
      "source": [
        "%%R\n",
        "scores <- c('사전점수', '사후점수')\n",
        "goukei <- apply(mat[, scores], 1, sum)\n",
        "goukei"
      ],
      "execution_count": null,
      "outputs": [
        {
          "output_type": "stream",
          "name": "stdout",
          "text": [
            " [1] 556 434 315 434 425 325 439 553 512 457 361 474 422 538 438 274 426 614 418\n",
            "[20] 499 560 463 561 460 464 573 289 449 482 333 350 488 403 430 376 399 316 516\n",
            "[39] 458 474 433 466 556 289 384 547 481 518 431 411\n",
            " [ reached getOption(\"max.print\") -- omitted 750 entries ]\n"
          ]
        }
      ]
    },
    {
      "cell_type": "code",
      "metadata": {
        "colab": {
          "base_uri": "https://localhost:8080/"
        },
        "id": "IDRbynCV_Tst",
        "outputId": "3593227e-3f35-485b-a021-a81eca3a769e"
      },
      "source": [
        "scores = ['사전점수', '사후점수']\n",
        "goukei = mat[scores].sum(axis=1)\n",
        "goukei"
      ],
      "execution_count": null,
      "outputs": [
        {
          "output_type": "execute_result",
          "data": {
            "text/plain": [
              "0      556\n",
              "1      434\n",
              "2      315\n",
              "3      434\n",
              "4      425\n",
              "      ... \n",
              "795    400\n",
              "796    314\n",
              "797    528\n",
              "798    385\n",
              "799    375\n",
              "Length: 800, dtype: int64"
            ]
          },
          "metadata": {},
          "execution_count": 28
        }
      ]
    },
    {
      "cell_type": "markdown",
      "metadata": {
        "id": "Og1CmaeV_cCc"
      },
      "source": [
        "# 5"
      ]
    },
    {
      "cell_type": "code",
      "metadata": {
        "colab": {
          "base_uri": "https://localhost:8080/"
        },
        "id": "JX-hv6XC_dDV",
        "outputId": "98a488c7-63af-4395-8e84-8360d2b47255"
      },
      "source": [
        "%%R\n",
        "spre1 <- scale(mat$사전점수)\n",
        "head(spre1)"
      ],
      "execution_count": null,
      "outputs": [
        {
          "output_type": "stream",
          "name": "stdout",
          "text": [
            "           [,1]\n",
            "[1,]  1.6954529\n",
            "[2,] -0.4532956\n",
            "[3,] -1.2364842\n",
            "[4,] -0.1721509\n",
            "[5,] -0.2524779\n",
            "[6,] -0.8950943\n"
          ]
        }
      ]
    },
    {
      "cell_type": "code",
      "metadata": {
        "colab": {
          "base_uri": "https://localhost:8080/",
          "height": 497
        },
        "id": "Slj09hcF_lPN",
        "outputId": "c8779581-054f-4709-c135-a1164b2f0a00"
      },
      "source": [
        "%%R\n",
        "plot(mat$사전점수, spre1)"
      ],
      "execution_count": null,
      "outputs": [
        {
          "output_type": "display_data",
          "data": {
            "image/png": "[encoded data removed]"
          },
          "metadata": {}
        }
      ]
    },
    {
      "cell_type": "code",
      "metadata": {
        "colab": {
          "base_uri": "https://localhost:8080/"
        },
        "id": "dRE5mhQU_pZ9",
        "outputId": "fb6055c6-de26-4387-b1b0-ecf346f1a17d"
      },
      "source": [
        "%%R\n",
        "cor(mat$사전점수, spre1)"
      ],
      "execution_count": null,
      "outputs": [
        {
          "output_type": "stream",
          "name": "stdout",
          "text": [
            "     [,1]\n",
            "[1,]    1\n"
          ]
        }
      ]
    },
    {
      "cell_type": "code",
      "metadata": {
        "colab": {
          "base_uri": "https://localhost:8080/"
        },
        "id": "lVmzPh3XAfMW",
        "outputId": "de54bcba-bf81-4598-ae25-4c9f49efd704"
      },
      "source": [
        "spre1 = (mat['사전점수'] - mat['사전점수'].mean()) / mat['사전점수'].std()\n",
        "spre1"
      ],
      "execution_count": null,
      "outputs": [
        {
          "output_type": "execute_result",
          "data": {
            "text/plain": [
              "0      1.695453\n",
              "1     -0.453296\n",
              "2     -1.236484\n",
              "3     -0.172151\n",
              "4     -0.252478\n",
              "         ...   \n",
              "795   -0.152069\n",
              "796   -2.340981\n",
              "797    1.193409\n",
              "798   -0.995503\n",
              "799   -0.875013\n",
              "Name: 사전점수, Length: 800, dtype: float64"
            ]
          },
          "metadata": {},
          "execution_count": 32
        }
      ]
    },
    {
      "cell_type": "code",
      "metadata": {
        "colab": {
          "base_uri": "https://localhost:8080/",
          "height": 280
        },
        "id": "r1ZB07KSAsld",
        "outputId": "264b1235-a32c-4040-eeb2-ca64c60ba0d9"
      },
      "source": [
        "sns.scatterplot(x=mat.사전점수, y=spre1)\n",
        "plt.show()"
      ],
      "execution_count": null,
      "outputs": [
        {
          "output_type": "display_data",
          "data": {
            "image/png": "[encoded data removed]",
            "text/plain": [
              "<Figure size 432x288 with 1 Axes>"
            ]
          },
          "metadata": {
            "needs_background": "light"
          }
        }
      ]
    },
    {
      "cell_type": "code",
      "metadata": {
        "colab": {
          "base_uri": "https://localhost:8080/"
        },
        "id": "PuNoEtUMA7O-",
        "outputId": "b5371d40-9b02-45a8-914b-0e552f3c93ac"
      },
      "source": [
        "mat.사전점수.corr(spre1)"
      ],
      "execution_count": null,
      "outputs": [
        {
          "output_type": "execute_result",
          "data": {
            "text/plain": [
              "1.0"
            ]
          },
          "metadata": {},
          "execution_count": 34
        }
      ]
    },
    {
      "cell_type": "markdown",
      "metadata": {
        "id": "4Wy-oJU4_4h-"
      },
      "source": [
        "표준화되기 전의 분포와 표준화된 후의 분포의 상관계수는 1이다. 그러니까 순서가 같다.\n",
        "\n",
        "분포의 원점과 단위가 바뀌지만, 데이터 간 상대적 위치 관계는 변하지 않는다.\n"
      ]
    },
    {
      "cell_type": "markdown",
      "metadata": {
        "id": "nW-FS7R0ALKl"
      },
      "source": [
        "# 6"
      ]
    },
    {
      "cell_type": "code",
      "metadata": {
        "colab": {
          "base_uri": "https://localhost:8080/",
          "height": 419
        },
        "id": "m8urghKyBCAU",
        "outputId": "065504a4-d1c9-432a-cb60-c4a862f31cb9"
      },
      "source": [
        "mat"
      ],
      "execution_count": null,
      "outputs": [
        {
          "output_type": "execute_result",
          "data": {
            "text/html": [
              "<div>\n",
              "<style scoped>\n",
              "    .dataframe tbody tr th:only-of-type {\n",
              "        vertical-align: middle;\n",
              "    }\n",
              "\n",
              "    .dataframe tbody tr th {\n",
              "        vertical-align: top;\n",
              "    }\n",
              "\n",
              "    .dataframe thead th {\n",
              "        text-align: right;\n",
              "    }\n",
              "</style>\n",
              "<table border=\"1\" class=\"dataframe\">\n",
              "  <thead>\n",
              "    <tr style=\"text-align: right;\">\n",
              "      <th></th>\n",
              "      <th>ID</th>\n",
              "      <th>성별</th>\n",
              "      <th>동아리</th>\n",
              "      <th>진로</th>\n",
              "      <th>의욕</th>\n",
              "      <th>사전점수</th>\n",
              "      <th>국어</th>\n",
              "      <th>사회</th>\n",
              "      <th>수학</th>\n",
              "      <th>과학</th>\n",
              "      <th>영어</th>\n",
              "      <th>사후점수</th>\n",
              "    </tr>\n",
              "  </thead>\n",
              "  <tbody>\n",
              "    <tr>\n",
              "      <th>0</th>\n",
              "      <td>1</td>\n",
              "      <td>F</td>\n",
              "      <td>무소속</td>\n",
              "      <td>문과</td>\n",
              "      <td>54</td>\n",
              "      <td>269</td>\n",
              "      <td>59</td>\n",
              "      <td>62</td>\n",
              "      <td>58</td>\n",
              "      <td>55</td>\n",
              "      <td>53</td>\n",
              "      <td>287</td>\n",
              "    </tr>\n",
              "    <tr>\n",
              "      <th>1</th>\n",
              "      <td>2</td>\n",
              "      <td>F</td>\n",
              "      <td>인문계열</td>\n",
              "      <td>문과</td>\n",
              "      <td>25</td>\n",
              "      <td>162</td>\n",
              "      <td>49</td>\n",
              "      <td>53</td>\n",
              "      <td>62</td>\n",
              "      <td>53</td>\n",
              "      <td>55</td>\n",
              "      <td>272</td>\n",
              "    </tr>\n",
              "    <tr>\n",
              "      <th>2</th>\n",
              "      <td>3</td>\n",
              "      <td>M</td>\n",
              "      <td>인문계열</td>\n",
              "      <td>문과</td>\n",
              "      <td>25</td>\n",
              "      <td>123</td>\n",
              "      <td>43</td>\n",
              "      <td>43</td>\n",
              "      <td>37</td>\n",
              "      <td>32</td>\n",
              "      <td>37</td>\n",
              "      <td>192</td>\n",
              "    </tr>\n",
              "    <tr>\n",
              "      <th>3</th>\n",
              "      <td>4</td>\n",
              "      <td>F</td>\n",
              "      <td>무소속</td>\n",
              "      <td>문과</td>\n",
              "      <td>48</td>\n",
              "      <td>176</td>\n",
              "      <td>63</td>\n",
              "      <td>49</td>\n",
              "      <td>54</td>\n",
              "      <td>40</td>\n",
              "      <td>52</td>\n",
              "      <td>258</td>\n",
              "    </tr>\n",
              "    <tr>\n",
              "      <th>4</th>\n",
              "      <td>5</td>\n",
              "      <td>M</td>\n",
              "      <td>체육계열</td>\n",
              "      <td>문과</td>\n",
              "      <td>41</td>\n",
              "      <td>172</td>\n",
              "      <td>55</td>\n",
              "      <td>56</td>\n",
              "      <td>40</td>\n",
              "      <td>58</td>\n",
              "      <td>44</td>\n",
              "      <td>253</td>\n",
              "    </tr>\n",
              "    <tr>\n",
              "      <th>...</th>\n",
              "      <td>...</td>\n",
              "      <td>...</td>\n",
              "      <td>...</td>\n",
              "      <td>...</td>\n",
              "      <td>...</td>\n",
              "      <td>...</td>\n",
              "      <td>...</td>\n",
              "      <td>...</td>\n",
              "      <td>...</td>\n",
              "      <td>...</td>\n",
              "      <td>...</td>\n",
              "      <td>...</td>\n",
              "    </tr>\n",
              "    <tr>\n",
              "      <th>795</th>\n",
              "      <td>796</td>\n",
              "      <td>M</td>\n",
              "      <td>무소속</td>\n",
              "      <td>문과</td>\n",
              "      <td>43</td>\n",
              "      <td>177</td>\n",
              "      <td>48</td>\n",
              "      <td>47</td>\n",
              "      <td>41</td>\n",
              "      <td>47</td>\n",
              "      <td>40</td>\n",
              "      <td>223</td>\n",
              "    </tr>\n",
              "    <tr>\n",
              "      <th>796</th>\n",
              "      <td>797</td>\n",
              "      <td>M</td>\n",
              "      <td>체육계열</td>\n",
              "      <td>이과</td>\n",
              "      <td>39</td>\n",
              "      <td>68</td>\n",
              "      <td>48</td>\n",
              "      <td>42</td>\n",
              "      <td>52</td>\n",
              "      <td>45</td>\n",
              "      <td>59</td>\n",
              "      <td>246</td>\n",
              "    </tr>\n",
              "    <tr>\n",
              "      <th>797</th>\n",
              "      <td>798</td>\n",
              "      <td>F</td>\n",
              "      <td>체육계열</td>\n",
              "      <td>문과</td>\n",
              "      <td>44</td>\n",
              "      <td>244</td>\n",
              "      <td>62</td>\n",
              "      <td>62</td>\n",
              "      <td>58</td>\n",
              "      <td>37</td>\n",
              "      <td>65</td>\n",
              "      <td>284</td>\n",
              "    </tr>\n",
              "    <tr>\n",
              "      <th>798</th>\n",
              "      <td>799</td>\n",
              "      <td>F</td>\n",
              "      <td>체육계열</td>\n",
              "      <td>이과</td>\n",
              "      <td>57</td>\n",
              "      <td>135</td>\n",
              "      <td>33</td>\n",
              "      <td>47</td>\n",
              "      <td>62</td>\n",
              "      <td>56</td>\n",
              "      <td>52</td>\n",
              "      <td>250</td>\n",
              "    </tr>\n",
              "    <tr>\n",
              "      <th>799</th>\n",
              "      <td>800</td>\n",
              "      <td>M</td>\n",
              "      <td>인문계열</td>\n",
              "      <td>문과</td>\n",
              "      <td>54</td>\n",
              "      <td>141</td>\n",
              "      <td>49</td>\n",
              "      <td>46</td>\n",
              "      <td>50</td>\n",
              "      <td>34</td>\n",
              "      <td>55</td>\n",
              "      <td>234</td>\n",
              "    </tr>\n",
              "  </tbody>\n",
              "</table>\n",
              "<p>800 rows × 12 columns</p>\n",
              "</div>"
            ],
            "text/plain": [
              "      ID 성별   동아리  진로  의욕  사전점수  국어  사회  수학  과학  영어  사후점수\n",
              "0      1  F   무소속  문과  54   269  59  62  58  55  53   287\n",
              "1      2  F  인문계열  문과  25   162  49  53  62  53  55   272\n",
              "2      3  M  인문계열  문과  25   123  43  43  37  32  37   192\n",
              "3      4  F   무소속  문과  48   176  63  49  54  40  52   258\n",
              "4      5  M  체육계열  문과  41   172  55  56  40  58  44   253\n",
              "..   ... ..   ...  ..  ..   ...  ..  ..  ..  ..  ..   ...\n",
              "795  796  M   무소속  문과  43   177  48  47  41  47  40   223\n",
              "796  797  M  체육계열  이과  39    68  48  42  52  45  59   246\n",
              "797  798  F  체육계열  문과  44   244  62  62  58  37  65   284\n",
              "798  799  F  체육계열  이과  57   135  33  47  62  56  52   250\n",
              "799  800  M  인문계열  문과  54   141  49  46  50  34  55   234\n",
              "\n",
              "[800 rows x 12 columns]"
            ]
          },
          "metadata": {},
          "execution_count": 35
        }
      ]
    },
    {
      "cell_type": "code",
      "metadata": {
        "colab": {
          "base_uri": "https://localhost:8080/"
        },
        "id": "IEaEcU4tAbsm",
        "outputId": "ac5b62e8-e004-43a1-fadc-40512bf30bbd"
      },
      "source": [
        "%%R\n",
        "library(psych)\n",
        "partial.r(mat, c('국어', '사회', '영어'), c('사전점수', '사후점수'))"
      ],
      "execution_count": null,
      "outputs": [
        {
          "output_type": "stream",
          "name": "stdout",
          "text": [
            "partial correlations \n",
            "      국어  사회  영어\n",
            "국어  1.00  0.02 -0.28\n",
            "사회  0.02  1.00 -0.13\n",
            "영어 -0.28 -0.13  1.00\n"
          ]
        }
      ]
    },
    {
      "cell_type": "code",
      "metadata": {
        "colab": {
          "base_uri": "https://localhost:8080/",
          "height": 80
        },
        "id": "FRDdJs8wBV_V",
        "outputId": "35476fc2-98a5-41c7-b726-58bc04e2437e"
      },
      "source": [
        "pg.partial_corr(data=mat, x='국어', y='사회', covar=['사전점수', '사후점수'])"
      ],
      "execution_count": null,
      "outputs": [
        {
          "output_type": "execute_result",
          "data": {
            "text/html": [
              "<div>\n",
              "<style scoped>\n",
              "    .dataframe tbody tr th:only-of-type {\n",
              "        vertical-align: middle;\n",
              "    }\n",
              "\n",
              "    .dataframe tbody tr th {\n",
              "        vertical-align: top;\n",
              "    }\n",
              "\n",
              "    .dataframe thead th {\n",
              "        text-align: right;\n",
              "    }\n",
              "</style>\n",
              "<table border=\"1\" class=\"dataframe\">\n",
              "  <thead>\n",
              "    <tr style=\"text-align: right;\">\n",
              "      <th></th>\n",
              "      <th>n</th>\n",
              "      <th>r</th>\n",
              "      <th>CI95%</th>\n",
              "      <th>p-val</th>\n",
              "    </tr>\n",
              "  </thead>\n",
              "  <tbody>\n",
              "    <tr>\n",
              "      <th>pearson</th>\n",
              "      <td>800</td>\n",
              "      <td>0.017786</td>\n",
              "      <td>[-0.05, 0.09]</td>\n",
              "      <td>0.615898</td>\n",
              "    </tr>\n",
              "  </tbody>\n",
              "</table>\n",
              "</div>"
            ],
            "text/plain": [
              "           n         r          CI95%     p-val\n",
              "pearson  800  0.017786  [-0.05, 0.09]  0.615898"
            ]
          },
          "metadata": {},
          "execution_count": 37
        }
      ]
    },
    {
      "cell_type": "code",
      "metadata": {
        "colab": {
          "base_uri": "https://localhost:8080/",
          "height": 80
        },
        "id": "ZiIz1LAtCcYd",
        "outputId": "2a10dcdf-b65e-4a43-fdb3-08fe67b0ff7a"
      },
      "source": [
        "pg.partial_corr(data=mat, x='국어', y='영어', covar=['사전점수', '사후점수'])"
      ],
      "execution_count": null,
      "outputs": [
        {
          "output_type": "execute_result",
          "data": {
            "text/html": [
              "<div>\n",
              "<style scoped>\n",
              "    .dataframe tbody tr th:only-of-type {\n",
              "        vertical-align: middle;\n",
              "    }\n",
              "\n",
              "    .dataframe tbody tr th {\n",
              "        vertical-align: top;\n",
              "    }\n",
              "\n",
              "    .dataframe thead th {\n",
              "        text-align: right;\n",
              "    }\n",
              "</style>\n",
              "<table border=\"1\" class=\"dataframe\">\n",
              "  <thead>\n",
              "    <tr style=\"text-align: right;\">\n",
              "      <th></th>\n",
              "      <th>n</th>\n",
              "      <th>r</th>\n",
              "      <th>CI95%</th>\n",
              "      <th>p-val</th>\n",
              "    </tr>\n",
              "  </thead>\n",
              "  <tbody>\n",
              "    <tr>\n",
              "      <th>pearson</th>\n",
              "      <td>800</td>\n",
              "      <td>-0.27681</td>\n",
              "      <td>[-0.34, -0.21]</td>\n",
              "      <td>1.673157e-15</td>\n",
              "    </tr>\n",
              "  </tbody>\n",
              "</table>\n",
              "</div>"
            ],
            "text/plain": [
              "           n        r           CI95%         p-val\n",
              "pearson  800 -0.27681  [-0.34, -0.21]  1.673157e-15"
            ]
          },
          "metadata": {},
          "execution_count": 38
        }
      ]
    },
    {
      "cell_type": "code",
      "metadata": {
        "colab": {
          "base_uri": "https://localhost:8080/",
          "height": 80
        },
        "id": "P2m4d3lsCe6s",
        "outputId": "2ed5ce29-114b-4988-a901-b39f7acdd72c"
      },
      "source": [
        "pg.partial_corr(data=mat, x='사회', y='영어', covar=['사전점수', '사후점수'])"
      ],
      "execution_count": null,
      "outputs": [
        {
          "output_type": "execute_result",
          "data": {
            "text/html": [
              "<div>\n",
              "<style scoped>\n",
              "    .dataframe tbody tr th:only-of-type {\n",
              "        vertical-align: middle;\n",
              "    }\n",
              "\n",
              "    .dataframe tbody tr th {\n",
              "        vertical-align: top;\n",
              "    }\n",
              "\n",
              "    .dataframe thead th {\n",
              "        text-align: right;\n",
              "    }\n",
              "</style>\n",
              "<table border=\"1\" class=\"dataframe\">\n",
              "  <thead>\n",
              "    <tr style=\"text-align: right;\">\n",
              "      <th></th>\n",
              "      <th>n</th>\n",
              "      <th>r</th>\n",
              "      <th>CI95%</th>\n",
              "      <th>p-val</th>\n",
              "    </tr>\n",
              "  </thead>\n",
              "  <tbody>\n",
              "    <tr>\n",
              "      <th>pearson</th>\n",
              "      <td>800</td>\n",
              "      <td>-0.126203</td>\n",
              "      <td>[-0.19, -0.06]</td>\n",
              "      <td>0.000352</td>\n",
              "    </tr>\n",
              "  </tbody>\n",
              "</table>\n",
              "</div>"
            ],
            "text/plain": [
              "           n         r           CI95%     p-val\n",
              "pearson  800 -0.126203  [-0.19, -0.06]  0.000352"
            ]
          },
          "metadata": {},
          "execution_count": 39
        }
      ]
    }
  ]
}