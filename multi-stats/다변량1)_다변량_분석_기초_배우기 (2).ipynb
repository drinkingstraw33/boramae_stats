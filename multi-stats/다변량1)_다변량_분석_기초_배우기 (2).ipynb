{
  "nbformat": 4,
  "nbformat_minor": 0,
  "metadata": {
    "colab": {
      "name": "다변량1) 다변량 분석 기초 배우기.ipynb",
      "provenance": [],
      "collapsed_sections": [
        "3GjhisrkGrPm",
        "NPlc6PW0JL9a",
        "rxCix0dLKIsg",
        "9D3eHAxoKq9T",
        "rzpKygzNSnXj",
        "DPMkOAExeSt9"
      ]
    },
    "kernelspec": {
      "name": "python3",
      "display_name": "Python 3"
    },
    "language_info": {
      "name": "python"
    }
  },
  "cells": [
    {
      "cell_type": "code",
      "metadata": {
        "id": "9pskIIICDVCS"
      },
      "source": [
        "%load_ext rpy2.ipython"
      ],
      "execution_count": null,
      "outputs": []
    },
    {
      "cell_type": "code",
      "metadata": {
        "id": "50BATh_aDoEQ"
      },
      "source": [
        "import numpy as np\n",
        "import pandas as pd\n",
        "import matplotlib.pyplot as plt\n",
        "import seaborn as sns\n",
        "import scipy.stats as st"
      ],
      "execution_count": null,
      "outputs": []
    },
    {
      "cell_type": "code",
      "metadata": {
        "id": "Vh-Plhbn8oYP"
      },
      "source": [
        "plt.rc('font', family='nanumgothic')"
      ],
      "execution_count": null,
      "outputs": []
    },
    {
      "cell_type": "code",
      "metadata": {
        "id": "e-sddo8xGGky",
        "colab": {
          "base_uri": "https://localhost:8080/"
        },
        "outputId": "ed56fbc4-df90-470a-d27d-3c4ef6dc6779"
      },
      "source": [
        "!sudo apt-get install -y fonts-nanum\n",
        "!sudo fc-cache -fv\n",
        "!rm ~/.cache/matplotlib -rf"
      ],
      "execution_count": null,
      "outputs": [
        {
          "output_type": "stream",
          "name": "stdout",
          "text": [
            "Reading package lists... Done\n",
            "Building dependency tree       \n",
            "Reading state information... Done\n",
            "fonts-nanum is already the newest version (20170925-1).\n",
            "0 upgraded, 0 newly installed, 0 to remove and 37 not upgraded.\n",
            "/usr/share/fonts: caching, new cache contents: 0 fonts, 1 dirs\n",
            "/usr/share/fonts/truetype: caching, new cache contents: 0 fonts, 3 dirs\n",
            "/usr/share/fonts/truetype/humor-sans: caching, new cache contents: 1 fonts, 0 dirs\n",
            "/usr/share/fonts/truetype/liberation: caching, new cache contents: 16 fonts, 0 dirs\n",
            "/usr/share/fonts/truetype/nanum: caching, new cache contents: 10 fonts, 0 dirs\n",
            "/usr/local/share/fonts: caching, new cache contents: 0 fonts, 0 dirs\n",
            "/root/.local/share/fonts: skipping, no such directory\n",
            "/root/.fonts: skipping, no such directory\n",
            "/var/cache/fontconfig: cleaning cache directory\n",
            "/root/.cache/fontconfig: not cleaning non-existent cache directory\n",
            "/root/.fontconfig: not cleaning non-existent cache directory\n",
            "fc-cache: succeeded\n"
          ]
        }
      ]
    },
    {
      "cell_type": "markdown",
      "metadata": {
        "id": "sFBnuqe1Dvzo"
      },
      "source": [
        "# 데이터와 분석 기법"
      ]
    },
    {
      "cell_type": "markdown",
      "metadata": {
        "id": "JLxbCjOwD2LE"
      },
      "source": [
        "## 데이터 입력"
      ]
    },
    {
      "cell_type": "code",
      "metadata": {
        "id": "g6pY7dqSD3uH"
      },
      "source": [
        "# 데이터 불러오기\n",
        "%%R\n",
        "jhk <- read.csv(\"/content/drive/MyDrive/st_data/제01장/인사평가결과.csv\", fileEncoding='euc-kr')"
      ],
      "execution_count": null,
      "outputs": []
    },
    {
      "cell_type": "code",
      "metadata": {
        "id": "n6lpcoEFFEaj"
      },
      "source": [
        "jhk = pd.read_csv(\"/content/drive/MyDrive/st_data/제01장/인사평가결과.csv\",\n",
        "                  encoding='euc-kr')"
      ],
      "execution_count": null,
      "outputs": []
    },
    {
      "cell_type": "code",
      "metadata": {
        "colab": {
          "base_uri": "https://localhost:8080/"
        },
        "id": "2L2gds6XEscA",
        "outputId": "c64ed97d-2927-4073-933f-e3f8ec35bff5"
      },
      "source": [
        "# 행, 열수 확인\n",
        "%%R\n",
        "dim(jhk)"
      ],
      "execution_count": null,
      "outputs": [
        {
          "output_type": "stream",
          "name": "stdout",
          "text": [
            "[1] 800  11\n"
          ]
        }
      ]
    },
    {
      "cell_type": "code",
      "metadata": {
        "colab": {
          "base_uri": "https://localhost:8080/"
        },
        "id": "_Gk-2xL-FV9C",
        "outputId": "e4743435-223a-4c55-fac4-115015c42b36"
      },
      "source": [
        "jhk.shape"
      ],
      "execution_count": null,
      "outputs": [
        {
          "output_type": "execute_result",
          "data": {
            "text/plain": [
              "(800, 11)"
            ]
          },
          "metadata": {},
          "execution_count": 7
        }
      ]
    },
    {
      "cell_type": "code",
      "metadata": {
        "colab": {
          "base_uri": "https://localhost:8080/"
        },
        "id": "nR4ZxoPXEzRp",
        "outputId": "35620675-b8ca-4965-fd1b-b4264da69e18"
      },
      "source": [
        "# 변수명 확인\n",
        "%%R\n",
        "colnames(jhk)"
      ],
      "execution_count": null,
      "outputs": [
        {
          "output_type": "stream",
          "name": "stdout",
          "text": [
            " [1] \"ID\"       \"성별\"     \"부서\"     \"연령\"     \"협동성\"   \"자기주장\"\n",
            " [7] \"기능\"     \"지식\"     \"스트레스\" \"총합\"     \"작년총합\"\n"
          ]
        }
      ]
    },
    {
      "cell_type": "code",
      "metadata": {
        "colab": {
          "base_uri": "https://localhost:8080/"
        },
        "id": "nfwqSGpOFXV6",
        "outputId": "81d27c32-0bfd-4ee9-cdd2-8641817098d9"
      },
      "source": [
        "jhk.columns"
      ],
      "execution_count": null,
      "outputs": [
        {
          "output_type": "execute_result",
          "data": {
            "text/plain": [
              "Index(['ID', '성별', '부서', '연령', '협동성', '자기주장', '기능', '지식', '스트레스', '총합',\n",
              "       '작년총합'],\n",
              "      dtype='object')"
            ]
          },
          "metadata": {},
          "execution_count": 9
        }
      ]
    },
    {
      "cell_type": "code",
      "metadata": {
        "colab": {
          "base_uri": "https://localhost:8080/"
        },
        "id": "WCakmCfQE14I",
        "outputId": "e98d2e32-b986-47a9-d8e4-b3430066f537"
      },
      "source": [
        "# 데이터 앞부분 표시\n",
        "%%R\n",
        "head(jhk)"
      ],
      "execution_count": null,
      "outputs": [
        {
          "output_type": "stream",
          "name": "stdout",
          "text": [
            "  ID 성별 부서 연령 협동성 자기주장 기능 지식 스트레스 총합 작년총합\n",
            "1  1    M  A부 중견     70       45   65   71       53  251      248\n",
            "2  2    F  B부 숙련     45       62   51   72       64  227      211\n",
            "3  3    M  A부 중견     54       70   55   70       61  249      242\n",
            "4  4    M  A부 숙련     51       63   53   65       60  232      240\n",
            "5  5    F  A부 청년     56       52   44   68       56  217      177\n",
            "6  6    M  A부 숙련     51       64   48   73       52  236      216\n"
          ]
        }
      ]
    },
    {
      "cell_type": "code",
      "metadata": {
        "colab": {
          "base_uri": "https://localhost:8080/",
          "height": 204
        },
        "id": "GsUVAavAFZbT",
        "outputId": "76d6f75b-9efb-4b3f-c9d5-18ee9bbc0c65"
      },
      "source": [
        "jhk.head()"
      ],
      "execution_count": null,
      "outputs": [
        {
          "output_type": "execute_result",
          "data": {
            "text/html": [
              "<div>\n",
              "<style scoped>\n",
              "    .dataframe tbody tr th:only-of-type {\n",
              "        vertical-align: middle;\n",
              "    }\n",
              "\n",
              "    .dataframe tbody tr th {\n",
              "        vertical-align: top;\n",
              "    }\n",
              "\n",
              "    .dataframe thead th {\n",
              "        text-align: right;\n",
              "    }\n",
              "</style>\n",
              "<table border=\"1\" class=\"dataframe\">\n",
              "  <thead>\n",
              "    <tr style=\"text-align: right;\">\n",
              "      <th></th>\n",
              "      <th>ID</th>\n",
              "      <th>성별</th>\n",
              "      <th>부서</th>\n",
              "      <th>연령</th>\n",
              "      <th>협동성</th>\n",
              "      <th>자기주장</th>\n",
              "      <th>기능</th>\n",
              "      <th>지식</th>\n",
              "      <th>스트레스</th>\n",
              "      <th>총합</th>\n",
              "      <th>작년총합</th>\n",
              "    </tr>\n",
              "  </thead>\n",
              "  <tbody>\n",
              "    <tr>\n",
              "      <th>0</th>\n",
              "      <td>1</td>\n",
              "      <td>M</td>\n",
              "      <td>A부</td>\n",
              "      <td>중견</td>\n",
              "      <td>70</td>\n",
              "      <td>45</td>\n",
              "      <td>65</td>\n",
              "      <td>71</td>\n",
              "      <td>53</td>\n",
              "      <td>251</td>\n",
              "      <td>248</td>\n",
              "    </tr>\n",
              "    <tr>\n",
              "      <th>1</th>\n",
              "      <td>2</td>\n",
              "      <td>F</td>\n",
              "      <td>B부</td>\n",
              "      <td>숙련</td>\n",
              "      <td>45</td>\n",
              "      <td>62</td>\n",
              "      <td>51</td>\n",
              "      <td>72</td>\n",
              "      <td>64</td>\n",
              "      <td>227</td>\n",
              "      <td>211</td>\n",
              "    </tr>\n",
              "    <tr>\n",
              "      <th>2</th>\n",
              "      <td>3</td>\n",
              "      <td>M</td>\n",
              "      <td>A부</td>\n",
              "      <td>중견</td>\n",
              "      <td>54</td>\n",
              "      <td>70</td>\n",
              "      <td>55</td>\n",
              "      <td>70</td>\n",
              "      <td>61</td>\n",
              "      <td>249</td>\n",
              "      <td>242</td>\n",
              "    </tr>\n",
              "    <tr>\n",
              "      <th>3</th>\n",
              "      <td>4</td>\n",
              "      <td>M</td>\n",
              "      <td>A부</td>\n",
              "      <td>숙련</td>\n",
              "      <td>51</td>\n",
              "      <td>63</td>\n",
              "      <td>53</td>\n",
              "      <td>65</td>\n",
              "      <td>60</td>\n",
              "      <td>232</td>\n",
              "      <td>240</td>\n",
              "    </tr>\n",
              "    <tr>\n",
              "      <th>4</th>\n",
              "      <td>5</td>\n",
              "      <td>F</td>\n",
              "      <td>A부</td>\n",
              "      <td>청년</td>\n",
              "      <td>56</td>\n",
              "      <td>52</td>\n",
              "      <td>44</td>\n",
              "      <td>68</td>\n",
              "      <td>56</td>\n",
              "      <td>217</td>\n",
              "      <td>177</td>\n",
              "    </tr>\n",
              "  </tbody>\n",
              "</table>\n",
              "</div>"
            ],
            "text/plain": [
              "   ID 성별  부서  연령  협동성  자기주장  기능  지식  스트레스   총합  작년총합\n",
              "0   1  M  A부  중견   70    45  65  71    53  251   248\n",
              "1   2  F  B부  숙련   45    62  51  72    64  227   211\n",
              "2   3  M  A부  중견   54    70  55  70    61  249   242\n",
              "3   4  M  A부  숙련   51    63  53  65    60  232   240\n",
              "4   5  F  A부  청년   56    52  44  68    56  217   177"
            ]
          },
          "metadata": {},
          "execution_count": 11
        }
      ]
    },
    {
      "cell_type": "markdown",
      "metadata": {
        "id": "U4Y2cZhuFhTQ"
      },
      "source": [
        "# 일변량 데이터 분석 기초"
      ]
    },
    {
      "cell_type": "markdown",
      "metadata": {
        "id": "f0v6cCH2FlXO"
      },
      "source": [
        "## 히스토그램"
      ]
    },
    {
      "cell_type": "code",
      "metadata": {
        "colab": {
          "base_uri": "https://localhost:8080/"
        },
        "id": "7EqncfJqFoqu",
        "outputId": "3d343dc8-a89b-43a0-93b9-5e5368f908ea"
      },
      "source": [
        "# tmi: 패키지 설치되어 있는지 확인하기\n",
        "%%R\n",
        "a <- installed.packages()\n",
        "packages <- a[,1] \n",
        "is.element(\"lattice\", packages)"
      ],
      "execution_count": null,
      "outputs": [
        {
          "output_type": "stream",
          "name": "stdout",
          "text": [
            "[1] TRUE\n"
          ]
        }
      ]
    },
    {
      "cell_type": "code",
      "metadata": {
        "colab": {
          "base_uri": "https://localhost:8080/",
          "height": 497
        },
        "id": "vamL8xEkF_tZ",
        "outputId": "74176edf-4eb4-4155-983e-313753a36334"
      },
      "source": [
        "# 쉬운 방법\n",
        "%%R\n",
        "hist(jhk$스트레스, breaks=20, type='count')"
      ],
      "execution_count": null,
      "outputs": [
        {
          "output_type": "display_data",
          "data": {
            "image/png": "[encoded data removed]"
          },
          "metadata": {}
        }
      ]
    },
    {
      "cell_type": "code",
      "metadata": {
        "colab": {
          "base_uri": "https://localhost:8080/",
          "height": 497
        },
        "id": "CroQa-PxGfSk",
        "outputId": "21d3d907-4097-484c-dd90-93bea15e40b4"
      },
      "source": [
        "# lattice 패키지를 이용하는 방법\n",
        "%%R\n",
        "library(lattice)\n",
        "histogram(~스트레스, data=jhk, breaks=20, type='count') # 기본은 percent임."
      ],
      "execution_count": null,
      "outputs": [
        {
          "output_type": "display_data",
          "data": {
            "image/png": "[encoded data removed]"
          },
          "metadata": {}
        }
      ]
    },
    {
      "cell_type": "code",
      "metadata": {
        "colab": {
          "base_uri": "https://localhost:8080/",
          "height": 265
        },
        "id": "6qAxwc80G-IK",
        "outputId": "ba36d314-8068-4674-9307-a438dc9f09c4"
      },
      "source": [
        "jhk['스트레스'].hist()\n",
        "plt.show()"
      ],
      "execution_count": null,
      "outputs": [
        {
          "output_type": "display_data",
          "data": {
            "image/png": "[encoded data removed]",
            "text/plain": [
              "<Figure size 432x288 with 1 Axes>"
            ]
          },
          "metadata": {
            "needs_background": "light"
          }
        }
      ]
    },
    {
      "cell_type": "code",
      "metadata": {
        "colab": {
          "base_uri": "https://localhost:8080/",
          "height": 277
        },
        "id": "Dgzsrl5nGsc3",
        "outputId": "b92220d5-7edb-4521-f074-32185d022665"
      },
      "source": [
        "plt.rc('font',family='NanumGothic')\n",
        "sns.histplot(data=jhk, x='스트레스', bins=20)\n",
        "plt.show()"
      ],
      "execution_count": null,
      "outputs": [
        {
          "output_type": "display_data",
          "data": {
            "image/png": "[encoded data removed]",
            "text/plain": [
              "<Figure size 432x288 with 1 Axes>"
            ]
          },
          "metadata": {
            "needs_background": "light"
          }
        }
      ]
    },
    {
      "cell_type": "markdown",
      "metadata": {
        "id": "3GjhisrkGrPm"
      },
      "source": [
        "## 대푯값과 산포도"
      ]
    },
    {
      "cell_type": "markdown",
      "metadata": {
        "id": "FpPou2p5Hq--"
      },
      "source": [
        "**대푯값**"
      ]
    },
    {
      "cell_type": "code",
      "metadata": {
        "colab": {
          "base_uri": "https://localhost:8080/"
        },
        "id": "Unb1dM8zHH6B",
        "outputId": "c43aa83e-8a6c-4711-e449-b13264fe6acc"
      },
      "source": [
        "# 평균값\n",
        "%%R\n",
        "mean(jhk$스트레스)"
      ],
      "execution_count": null,
      "outputs": [
        {
          "output_type": "stream",
          "name": "stdout",
          "text": [
            "[1] 55.0525\n"
          ]
        }
      ]
    },
    {
      "cell_type": "code",
      "metadata": {
        "colab": {
          "base_uri": "https://localhost:8080/"
        },
        "id": "bzyYWdQiHQ6y",
        "outputId": "aede0865-1e0d-4762-cd59-b859518447d5"
      },
      "source": [
        "# 중앙값\n",
        "%%R\n",
        "median(jhk$스트레스)"
      ],
      "execution_count": null,
      "outputs": [
        {
          "output_type": "stream",
          "name": "stdout",
          "text": [
            "[1] 55\n"
          ]
        }
      ]
    },
    {
      "cell_type": "code",
      "metadata": {
        "colab": {
          "base_uri": "https://localhost:8080/"
        },
        "id": "EuZWSs8HHS8j",
        "outputId": "0009aeda-f5e9-463a-bd02-e32de5a3738c"
      },
      "source": [
        "jhk['스트레스'].mean()"
      ],
      "execution_count": null,
      "outputs": [
        {
          "output_type": "execute_result",
          "data": {
            "text/plain": [
              "55.0525"
            ]
          },
          "metadata": {},
          "execution_count": 19
        }
      ]
    },
    {
      "cell_type": "code",
      "metadata": {
        "colab": {
          "base_uri": "https://localhost:8080/"
        },
        "id": "aRxExXgFHVkE",
        "outputId": "aab7a0f4-edbc-4204-9a53-4c46a0d20115"
      },
      "source": [
        "jhk['스트레스'].median()"
      ],
      "execution_count": null,
      "outputs": [
        {
          "output_type": "execute_result",
          "data": {
            "text/plain": [
              "55.0"
            ]
          },
          "metadata": {},
          "execution_count": 20
        }
      ]
    },
    {
      "cell_type": "code",
      "metadata": {
        "colab": {
          "base_uri": "https://localhost:8080/"
        },
        "id": "H2LCWNyDHa2z",
        "outputId": "ebccf8a1-d2c3-44e5-9ffc-9fd6c0c93db8"
      },
      "source": [
        "# 최빈값\n",
        "%%R\n",
        "sort(table(jhk$연령))"
      ],
      "execution_count": null,
      "outputs": [
        {
          "output_type": "stream",
          "name": "stdout",
          "text": [
            "\n",
            "숙련 중견 청년 \n",
            " 177  308  315 \n"
          ]
        }
      ]
    },
    {
      "cell_type": "code",
      "metadata": {
        "colab": {
          "base_uri": "https://localhost:8080/"
        },
        "id": "FenAGSjFHizu",
        "outputId": "1d6a300a-6a79-43bb-9157-f3e0cae2a372"
      },
      "source": [
        "jhk['연령'].value_counts().sort_values()"
      ],
      "execution_count": null,
      "outputs": [
        {
          "output_type": "execute_result",
          "data": {
            "text/plain": [
              "숙련    177\n",
              "중견    308\n",
              "청년    315\n",
              "Name: 연령, dtype: int64"
            ]
          },
          "metadata": {},
          "execution_count": 22
        }
      ]
    },
    {
      "cell_type": "markdown",
      "metadata": {
        "id": "5-kVPLhNHs0G"
      },
      "source": [
        "**산포도**\n",
        "\n",
        "불편분산: 모집단에서 분산의 추정치, 자유도가 n이 아니라 n-1"
      ]
    },
    {
      "cell_type": "code",
      "metadata": {
        "colab": {
          "base_uri": "https://localhost:8080/"
        },
        "id": "emAYrxZcH4Zg",
        "outputId": "50202090-d777-4dfb-c328-fad9b302701a"
      },
      "source": [
        "# 표준편차\n",
        "%%R\n",
        "sd(jhk$스트레스)"
      ],
      "execution_count": null,
      "outputs": [
        {
          "output_type": "stream",
          "name": "stdout",
          "text": [
            "[1] 6.02288\n"
          ]
        }
      ]
    },
    {
      "cell_type": "code",
      "metadata": {
        "colab": {
          "base_uri": "https://localhost:8080/"
        },
        "id": "sOgr0qZrIApP",
        "outputId": "9e326f24-67e1-4b6f-a875-d998034acba8"
      },
      "source": [
        "# 분산\n",
        "%%R\n",
        "var(jhk$스트레스)"
      ],
      "execution_count": null,
      "outputs": [
        {
          "output_type": "stream",
          "name": "stdout",
          "text": [
            "[1] 36.27509\n"
          ]
        }
      ]
    },
    {
      "cell_type": "markdown",
      "metadata": {
        "id": "teKQfWCxIEUo"
      },
      "source": [
        "스트레스의 평균값은 55.0525점이므로, $55.0525 \\pm 6.02288$ 사이에 데이터가 분포함을 알 수 있다."
      ]
    },
    {
      "cell_type": "code",
      "metadata": {
        "colab": {
          "base_uri": "https://localhost:8080/"
        },
        "id": "ZZkaiVgVIREc",
        "outputId": "f5424151-0ff8-4395-9e5a-ec684d8c71ff"
      },
      "source": [
        "jhk['스트레스'].std()"
      ],
      "execution_count": null,
      "outputs": [
        {
          "output_type": "execute_result",
          "data": {
            "text/plain": [
              "6.022880341623255"
            ]
          },
          "metadata": {},
          "execution_count": 25
        }
      ]
    },
    {
      "cell_type": "code",
      "metadata": {
        "colab": {
          "base_uri": "https://localhost:8080/"
        },
        "id": "ZDDYRUCiITHP",
        "outputId": "612ec45a-b3f9-4949-d013-cdd78a7e6793"
      },
      "source": [
        "jhk['스트레스'].var()"
      ],
      "execution_count": null,
      "outputs": [
        {
          "output_type": "execute_result",
          "data": {
            "text/plain": [
              "36.27508760951185"
            ]
          },
          "metadata": {},
          "execution_count": 26
        }
      ]
    },
    {
      "cell_type": "code",
      "metadata": {
        "colab": {
          "base_uri": "https://localhost:8080/"
        },
        "id": "qEdX4zVJIUoO",
        "outputId": "da56b775-057d-4bd8-8a79-c586538652b2"
      },
      "source": [
        "# 자유도 지정을 직접 해 줘야 함\n",
        "np.std(jhk['스트레스'], ddof=1)"
      ],
      "execution_count": null,
      "outputs": [
        {
          "output_type": "execute_result",
          "data": {
            "text/plain": [
              "6.022880341623255"
            ]
          },
          "metadata": {},
          "execution_count": 27
        }
      ]
    },
    {
      "cell_type": "code",
      "metadata": {
        "colab": {
          "base_uri": "https://localhost:8080/"
        },
        "id": "7Hv_tBjYIXec",
        "outputId": "f51a7ab8-8e6b-49f3-91df-c8dfd2213920"
      },
      "source": [
        "np.var(jhk['스트레스'], ddof=1)"
      ],
      "execution_count": null,
      "outputs": [
        {
          "output_type": "execute_result",
          "data": {
            "text/plain": [
              "36.27508760951185"
            ]
          },
          "metadata": {},
          "execution_count": 28
        }
      ]
    },
    {
      "cell_type": "markdown",
      "metadata": {
        "id": "VKc67lntIeJL"
      },
      "source": [
        "중앙값을 대푯값으로 했을 경우, 데이터와 중앙값의 편차에서 절댓값을 구해 평균을 낸 값인, 평균편차를 산포도로 사용할 수 있다."
      ]
    },
    {
      "cell_type": "code",
      "metadata": {
        "colab": {
          "base_uri": "https://localhost:8080/"
        },
        "id": "8v_ctXDsIl57",
        "outputId": "18cfb52c-ec15-497e-d227-f662b2ff58ac"
      },
      "source": [
        "# 평균편차\n",
        "%%R\n",
        "mean(abs(jhk$스트레스 - median(jhk$스트레스)))"
      ],
      "execution_count": null,
      "outputs": [
        {
          "output_type": "stream",
          "name": "stdout",
          "text": [
            "[1] 4.7325\n"
          ]
        }
      ]
    },
    {
      "cell_type": "code",
      "metadata": {
        "colab": {
          "base_uri": "https://localhost:8080/"
        },
        "id": "uCZB1mKVItiR",
        "outputId": "0b6f81fe-59fc-46d1-e015-a8e4703a7749"
      },
      "source": [
        "np.abs(jhk['스트레스'] - jhk['스트레스'].median()).mean()"
      ],
      "execution_count": null,
      "outputs": [
        {
          "output_type": "execute_result",
          "data": {
            "text/plain": [
              "4.7325"
            ]
          },
          "metadata": {},
          "execution_count": 30
        }
      ]
    },
    {
      "cell_type": "markdown",
      "metadata": {
        "id": "Xlq0qgXxJDEa"
      },
      "source": [
        "스트레스의 중앙값은 55점이므로, $55 \\pm 4.7325$ 사이에 데이터가 분포함을 알 수 있다."
      ]
    },
    {
      "cell_type": "markdown",
      "metadata": {
        "id": "KvH0aL_xJHfk"
      },
      "source": [
        "# 일변량 데이터의 집단 간 비교"
      ]
    },
    {
      "cell_type": "markdown",
      "metadata": {
        "id": "NPlc6PW0JL9a"
      },
      "source": [
        "## 히스토그램"
      ]
    },
    {
      "cell_type": "code",
      "metadata": {
        "colab": {
          "base_uri": "https://localhost:8080/"
        },
        "id": "noplifikJRxC",
        "outputId": "17d8155d-f444-48ba-e41c-094b9f4a55cb"
      },
      "source": [
        "%%R\n",
        "histogram(~협동성|연령+성별, data=jhk, breaks=15)"
      ],
      "execution_count": null,
      "outputs": [
        {
          "output_type": "display_data",
          "data": {
            "image/png": "[encoded data removed]"
          },
          "metadata": {}
        }
      ]
    },
    {
      "cell_type": "code",
      "metadata": {
        "colab": {
          "base_uri": "https://localhost:8080/"
        },
        "id": "06p_KU6cJZw1",
        "outputId": "c10b0903-2e55-486d-92cf-9ccb516c1acb"
      },
      "source": [
        "g = sns.FacetGrid(jhk, col='연령', row='성별')\n",
        "g.map(sns.histplot, '협동성')\n",
        "plt.show()"
      ],
      "execution_count": null,
      "outputs": [
        {
          "output_type": "display_data",
          "data": {
            "image/png": "[encoded data removed]",
            "text/plain": [
              "<Figure size 648x432 with 6 Axes>"
            ]
          },
          "metadata": {
            "needs_background": "light"
          }
        }
      ]
    },
    {
      "cell_type": "markdown",
      "metadata": {
        "id": "rxCix0dLKIsg"
      },
      "source": [
        "## 대푯값과 산포도"
      ]
    },
    {
      "cell_type": "markdown",
      "metadata": {
        "id": "-iVapVy1KKzZ"
      },
      "source": [
        "집단별로 대푯값과 산포도를 구할 땐, tapply(table apply)...를 사용하자."
      ]
    },
    {
      "cell_type": "code",
      "metadata": {
        "colab": {
          "base_uri": "https://localhost:8080/"
        },
        "id": "Oi_d_lBMJqIO",
        "outputId": "472addda-fbf7-4f27-8fe6-3caf144f88ac"
      },
      "source": [
        "# 성별에 따른 협동성의 평균\n",
        "%%R\n",
        "tapply(jhk$협동성, jhk$성별, mean)"
      ],
      "execution_count": null,
      "outputs": [
        {
          "output_type": "stream",
          "name": "stdout",
          "text": [
            "       F        M \n",
            "52.92114 50.05590 \n"
          ]
        }
      ]
    },
    {
      "cell_type": "code",
      "metadata": {
        "colab": {
          "base_uri": "https://localhost:8080/"
        },
        "id": "RyDBsf-MKVvl",
        "outputId": "8e45882f-2070-4119-a42a-50f43e06121f"
      },
      "source": [
        "# 성별에 따른 협동성의 표준편차\n",
        "%%R\n",
        "tapply(jhk$협동성, jhk$성별, sd)"
      ],
      "execution_count": null,
      "outputs": [
        {
          "output_type": "stream",
          "name": "stdout",
          "text": [
            "        F         M \n",
            " 9.845809 10.116078 \n"
          ]
        }
      ]
    },
    {
      "cell_type": "code",
      "metadata": {
        "colab": {
          "base_uri": "https://localhost:8080/"
        },
        "id": "pHwNIdD8Ka4V",
        "outputId": "df7f9751-51c3-41a1-c992-7e5836cf6904"
      },
      "source": [
        "jhk.협동성.groupby(jhk.성별).mean()"
      ],
      "execution_count": null,
      "outputs": [
        {
          "output_type": "execute_result",
          "data": {
            "text/plain": [
              "성별\n",
              "F    52.921136\n",
              "M    50.055901\n",
              "Name: 협동성, dtype: float64"
            ]
          },
          "metadata": {},
          "execution_count": 35
        }
      ]
    },
    {
      "cell_type": "code",
      "metadata": {
        "colab": {
          "base_uri": "https://localhost:8080/"
        },
        "id": "42-JtIlTKiir",
        "outputId": "030429e9-a501-471f-9ed4-0e461b82a809"
      },
      "source": [
        "jhk.협동성.groupby(jhk.성별).std()"
      ],
      "execution_count": null,
      "outputs": [
        {
          "output_type": "execute_result",
          "data": {
            "text/plain": [
              "성별\n",
              "F     9.845809\n",
              "M    10.116078\n",
              "Name: 협동성, dtype: float64"
            ]
          },
          "metadata": {},
          "execution_count": 36
        }
      ]
    },
    {
      "cell_type": "markdown",
      "metadata": {
        "id": "9D3eHAxoKq9T"
      },
      "source": [
        "## 상자수염도"
      ]
    },
    {
      "cell_type": "code",
      "metadata": {
        "colab": {
          "base_uri": "https://localhost:8080/"
        },
        "id": "kFGnmDGkLJjc",
        "outputId": "a32dbd7b-2e73-467e-dee6-14c35d0e1cc3"
      },
      "source": [
        "# 기능 점수에 대한 상자수염도\n",
        "%%R\n",
        "boxplot(jhk$기능, horizontal=TRUE)"
      ],
      "execution_count": null,
      "outputs": [
        {
          "output_type": "display_data",
          "data": {
            "image/png": "[encoded data removed]"
          },
          "metadata": {}
        }
      ]
    },
    {
      "cell_type": "code",
      "metadata": {
        "colab": {
          "base_uri": "https://localhost:8080/"
        },
        "id": "JaynH8okLM_O",
        "outputId": "d712b948-ecd9-4b3a-af4e-c0aa5241cab7"
      },
      "source": [
        "# 성별에 따른 협동성 점수에 대한 상자수엽도\n",
        "%%R\n",
        "boxplot(협동성~성별, data=jhk)"
      ],
      "execution_count": null,
      "outputs": [
        {
          "output_type": "display_data",
          "data": {
            "image/png": "[encoded data removed]"
          },
          "metadata": {}
        }
      ]
    },
    {
      "cell_type": "code",
      "metadata": {
        "colab": {
          "base_uri": "https://localhost:8080/"
        },
        "id": "dqpKi52-L-x1",
        "outputId": "fc72efec-84c8-4c21-b5e8-5442bcc81ba4"
      },
      "source": [
        "sns.boxplot(data=jhk, x='기능')\n",
        "plt.show()"
      ],
      "execution_count": null,
      "outputs": [
        {
          "output_type": "display_data",
          "data": {
            "image/png": "[encoded data removed]",
            "text/plain": [
              "<Figure size 432x288 with 1 Axes>"
            ]
          },
          "metadata": {
            "needs_background": "light"
          }
        }
      ]
    },
    {
      "cell_type": "code",
      "metadata": {
        "colab": {
          "base_uri": "https://localhost:8080/"
        },
        "id": "G5cMnseKMR2L",
        "outputId": "8a51e30d-4b02-45aa-fde5-451899688f77"
      },
      "source": [
        "sns.boxplot(data=jhk, x='기능', y='성별')\n",
        "plt.show()"
      ],
      "execution_count": null,
      "outputs": [
        {
          "output_type": "display_data",
          "data": {
            "image/png": "[encoded data removed]",
            "text/plain": [
              "<Figure size 432x288 with 1 Axes>"
            ]
          },
          "metadata": {
            "needs_background": "light"
          }
        }
      ]
    },
    {
      "cell_type": "code",
      "metadata": {
        "colab": {
          "base_uri": "https://localhost:8080/"
        },
        "id": "ShMl80FmN22M",
        "outputId": "54676066-44d6-4c1e-9b31-b3518915b12c"
      },
      "source": [
        "fig, ax = plt.subplots(figsize=(7, 3))\n",
        "sns.boxplot(data=jhk, x='기능', y='성별', ax=ax)\n",
        "ax.set_xlabel('기능 점수')\n",
        "plt.show()"
      ],
      "execution_count": null,
      "outputs": [
        {
          "output_type": "display_data",
          "data": {
            "image/png": "[encoded data removed]",
            "text/plain": [
              "<Figure size 504x216 with 1 Axes>"
            ]
          },
          "metadata": {
            "needs_background": "light"
          }
        }
      ]
    },
    {
      "cell_type": "markdown",
      "metadata": {
        "id": "rkhWWgFFMwGU"
      },
      "source": [
        "# 요약 통계량 산출"
      ]
    },
    {
      "cell_type": "code",
      "metadata": {
        "colab": {
          "base_uri": "https://localhost:8080/"
        },
        "id": "E18LO5PUN0w1",
        "outputId": "7df8fb05-f6c0-4591-d626-e3dd04a8bec6"
      },
      "source": [
        "%%R\n",
        "summary(jhk$기능)"
      ],
      "execution_count": null,
      "outputs": [
        {
          "output_type": "stream",
          "name": "stdout",
          "text": [
            "   Min. 1st Qu.  Median    Mean 3rd Qu.    Max. \n",
            "  22.00   44.00   50.00   50.01   56.00   82.00 \n"
          ]
        }
      ]
    },
    {
      "cell_type": "code",
      "metadata": {
        "colab": {
          "base_uri": "https://localhost:8080/"
        },
        "id": "gaHJ9EDQM0YN",
        "outputId": "f62ec047-0c4a-4d8a-b542-0b103e03a61e"
      },
      "source": [
        "jhk['기능'].describe()"
      ],
      "execution_count": null,
      "outputs": [
        {
          "output_type": "execute_result",
          "data": {
            "text/plain": [
              "count    800.000000\n",
              "mean      50.006250\n",
              "std       10.006567\n",
              "min       22.000000\n",
              "25%       44.000000\n",
              "50%       50.000000\n",
              "75%       56.000000\n",
              "max       82.000000\n",
              "Name: 기능, dtype: float64"
            ]
          },
          "metadata": {},
          "execution_count": 43
        }
      ]
    },
    {
      "cell_type": "markdown",
      "metadata": {
        "id": "DR9W0ZVIM3Su"
      },
      "source": [
        "## t 검정"
      ]
    },
    {
      "cell_type": "markdown",
      "metadata": {
        "id": "jtK4hlQIOCCa"
      },
      "source": [
        "수백번 수만번은 배웠지만, 평균 비교를 할 때 t검정을 한다."
      ]
    },
    {
      "cell_type": "markdown",
      "metadata": {
        "id": "ZG2A2mHtOHtR"
      },
      "source": [
        "### 등분산성 검정"
      ]
    },
    {
      "cell_type": "code",
      "metadata": {
        "colab": {
          "base_uri": "https://localhost:8080/"
        },
        "id": "9f6OfMbcOJJh",
        "outputId": "5865d62d-44e8-4958-87c6-546e3f1f7d1c"
      },
      "source": [
        "%%R\n",
        "var.test(협동성~성별, data=jhk)"
      ],
      "execution_count": null,
      "outputs": [
        {
          "output_type": "stream",
          "name": "stdout",
          "text": [
            "\n",
            "\tF test to compare two variances\n",
            "\n",
            "data:  협동성 by 성별\n",
            "F = 0.94728, num df = 316, denom df = 482, p-value = 0.6026\n",
            "alternative hypothesis: true ratio of variances is not equal to 1\n",
            "95 percent confidence interval:\n",
            " 0.776489 1.160565\n",
            "sample estimates:\n",
            "ratio of variances \n",
            "         0.9472802 \n",
            "\n"
          ]
        }
      ]
    },
    {
      "cell_type": "markdown",
      "metadata": {
        "id": "HMgJJGU_OMqd"
      },
      "source": [
        "$p > 0.05$이므로, 유의수준 5%에서 두 집단의 모분산은 동일하다는 귀무가설을 기각할 수 없다.\n",
        "\n",
        "그러니까 등분산을 가정한 독립표본 t검정을 실시할 수 있다."
      ]
    },
    {
      "cell_type": "markdown",
      "metadata": {
        "id": "pKeyroJjO_sy"
      },
      "source": [
        "**까먹은 것 같아서, 아니 까먹어서 다시 정리**\n",
        "* 가설: $H_0: \\sigma_1^2 = \\sigma_2^2, H_1: \\sigma_1^2 \\neq \\sigma_2^2$\n",
        "* 검정통계량: $F = \\frac{S_1^2}{S_2^2} $ (두 모분산이 동일하다고 가정한다. 원래는 $F = \\frac{{S_1^2}/{\\sigma_1^2}}{{S_2^2}/{\\sigma_2^2}}$)\n",
        "* 기각역: $F > F_{\\alpha/2}(n_1-1, n_2-1), F < F_{1 - \\alpha/2}(n_1-1, n_2-1)$"
      ]
    },
    {
      "cell_type": "code",
      "metadata": {
        "id": "f5txlQkSP3wF"
      },
      "source": [
        "def var_test(sample1, sample2):\n",
        "  dfn = len(sample1) - 1\n",
        "  dfd = len(sample2) - 1\n",
        "  S1 = sample1.var()\n",
        "  S2 = sample2.var()\n",
        "  F = S1 / S2\n",
        "  pF = st.f.cdf(F, dfn=dfn, dfd=dfd)\n",
        "  pval = 2 * min(pF, 1 - pF)\n",
        "\n",
        "  print(F, dfn, dfd, pval)"
      ],
      "execution_count": null,
      "outputs": []
    },
    {
      "cell_type": "code",
      "metadata": {
        "colab": {
          "base_uri": "https://localhost:8080/"
        },
        "id": "OtTdTUI-QjCl",
        "outputId": "0b7e295e-a36f-4b36-b5fd-aa8c57c7a4f2"
      },
      "source": [
        "male = jhk.협동성[jhk.성별=='M']\n",
        "female = jhk.협동성[jhk.성별=='F']\n",
        "var_test(female, male)"
      ],
      "execution_count": null,
      "outputs": [
        {
          "output_type": "stream",
          "name": "stdout",
          "text": [
            "0.9472802327082024 316 482 0.6026227708873764\n"
          ]
        }
      ]
    },
    {
      "cell_type": "markdown",
      "metadata": {
        "id": "QBfUFvqKRohj"
      },
      "source": [
        "### 독립표본 t검정"
      ]
    },
    {
      "cell_type": "code",
      "metadata": {
        "colab": {
          "base_uri": "https://localhost:8080/"
        },
        "id": "xghUklYWRu43",
        "outputId": "658c7023-6f1c-482e-8d37-8e705cc57719"
      },
      "source": [
        "# 등분산이 가정되었을 때\n",
        "%%R\n",
        "t.test(협동성~성별, data=jhk, var.equal=TRUE)"
      ],
      "execution_count": null,
      "outputs": [
        {
          "output_type": "stream",
          "name": "stdout",
          "text": [
            "\n",
            "\tTwo Sample t-test\n",
            "\n",
            "data:  협동성 by 성별\n",
            "t = 3.9599, df = 798, p-value = 8.167e-05\n",
            "alternative hypothesis: true difference in means between group F and group M is not equal to 0\n",
            "95 percent confidence interval:\n",
            " 1.444935 4.285535\n",
            "sample estimates:\n",
            "mean in group F mean in group M \n",
            "       52.92114        50.05590 \n",
            "\n"
          ]
        }
      ]
    },
    {
      "cell_type": "markdown",
      "metadata": {
        "id": "eQp5PZ9OR0R3"
      },
      "source": [
        "성별을 기준으로, 협동성의 평균을 집단 간 비교한다.\n",
        "\n",
        "0.1% 수준에서 유의하다고 해석할 수 있고, '모평균에 차이가 없다'는 귀무가설을 기각할 수 있다."
      ]
    },
    {
      "cell_type": "code",
      "metadata": {
        "colab": {
          "base_uri": "https://localhost:8080/"
        },
        "id": "e8vHYwmFSIZ1",
        "outputId": "82d01180-ef3e-4eff-bb54-b1b9549c56c2"
      },
      "source": [
        "st.ttest_ind(female, male, equal_var=True)"
      ],
      "execution_count": null,
      "outputs": [
        {
          "output_type": "execute_result",
          "data": {
            "text/plain": [
              "Ttest_indResult(statistic=3.959930184798102, pvalue=8.166909332546908e-05)"
            ]
          },
          "metadata": {},
          "execution_count": 48
        }
      ]
    },
    {
      "cell_type": "code",
      "metadata": {
        "colab": {
          "base_uri": "https://localhost:8080/"
        },
        "id": "f8SyubPkSCV2",
        "outputId": "5697c060-26e3-4640-c089-6e952e48f993"
      },
      "source": [
        "# Welch 법 (등분산 검정이 유의해서, 등분산 가정을 적용할 수 없을 때)\n",
        "%%R\n",
        "t.test(협동성~성별, data=jhk, var.equal=FALSE)"
      ],
      "execution_count": null,
      "outputs": [
        {
          "output_type": "stream",
          "name": "stdout",
          "text": [
            "\n",
            "\tWelch Two Sample t-test\n",
            "\n",
            "data:  협동성 by 성별\n",
            "t = 3.9823, df = 688.8, p-value = 7.552e-05\n",
            "alternative hypothesis: true difference in means between group F and group M is not equal to 0\n",
            "95 percent confidence interval:\n",
            " 1.452562 4.277908\n",
            "sample estimates:\n",
            "mean in group F mean in group M \n",
            "       52.92114        50.05590 \n",
            "\n"
          ]
        }
      ]
    },
    {
      "cell_type": "code",
      "metadata": {
        "colab": {
          "base_uri": "https://localhost:8080/"
        },
        "id": "g-g3Xs-eSOeP",
        "outputId": "0ba81256-c0c7-4cb1-cd14-e7e4d524ec42"
      },
      "source": [
        "st.ttest_ind(female, male, equal_var=False)"
      ],
      "execution_count": null,
      "outputs": [
        {
          "output_type": "execute_result",
          "data": {
            "text/plain": [
              "Ttest_indResult(statistic=3.9822668357027786, pvalue=7.551899451158485e-05)"
            ]
          },
          "metadata": {},
          "execution_count": 50
        }
      ]
    },
    {
      "cell_type": "code",
      "metadata": {
        "id": "mp-1nv4EMLaT"
      },
      "source": [
        "pg.ttest?"
      ],
      "execution_count": null,
      "outputs": []
    },
    {
      "cell_type": "markdown",
      "metadata": {
        "id": "WrTbCAW0Shla"
      },
      "source": [
        "Welch 법에서도, 표본평균 간의 차이는 적어도 0.1% 수준의 차이에서 유의하다고 판단할 수 있다."
      ]
    },
    {
      "cell_type": "markdown",
      "metadata": {
        "id": "rzpKygzNSnXj"
      },
      "source": [
        "### 대응표본 t 검정"
      ]
    },
    {
      "cell_type": "markdown",
      "metadata": {
        "id": "Chh_oV9uSxNM"
      },
      "source": [
        "동일한 사원을 대상으로, 두 차례 측정을 한 경우..."
      ]
    },
    {
      "cell_type": "code",
      "metadata": {
        "colab": {
          "base_uri": "https://localhost:8080/"
        },
        "id": "OLRtZUMSSp16",
        "outputId": "62e2b44d-2c77-49cf-fb02-5f3fd8df3427"
      },
      "source": [
        "jhk.head()"
      ],
      "execution_count": null,
      "outputs": [
        {
          "output_type": "execute_result",
          "data": {
            "text/html": [
              "<div>\n",
              "<style scoped>\n",
              "    .dataframe tbody tr th:only-of-type {\n",
              "        vertical-align: middle;\n",
              "    }\n",
              "\n",
              "    .dataframe tbody tr th {\n",
              "        vertical-align: top;\n",
              "    }\n",
              "\n",
              "    .dataframe thead th {\n",
              "        text-align: right;\n",
              "    }\n",
              "</style>\n",
              "<table border=\"1\" class=\"dataframe\">\n",
              "  <thead>\n",
              "    <tr style=\"text-align: right;\">\n",
              "      <th></th>\n",
              "      <th>ID</th>\n",
              "      <th>성별</th>\n",
              "      <th>부서</th>\n",
              "      <th>연령</th>\n",
              "      <th>협동성</th>\n",
              "      <th>자기주장</th>\n",
              "      <th>기능</th>\n",
              "      <th>지식</th>\n",
              "      <th>스트레스</th>\n",
              "      <th>총합</th>\n",
              "      <th>작년총합</th>\n",
              "    </tr>\n",
              "  </thead>\n",
              "  <tbody>\n",
              "    <tr>\n",
              "      <th>0</th>\n",
              "      <td>1</td>\n",
              "      <td>M</td>\n",
              "      <td>A부</td>\n",
              "      <td>중견</td>\n",
              "      <td>70</td>\n",
              "      <td>45</td>\n",
              "      <td>65</td>\n",
              "      <td>71</td>\n",
              "      <td>53</td>\n",
              "      <td>251</td>\n",
              "      <td>248</td>\n",
              "    </tr>\n",
              "    <tr>\n",
              "      <th>1</th>\n",
              "      <td>2</td>\n",
              "      <td>F</td>\n",
              "      <td>B부</td>\n",
              "      <td>숙련</td>\n",
              "      <td>45</td>\n",
              "      <td>62</td>\n",
              "      <td>51</td>\n",
              "      <td>72</td>\n",
              "      <td>64</td>\n",
              "      <td>227</td>\n",
              "      <td>211</td>\n",
              "    </tr>\n",
              "    <tr>\n",
              "      <th>2</th>\n",
              "      <td>3</td>\n",
              "      <td>M</td>\n",
              "      <td>A부</td>\n",
              "      <td>중견</td>\n",
              "      <td>54</td>\n",
              "      <td>70</td>\n",
              "      <td>55</td>\n",
              "      <td>70</td>\n",
              "      <td>61</td>\n",
              "      <td>249</td>\n",
              "      <td>242</td>\n",
              "    </tr>\n",
              "    <tr>\n",
              "      <th>3</th>\n",
              "      <td>4</td>\n",
              "      <td>M</td>\n",
              "      <td>A부</td>\n",
              "      <td>숙련</td>\n",
              "      <td>51</td>\n",
              "      <td>63</td>\n",
              "      <td>53</td>\n",
              "      <td>65</td>\n",
              "      <td>60</td>\n",
              "      <td>232</td>\n",
              "      <td>240</td>\n",
              "    </tr>\n",
              "    <tr>\n",
              "      <th>4</th>\n",
              "      <td>5</td>\n",
              "      <td>F</td>\n",
              "      <td>A부</td>\n",
              "      <td>청년</td>\n",
              "      <td>56</td>\n",
              "      <td>52</td>\n",
              "      <td>44</td>\n",
              "      <td>68</td>\n",
              "      <td>56</td>\n",
              "      <td>217</td>\n",
              "      <td>177</td>\n",
              "    </tr>\n",
              "  </tbody>\n",
              "</table>\n",
              "</div>"
            ],
            "text/plain": [
              "   ID 성별  부서  연령  협동성  자기주장  기능  지식  스트레스   총합  작년총합\n",
              "0   1  M  A부  중견   70    45  65  71    53  251   248\n",
              "1   2  F  B부  숙련   45    62  51  72    64  227   211\n",
              "2   3  M  A부  중견   54    70  55  70    61  249   242\n",
              "3   4  M  A부  숙련   51    63  53  65    60  232   240\n",
              "4   5  F  A부  청년   56    52  44  68    56  217   177"
            ]
          },
          "metadata": {},
          "execution_count": 51
        }
      ]
    },
    {
      "cell_type": "code",
      "metadata": {
        "colab": {
          "base_uri": "https://localhost:8080/"
        },
        "id": "fSuxPur4TB-A",
        "outputId": "1fc67231-406d-4122-875a-74f01c94d667"
      },
      "source": [
        "%%R\n",
        "score <- c(jhk$총합, jhk$작년총합)\n",
        "year <- c(rep('금년', 800), rep('작년', 800))\n",
        "t.test(score~year, paired=TRUE)"
      ],
      "execution_count": null,
      "outputs": [
        {
          "output_type": "stream",
          "name": "stdout",
          "text": [
            "\n",
            "\tPaired t-test\n",
            "\n",
            "data:  score by year\n",
            "t = 0.85118, df = 799, p-value = 0.3949\n",
            "alternative hypothesis: true difference in means is not equal to 0\n",
            "95 percent confidence interval:\n",
            " -0.808164  2.045664\n",
            "sample estimates:\n",
            "mean of the differences \n",
            "                0.61875 \n",
            "\n"
          ]
        }
      ]
    },
    {
      "cell_type": "code",
      "metadata": {
        "colab": {
          "base_uri": "https://localhost:8080/"
        },
        "id": "oWw9WqtHTOM7",
        "outputId": "95543a92-bebc-4e0e-b070-c27e8286f215"
      },
      "source": [
        "%%R\n",
        "t.test(jhk$총합, jhk$작년총합, paired=TRUE)"
      ],
      "execution_count": null,
      "outputs": [
        {
          "output_type": "stream",
          "name": "stdout",
          "text": [
            "\n",
            "\tPaired t-test\n",
            "\n",
            "data:  jhk$총합 and jhk$작년총합\n",
            "t = 0.85118, df = 799, p-value = 0.3949\n",
            "alternative hypothesis: true difference in means is not equal to 0\n",
            "95 percent confidence interval:\n",
            " -0.808164  2.045664\n",
            "sample estimates:\n",
            "mean of the differences \n",
            "                0.61875 \n",
            "\n"
          ]
        }
      ]
    },
    {
      "cell_type": "code",
      "metadata": {
        "colab": {
          "base_uri": "https://localhost:8080/"
        },
        "id": "ncoUPekSTWCC",
        "outputId": "0d8d3e7c-2b98-4013-89ec-c31d529f5d2d"
      },
      "source": [
        "st.ttest_rel(jhk['총합'], jhk['작년총합'])"
      ],
      "execution_count": null,
      "outputs": [
        {
          "output_type": "execute_result",
          "data": {
            "text/plain": [
              "Ttest_relResult(statistic=0.8511848435948919, pvalue=0.3949217026484646)"
            ]
          },
          "metadata": {},
          "execution_count": 54
        }
      ]
    },
    {
      "cell_type": "markdown",
      "metadata": {
        "id": "gzYzk3ycUTgf"
      },
      "source": [
        "## 모평균의 신뢰구간"
      ]
    },
    {
      "cell_type": "markdown",
      "metadata": {
        "id": "1w4pI-QzUV2N"
      },
      "source": [
        "신뢰구간: 무수한 표본이 각각 동일한 구간을 요구할 때, 이들 중 95%가 모평균을 포함한다. 구간이 좁을수록, 정밀도가 높은 모평균을 추정한다.\n",
        "\n",
        "아 그리고 얘네는 t 분포에 기초한 신뢰 구간을 그리는 거임.\n",
        "\n",
        "$\\bar{X} - t_{\\alpha/2}\\frac{s}{\\sqrt{n}} \\leq \\mu \\leq \\bar{X} + t_{\\alpha/2}\\frac{s}{\\sqrt{n}}$"
      ]
    },
    {
      "cell_type": "code",
      "metadata": {
        "colab": {
          "base_uri": "https://localhost:8080/",
          "height": 659
        },
        "id": "upHNniuZUiFW",
        "outputId": "c6ae1120-2917-4450-e2a9-2d310369418e"
      },
      "source": [
        "# 성별에 따른, 협동성에 대한 모평균의 신뢰구간\n",
        "%%R\n",
        "library(gplots)\n",
        "plotmeans(협동성~성별, data=jhk, p=0.95, ylim=c(49, 54))"
      ],
      "execution_count": null,
      "outputs": [
        {
          "output_type": "stream",
          "name": "stderr",
          "text": [
            "R[write to console]: \n",
            "Attaching package: ‘gplots’\n",
            "\n",
            "\n",
            "R[write to console]: The following object is masked from ‘package:stats’:\n",
            "\n",
            "    lowess\n",
            "\n",
            "\n"
          ]
        },
        {
          "output_type": "display_data",
          "data": {
            "image/png": "[encoded data removed]"
          },
          "metadata": {}
        }
      ]
    },
    {
      "cell_type": "code",
      "metadata": {
        "colab": {
          "base_uri": "https://localhost:8080/",
          "height": 296
        },
        "id": "HGuokBWmU6bK",
        "outputId": "00b66426-6a32-425c-cdac-430b7f6f50b6"
      },
      "source": [
        "sns.pointplot(x='성별', y='협동성', data=jhk, ci=95)"
      ],
      "execution_count": null,
      "outputs": [
        {
          "output_type": "execute_result",
          "data": {
            "text/plain": [
              "<matplotlib.axes._subplots.AxesSubplot at 0x7fa92b7677d0>"
            ]
          },
          "metadata": {},
          "execution_count": 56
        },
        {
          "output_type": "display_data",
          "data": {
            "image/png": "[encoded data removed]",
            "text/plain": [
              "<Figure size 432x288 with 1 Axes>"
            ]
          },
          "metadata": {
            "needs_background": "light"
          }
        }
      ]
    },
    {
      "cell_type": "markdown",
      "metadata": {
        "id": "tZO6U8WWVJPo"
      },
      "source": [
        "t 분포에 기초한 모평균을 위한 신뢰구간을 구할 땐, 일표본 t검정을 수행할 수 있다."
      ]
    },
    {
      "cell_type": "code",
      "metadata": {
        "colab": {
          "base_uri": "https://localhost:8080/"
        },
        "id": "mcg1IvBBV9q-",
        "outputId": "e7c8ca85-abd6-4617-c377-806601b1495c"
      },
      "source": [
        "%%R\n",
        "t.test(jhk$협동성[jhk$성별=='F'])"
      ],
      "execution_count": null,
      "outputs": [
        {
          "output_type": "stream",
          "name": "stdout",
          "text": [
            "\n",
            "\tOne Sample t-test\n",
            "\n",
            "data:  jhk$협동성[jhk$성별 == \"F\"]\n",
            "t = 95.699, df = 316, p-value < 2.2e-16\n",
            "alternative hypothesis: true mean is not equal to 0\n",
            "95 percent confidence interval:\n",
            " 51.83312 54.00915\n",
            "sample estimates:\n",
            "mean of x \n",
            " 52.92114 \n",
            "\n"
          ]
        }
      ]
    },
    {
      "cell_type": "code",
      "metadata": {
        "colab": {
          "base_uri": "https://localhost:8080/"
        },
        "id": "5LMtdDXSWA-N",
        "outputId": "0c94e725-a762-4890-c381-ad1d9417929b"
      },
      "source": [
        "%%R\n",
        "t.test(jhk$협동성[jhk$성별=='M'])"
      ],
      "execution_count": null,
      "outputs": [
        {
          "output_type": "stream",
          "name": "stdout",
          "text": [
            "\n",
            "\tOne Sample t-test\n",
            "\n",
            "data:  jhk$협동성[jhk$성별 == \"M\"]\n",
            "t = 108.75, df = 482, p-value < 2.2e-16\n",
            "alternative hypothesis: true mean is not equal to 0\n",
            "95 percent confidence interval:\n",
            " 49.15146 50.96034\n",
            "sample estimates:\n",
            "mean of x \n",
            "  50.0559 \n",
            "\n"
          ]
        }
      ]
    },
    {
      "cell_type": "code",
      "metadata": {
        "colab": {
          "base_uri": "https://localhost:8080/"
        },
        "id": "QZz-LLGiaAkD",
        "outputId": "6fa50b36-cb69-4067-ab2c-20bc0854c1e6"
      },
      "source": [
        "print(st.sem(female), female.std() / np.sqrt(len(female)))"
      ],
      "execution_count": null,
      "outputs": [
        {
          "output_type": "stream",
          "name": "stdout",
          "text": [
            "0.5529957509012039 0.5529957509012038\n"
          ]
        }
      ]
    },
    {
      "cell_type": "code",
      "metadata": {
        "colab": {
          "base_uri": "https://localhost:8080/"
        },
        "id": "_V21Uh_0WkHq",
        "outputId": "5af3b09f-460e-4f94-db0e-4701645c05ee"
      },
      "source": [
        "# scale에는 표본 표준편차가 아니라, '표준 오차'를 입력해야 함.\n",
        "st.t.interval(0.95, loc=female.mean(), scale=st.sem(female), df=len(female)-1)"
      ],
      "execution_count": null,
      "outputs": [
        {
          "output_type": "execute_result",
          "data": {
            "text/plain": [
              "(51.83311677287796, 54.00915452049743)"
            ]
          },
          "metadata": {},
          "execution_count": 60
        }
      ]
    },
    {
      "cell_type": "code",
      "metadata": {
        "colab": {
          "base_uri": "https://localhost:8080/"
        },
        "id": "VVnxk_CgWFjt",
        "outputId": "b80a1358-0fc0-43a0-a071-f5355d9f4e6b"
      },
      "source": [
        "st.t.interval(0.95, loc=male.mean(), scale=st.sem(male), df=len(male)-1)"
      ],
      "execution_count": null,
      "outputs": [
        {
          "output_type": "execute_result",
          "data": {
            "text/plain": [
              "(49.15146302524397, 50.96033821699206)"
            ]
          },
          "metadata": {},
          "execution_count": 61
        }
      ]
    },
    {
      "cell_type": "markdown",
      "metadata": {
        "id": "IEQw6zTDYJOg"
      },
      "source": [
        "# 다변량 데이터 분석 기초"
      ]
    },
    {
      "cell_type": "markdown",
      "metadata": {
        "id": "aI8JNXkwagMH"
      },
      "source": [
        "## 다변량 데이터의 집계"
      ]
    },
    {
      "cell_type": "markdown",
      "metadata": {
        "id": "t5gFn5JLao_u"
      },
      "source": [
        "데이터를 행, 열 방향으로 집계할 때 apply 함수를 사용해보자."
      ]
    },
    {
      "cell_type": "code",
      "metadata": {
        "colab": {
          "base_uri": "https://localhost:8080/"
        },
        "id": "VZ6QiKaEav9d",
        "outputId": "9384358b-b415-4b9e-af96-bdee8135e0cd"
      },
      "source": [
        "# 열에 대한 기초집계\n",
        "%%R\n",
        "varname <- c('협동성', '자기주장', '기능', '지식')\n",
        "jhk2 <- jhk[, varname]\n",
        "head(jhk2)"
      ],
      "execution_count": null,
      "outputs": [
        {
          "output_type": "stream",
          "name": "stdout",
          "text": [
            "  협동성 자기주장 기능 지식\n",
            "1     70       45   65   71\n",
            "2     45       62   51   72\n",
            "3     54       70   55   70\n",
            "4     51       63   53   65\n",
            "5     56       52   44   68\n",
            "6     51       64   48   73\n"
          ]
        }
      ]
    },
    {
      "cell_type": "code",
      "metadata": {
        "colab": {
          "base_uri": "https://localhost:8080/"
        },
        "id": "wuSAYerma8pq",
        "outputId": "c95d754a-b74a-4a98-df86-87204cfb3fb4"
      },
      "source": [
        "# 변수별로 평균값, 표준편차 구하기\n",
        "%%R \n",
        "apply(jhk2, 2, mean)"
      ],
      "execution_count": null,
      "outputs": [
        {
          "output_type": "stream",
          "name": "stdout",
          "text": [
            "  협동성 자기주장     기능     지식 \n",
            "51.19125 58.00500 50.00625 63.00375 \n"
          ]
        }
      ]
    },
    {
      "cell_type": "code",
      "metadata": {
        "colab": {
          "base_uri": "https://localhost:8080/"
        },
        "id": "fCadZB64bjie",
        "outputId": "09683f59-2970-4a7d-d0e0-923df32ae443"
      },
      "source": [
        "%%R\n",
        "apply(jhk2, 2, sd)"
      ],
      "execution_count": null,
      "outputs": [
        {
          "output_type": "stream",
          "name": "stdout",
          "text": [
            "   협동성  자기주장      기능      지식 \n",
            "10.101471 11.992905 10.006567  7.995539 \n"
          ]
        }
      ]
    },
    {
      "cell_type": "code",
      "metadata": {
        "colab": {
          "base_uri": "https://localhost:8080/",
          "height": 419
        },
        "id": "B49wlLG3bHQw",
        "outputId": "e71c4277-592a-4a6a-d57f-44951b6ad9d7"
      },
      "source": [
        "varname = ['협동성', '자기주장', '기능', '지식']\n",
        "jhk2 = jhk.loc[:, varname]\n",
        "jhk2"
      ],
      "execution_count": null,
      "outputs": [
        {
          "output_type": "execute_result",
          "data": {
            "text/html": [
              "<div>\n",
              "<style scoped>\n",
              "    .dataframe tbody tr th:only-of-type {\n",
              "        vertical-align: middle;\n",
              "    }\n",
              "\n",
              "    .dataframe tbody tr th {\n",
              "        vertical-align: top;\n",
              "    }\n",
              "\n",
              "    .dataframe thead th {\n",
              "        text-align: right;\n",
              "    }\n",
              "</style>\n",
              "<table border=\"1\" class=\"dataframe\">\n",
              "  <thead>\n",
              "    <tr style=\"text-align: right;\">\n",
              "      <th></th>\n",
              "      <th>협동성</th>\n",
              "      <th>자기주장</th>\n",
              "      <th>기능</th>\n",
              "      <th>지식</th>\n",
              "    </tr>\n",
              "  </thead>\n",
              "  <tbody>\n",
              "    <tr>\n",
              "      <th>0</th>\n",
              "      <td>70</td>\n",
              "      <td>45</td>\n",
              "      <td>65</td>\n",
              "      <td>71</td>\n",
              "    </tr>\n",
              "    <tr>\n",
              "      <th>1</th>\n",
              "      <td>45</td>\n",
              "      <td>62</td>\n",
              "      <td>51</td>\n",
              "      <td>72</td>\n",
              "    </tr>\n",
              "    <tr>\n",
              "      <th>2</th>\n",
              "      <td>54</td>\n",
              "      <td>70</td>\n",
              "      <td>55</td>\n",
              "      <td>70</td>\n",
              "    </tr>\n",
              "    <tr>\n",
              "      <th>3</th>\n",
              "      <td>51</td>\n",
              "      <td>63</td>\n",
              "      <td>53</td>\n",
              "      <td>65</td>\n",
              "    </tr>\n",
              "    <tr>\n",
              "      <th>4</th>\n",
              "      <td>56</td>\n",
              "      <td>52</td>\n",
              "      <td>44</td>\n",
              "      <td>68</td>\n",
              "    </tr>\n",
              "    <tr>\n",
              "      <th>...</th>\n",
              "      <td>...</td>\n",
              "      <td>...</td>\n",
              "      <td>...</td>\n",
              "      <td>...</td>\n",
              "    </tr>\n",
              "    <tr>\n",
              "      <th>795</th>\n",
              "      <td>38</td>\n",
              "      <td>42</td>\n",
              "      <td>41</td>\n",
              "      <td>58</td>\n",
              "    </tr>\n",
              "    <tr>\n",
              "      <th>796</th>\n",
              "      <td>33</td>\n",
              "      <td>51</td>\n",
              "      <td>27</td>\n",
              "      <td>53</td>\n",
              "    </tr>\n",
              "    <tr>\n",
              "      <th>797</th>\n",
              "      <td>33</td>\n",
              "      <td>46</td>\n",
              "      <td>32</td>\n",
              "      <td>56</td>\n",
              "    </tr>\n",
              "    <tr>\n",
              "      <th>798</th>\n",
              "      <td>48</td>\n",
              "      <td>68</td>\n",
              "      <td>69</td>\n",
              "      <td>59</td>\n",
              "    </tr>\n",
              "    <tr>\n",
              "      <th>799</th>\n",
              "      <td>46</td>\n",
              "      <td>48</td>\n",
              "      <td>32</td>\n",
              "      <td>62</td>\n",
              "    </tr>\n",
              "  </tbody>\n",
              "</table>\n",
              "<p>800 rows × 4 columns</p>\n",
              "</div>"
            ],
            "text/plain": [
              "     협동성  자기주장  기능  지식\n",
              "0     70    45  65  71\n",
              "1     45    62  51  72\n",
              "2     54    70  55  70\n",
              "3     51    63  53  65\n",
              "4     56    52  44  68\n",
              "..   ...   ...  ..  ..\n",
              "795   38    42  41  58\n",
              "796   33    51  27  53\n",
              "797   33    46  32  56\n",
              "798   48    68  69  59\n",
              "799   46    48  32  62\n",
              "\n",
              "[800 rows x 4 columns]"
            ]
          },
          "metadata": {},
          "execution_count": 65
        }
      ]
    },
    {
      "cell_type": "code",
      "metadata": {
        "colab": {
          "base_uri": "https://localhost:8080/"
        },
        "id": "dOHkgIj_bcru",
        "outputId": "f18b74fc-3bf6-4a6a-a317-d027b008a40f"
      },
      "source": [
        "jhk2.mean()"
      ],
      "execution_count": null,
      "outputs": [
        {
          "output_type": "execute_result",
          "data": {
            "text/plain": [
              "협동성     51.19125\n",
              "자기주장    58.00500\n",
              "기능      50.00625\n",
              "지식      63.00375\n",
              "dtype: float64"
            ]
          },
          "metadata": {},
          "execution_count": 66
        }
      ]
    },
    {
      "cell_type": "code",
      "metadata": {
        "colab": {
          "base_uri": "https://localhost:8080/"
        },
        "id": "YBic4N6Ybf6u",
        "outputId": "bcbde6ca-f207-4a01-9832-9d080f3dbcd9"
      },
      "source": [
        "jhk2.std()"
      ],
      "execution_count": null,
      "outputs": [
        {
          "output_type": "execute_result",
          "data": {
            "text/plain": [
              "협동성     10.101471\n",
              "자기주장    11.992905\n",
              "기능      10.006567\n",
              "지식       7.995539\n",
              "dtype: float64"
            ]
          },
          "metadata": {},
          "execution_count": 67
        }
      ]
    },
    {
      "cell_type": "code",
      "metadata": {
        "colab": {
          "base_uri": "https://localhost:8080/",
          "height": 111
        },
        "id": "6dBBWHoKbp14",
        "outputId": "e681c608-eca1-4502-c2be-1049ca0bb7e8"
      },
      "source": [
        "jhk2.agg(['mean', 'std'])"
      ],
      "execution_count": null,
      "outputs": [
        {
          "output_type": "execute_result",
          "data": {
            "text/html": [
              "<div>\n",
              "<style scoped>\n",
              "    .dataframe tbody tr th:only-of-type {\n",
              "        vertical-align: middle;\n",
              "    }\n",
              "\n",
              "    .dataframe tbody tr th {\n",
              "        vertical-align: top;\n",
              "    }\n",
              "\n",
              "    .dataframe thead th {\n",
              "        text-align: right;\n",
              "    }\n",
              "</style>\n",
              "<table border=\"1\" class=\"dataframe\">\n",
              "  <thead>\n",
              "    <tr style=\"text-align: right;\">\n",
              "      <th></th>\n",
              "      <th>협동성</th>\n",
              "      <th>자기주장</th>\n",
              "      <th>기능</th>\n",
              "      <th>지식</th>\n",
              "    </tr>\n",
              "  </thead>\n",
              "  <tbody>\n",
              "    <tr>\n",
              "      <th>mean</th>\n",
              "      <td>51.191250</td>\n",
              "      <td>58.005000</td>\n",
              "      <td>50.006250</td>\n",
              "      <td>63.003750</td>\n",
              "    </tr>\n",
              "    <tr>\n",
              "      <th>std</th>\n",
              "      <td>10.101471</td>\n",
              "      <td>11.992905</td>\n",
              "      <td>10.006567</td>\n",
              "      <td>7.995539</td>\n",
              "    </tr>\n",
              "  </tbody>\n",
              "</table>\n",
              "</div>"
            ],
            "text/plain": [
              "            협동성       자기주장         기능         지식\n",
              "mean  51.191250  58.005000  50.006250  63.003750\n",
              "std   10.101471  11.992905  10.006567   7.995539"
            ]
          },
          "metadata": {},
          "execution_count": 68
        }
      ]
    },
    {
      "cell_type": "code",
      "metadata": {
        "colab": {
          "base_uri": "https://localhost:8080/"
        },
        "id": "hoEwfjlFb-Sg",
        "outputId": "c94427e1-d34b-480b-d0d6-726625f1f5b8"
      },
      "source": [
        "# 행에 대한 기초집계\n",
        "%%R\n",
        "head(apply(jhk2, 1, sum))"
      ],
      "execution_count": null,
      "outputs": [
        {
          "output_type": "stream",
          "name": "stdout",
          "text": [
            "[1] 251 230 249 232 220 236\n"
          ]
        }
      ]
    },
    {
      "cell_type": "code",
      "metadata": {
        "colab": {
          "base_uri": "https://localhost:8080/"
        },
        "id": "Q2JxQYyvcJBM",
        "outputId": "7450d854-2c3a-44e2-baa7-3c1c4cdfe24b"
      },
      "source": [
        "%%R\n",
        "head(apply(jhk2, 1, sd))"
      ],
      "execution_count": null,
      "outputs": [
        {
          "output_type": "stream",
          "name": "stdout",
          "text": [
            "[1] 12.120919 11.958261  8.958236  7.023769 10.000000 11.633286\n"
          ]
        }
      ]
    },
    {
      "cell_type": "code",
      "metadata": {
        "colab": {
          "base_uri": "https://localhost:8080/"
        },
        "id": "hSW59bldcMJn",
        "outputId": "466bfac1-ec1a-4b4e-f89a-c632d936990b"
      },
      "source": [
        "jhk2.sum(axis=1)"
      ],
      "execution_count": null,
      "outputs": [
        {
          "output_type": "execute_result",
          "data": {
            "text/plain": [
              "0      251\n",
              "1      230\n",
              "2      249\n",
              "3      232\n",
              "4      220\n",
              "      ... \n",
              "795    179\n",
              "796    164\n",
              "797    167\n",
              "798    244\n",
              "799    188\n",
              "Length: 800, dtype: int64"
            ]
          },
          "metadata": {},
          "execution_count": 71
        }
      ]
    },
    {
      "cell_type": "code",
      "metadata": {
        "colab": {
          "base_uri": "https://localhost:8080/"
        },
        "id": "Ak4V0ogMcPaA",
        "outputId": "bbe593d0-20a4-4d2a-e8f6-e66f8c16acb4"
      },
      "source": [
        "jhk2.std(axis=1)"
      ],
      "execution_count": null,
      "outputs": [
        {
          "output_type": "execute_result",
          "data": {
            "text/plain": [
              "0      12.120919\n",
              "1      11.958261\n",
              "2       8.958236\n",
              "3       7.023769\n",
              "4      10.000000\n",
              "         ...    \n",
              "795     8.995369\n",
              "796    12.961481\n",
              "797    11.441882\n",
              "798     9.763879\n",
              "799    12.274635\n",
              "Length: 800, dtype: float64"
            ]
          },
          "metadata": {},
          "execution_count": 72
        }
      ]
    },
    {
      "cell_type": "markdown",
      "metadata": {
        "id": "4__5hEMWcTjG"
      },
      "source": [
        "## 다변량 데이터의 집단 간 비교"
      ]
    },
    {
      "cell_type": "markdown",
      "metadata": {
        "id": "kZpmashGcaOD"
      },
      "source": [
        "집단 간 다변량 분포를 비교하고 싶을 땐, tapply의 확장판 격인 by 함수를 사용하자."
      ]
    },
    {
      "cell_type": "code",
      "metadata": {
        "colab": {
          "base_uri": "https://localhost:8080/"
        },
        "id": "f-sEoqaWcdwO",
        "outputId": "ef877b7b-5975-44da-8526-f01689ea3fa3"
      },
      "source": [
        "%%R\n",
        "by(jhk2, jhk$성별, apply, 2, mean)"
      ],
      "execution_count": null,
      "outputs": [
        {
          "output_type": "stream",
          "name": "stdout",
          "text": [
            "jhk$성별: F\n",
            "  협동성 자기주장     기능     지식 \n",
            "52.92114 57.41640 50.37855 63.05678 \n",
            "------------------------------------------------------------ \n",
            "jhk$성별: M\n",
            "  협동성 자기주장     기능     지식 \n",
            "50.05590 58.39130 49.76190 62.96894 \n"
          ]
        }
      ]
    },
    {
      "cell_type": "code",
      "metadata": {
        "colab": {
          "base_uri": "https://localhost:8080/"
        },
        "id": "S9f0L6-4crVO",
        "outputId": "ee810d90-a325-4b27-b2c7-57c9a2b75756"
      },
      "source": [
        "%%R\n",
        "by(jhk2, jhk$성별, apply, 2, sd)"
      ],
      "execution_count": null,
      "outputs": [
        {
          "output_type": "stream",
          "name": "stdout",
          "text": [
            "jhk$성별: F\n",
            "   협동성  자기주장      기능      지식 \n",
            " 9.845809 11.233291 10.153034  7.662786 \n",
            "------------------------------------------------------------ \n",
            "jhk$성별: M\n",
            "   협동성  자기주장      기능      지식 \n",
            "10.116078 12.462645  9.912231  8.214264 \n"
          ]
        }
      ]
    },
    {
      "cell_type": "code",
      "metadata": {
        "colab": {
          "base_uri": "https://localhost:8080/"
        },
        "id": "Wuc2EbS-dhy9",
        "outputId": "e3462ae8-f515-4a0c-bf56-0e85a63b94af"
      },
      "source": [
        "# 평균 한정으로 더 간단한 방법이 있다.\n",
        "%%R\n",
        "colMeans(jhk2)"
      ],
      "execution_count": null,
      "outputs": [
        {
          "output_type": "stream",
          "name": "stdout",
          "text": [
            "  협동성 자기주장     기능     지식 \n",
            "51.19125 58.00500 50.00625 63.00375 \n"
          ]
        }
      ]
    },
    {
      "cell_type": "code",
      "metadata": {
        "colab": {
          "base_uri": "https://localhost:8080/"
        },
        "id": "CseCXlC0eN-_",
        "outputId": "94be0c5d-1f34-47e1-a61d-70d19f2693a8"
      },
      "source": [
        "%%R\n",
        "rowMeans(jhk2)"
      ],
      "execution_count": null,
      "outputs": [
        {
          "output_type": "stream",
          "name": "stdout",
          "text": [
            "  [1] 62.75 57.50 62.25 58.00 55.00 59.00 64.75 59.25 73.50 63.50 59.50 77.00\n",
            " [13] 51.75 58.25 58.00 58.75 57.75 42.25 34.25 74.25 55.25 39.25 56.00 61.00\n",
            " [25] 66.50 53.25 46.75 38.25 63.75 54.50 63.50 62.25 57.50 49.25 54.75 48.75\n",
            " [37] 52.00 49.50 41.00 58.50 64.00 48.75 56.00 56.00 49.25 56.50 51.75 62.75\n",
            " [49] 50.50 64.00 53.50 48.75 67.00 57.00 55.00 57.50 59.00 52.75 31.75 64.25\n",
            " [61] 57.75 61.25 60.50 63.25 39.25 74.00 60.50 67.50 52.25 65.50 55.75 55.75\n",
            " [73] 61.00 52.50 48.25 50.50 60.75 63.25 47.25 54.00 65.25 63.75 62.25 55.75\n",
            " [85] 41.25 67.25 60.00 53.00 68.75 66.00 65.00 63.75 58.25 64.50 44.75 46.50\n",
            " [97] 49.75 48.00 61.50 69.25 66.50 59.00 47.00 71.75 57.00 52.75 61.25 58.25\n",
            "[109] 63.50 52.75 51.75 58.50 58.25 48.25 44.50 48.75 52.25 71.50 48.25 59.00\n",
            "[121] 50.00 51.50 57.75 57.00 57.50 56.75 55.25 39.25 45.50 59.50 49.75 50.75\n",
            "[133] 55.50 55.50 66.50 40.00 55.50 63.00 60.75 45.50 54.75 47.25 55.75 52.00\n",
            "[145] 50.00 61.00 56.25 48.00 59.00 41.50 59.75 45.00 59.75 51.50 48.75 47.00\n",
            "[157] 66.25 51.75 62.75 73.25 56.00 49.00 57.00 55.75 62.75 67.75 48.00 54.50\n",
            "[169] 52.25 68.25 49.00 57.00 45.25 74.25 62.00 59.25 43.50 62.25 57.00 50.75\n",
            "[181] 57.50 52.75 65.25 58.75 50.25 43.50 53.00 65.50 57.50 52.00 61.00 52.50\n",
            "[193] 55.00 46.25 55.00 68.25 56.50 66.25 64.75 56.50 44.75 55.50 63.50 68.25\n",
            "[205] 43.75 49.00 56.00 43.25 55.50 54.25 47.75 67.00 56.50 62.00 59.50 58.50\n",
            "[217] 49.00 63.50 55.50 50.00 65.25 54.00 50.75 44.50 56.25 58.00 57.00 55.00\n",
            "[229] 50.50 58.25 57.50 57.00 48.00 52.50 53.50 51.50 67.25 57.25 60.00 50.25\n",
            "[241] 54.00 69.00 59.00 58.50 46.25 68.50 61.25 53.00 56.75 52.50 45.00 59.25\n",
            "[253] 49.75 58.50 66.75 53.75 46.00 62.00 50.25 56.50 67.75 56.25 56.50 45.00\n",
            "[265] 49.50 56.00 62.75 53.50 43.25 48.00 62.50 56.50 59.00 54.25 53.50 65.25\n",
            "[277] 62.75 47.00 69.25 55.25 63.25 40.50 48.25 55.75 56.75 66.75 69.50 51.00\n",
            "[289] 40.25 59.25 49.00 57.25 55.50 69.50 58.00 55.75 57.25 61.75 50.75 47.50\n",
            "[301] 54.50 57.50 56.50 65.00 52.25 55.25 61.25 63.00 49.50 57.50 51.75 48.00\n",
            "[313] 49.75 55.50 58.75 53.25 51.00 55.50 50.25 64.25 53.25 60.25 59.00 55.50\n",
            "[325] 62.00 53.00 54.75 58.50 43.75 57.75 61.25 54.25 51.00 54.50 58.75 53.75\n",
            "[337] 47.00 43.75 53.00 52.25 54.25 56.00 56.50 52.25 58.75 54.00 65.50 39.75\n",
            "[349] 60.75 56.00 66.25 57.50 67.50 51.00 56.25 57.00 56.00 55.00 51.75 41.00\n",
            "[361] 51.00 51.75 51.00 62.75 60.25 56.75 63.25 49.25 53.25 55.75 65.25 62.25\n",
            "[373] 65.00 49.75 63.00 53.75 50.75 54.00 54.50 66.25 67.00 48.00 60.00 57.00\n",
            "[385] 54.50 49.00 55.50 50.50 65.00 60.25 61.00 49.75 57.75 52.25 53.25 62.25\n",
            "[397] 51.25 53.25 55.75 61.25 61.00 49.00 50.25 55.75 47.00 57.75 57.25 63.25\n",
            "[409] 66.00 40.00 53.50 64.00 46.75 50.25 54.50 52.00 51.75 55.00 52.25 67.75\n",
            "[421] 63.50 48.75 52.50 59.00 58.50 57.75 56.25 56.50 57.50 54.00 68.75 53.50\n",
            "[433] 50.00 42.75 55.00 69.25 35.00 52.25 49.25 63.50 61.00 49.50 64.75 49.25\n",
            "[445] 65.75 56.50 56.75 53.50 47.75 59.50 41.25 60.75 60.00 51.75 59.75 55.50\n",
            "[457] 69.00 63.25 73.75 54.00 63.50 74.50 62.25 48.50 42.25 59.50 63.50 64.25\n",
            "[469] 38.00 48.00 52.25 44.50 64.25 34.50 51.25 53.25 47.75 55.00 66.50 60.00\n",
            "[481] 55.75 39.75 45.75 50.75 54.75 55.75 61.75 45.25 61.75 61.50 53.50 56.00\n",
            "[493] 58.75 64.25 54.75 59.00 60.25 51.00 50.50 60.00 57.25 61.25 56.75 54.00\n",
            "[505] 47.75 46.50 52.00 56.00 44.75 58.75 65.75 51.75 51.50 46.50 70.50 70.25\n",
            "[517] 39.75 50.50 66.00 50.00 66.00 56.50 63.50 51.75 72.25 60.00 47.50 52.75\n",
            "[529] 61.75 52.25 47.75 49.50 49.00 63.25 51.25 51.00 51.00 45.25 64.25 52.25\n",
            "[541] 49.25 57.00 49.50 63.50 59.75 67.75 55.75 49.00 55.00 65.50 46.25 54.75\n",
            "[553] 52.75 64.00 66.50 62.75 58.00 43.75 65.25 51.25 59.75 58.75 66.00 52.50\n",
            "[565] 45.50 43.50 63.75 54.75 52.00 57.75 50.25 53.00 40.75 45.00 59.50 56.75\n",
            "[577] 76.50 54.25 53.50 62.50 60.00 50.25 45.00 44.25 61.25 39.00 69.25 47.75\n",
            "[589] 55.25 51.75 55.25 53.25 56.50 59.75 55.25 49.25 49.00 67.25 44.50 59.00\n",
            "[601] 55.50 52.50 59.25 54.75 55.50 63.25 49.25 60.25 60.25 40.50 46.00 55.75\n",
            "[613] 65.50 59.75 64.50 58.75 55.00 61.75 58.25 67.25 56.75 58.50 53.25 59.25\n",
            "[625] 44.50 63.50 51.25 66.00 57.00 54.25 56.00 57.00 50.25 69.50 71.00 50.25\n",
            "[637] 52.75 59.50 56.75 49.50 67.25 55.00 44.25 55.50 46.00 43.00 39.00 67.00\n",
            "[649] 49.75 59.75 52.75 54.25 52.75 53.50 63.00 52.75 47.50 50.25 43.25 63.75\n",
            "[661] 48.00 69.25 57.00 58.50 69.00 53.50 69.75 58.25 43.00 54.00 58.75 58.75\n",
            "[673] 49.25 47.25 59.75 54.25 44.25 62.00 52.50 61.00 53.00 44.25 61.50 41.75\n",
            "[685] 66.00 62.25 55.50 53.00 58.75 49.00 49.25 50.00 63.75 56.50 48.00 51.75\n",
            "[697] 52.75 37.50 45.75 54.50 59.00 51.75 51.50 58.25 46.25 50.25 47.25 49.00\n",
            "[709] 62.25 52.00 57.75 66.75 53.25 55.75 57.00 55.75 66.00 50.00 53.50 48.00\n",
            "[721] 58.25 69.00 53.75 60.75 63.00 60.50 62.75 44.50 45.00 53.50 49.00 54.50\n",
            "[733] 54.25 50.25 51.75 62.50 55.00 57.75 63.75 55.25 46.00 68.50 40.00 45.75\n",
            "[745] 40.00 58.00 49.75 58.25 56.25 43.25 47.75 39.50 61.75 60.75 40.25 50.75\n",
            "[757] 60.50 61.00 57.75 62.00 54.50 56.25 54.25 53.25 62.50 54.25 58.25 57.00\n",
            "[769] 52.00 59.25 70.50 47.00 56.75 52.75 59.50 58.50 52.50 56.50 50.50 53.50\n",
            "[781] 46.75 60.50 51.25 47.50 58.75 46.75 47.00 55.25 55.00 71.00 57.50 64.75\n",
            "[793] 56.50 56.25 56.00 44.75 41.00 41.75 61.00 47.00\n"
          ]
        }
      ]
    },
    {
      "cell_type": "code",
      "metadata": {
        "colab": {
          "base_uri": "https://localhost:8080/",
          "height": 142
        },
        "id": "c32SUAeqc69J",
        "outputId": "0e45b0b5-7698-4880-955c-186bbc94e325"
      },
      "source": [
        "jhk2.groupby(jhk['성별']).mean()"
      ],
      "execution_count": null,
      "outputs": [
        {
          "output_type": "execute_result",
          "data": {
            "text/html": [
              "<div>\n",
              "<style scoped>\n",
              "    .dataframe tbody tr th:only-of-type {\n",
              "        vertical-align: middle;\n",
              "    }\n",
              "\n",
              "    .dataframe tbody tr th {\n",
              "        vertical-align: top;\n",
              "    }\n",
              "\n",
              "    .dataframe thead th {\n",
              "        text-align: right;\n",
              "    }\n",
              "</style>\n",
              "<table border=\"1\" class=\"dataframe\">\n",
              "  <thead>\n",
              "    <tr style=\"text-align: right;\">\n",
              "      <th></th>\n",
              "      <th>협동성</th>\n",
              "      <th>자기주장</th>\n",
              "      <th>기능</th>\n",
              "      <th>지식</th>\n",
              "    </tr>\n",
              "    <tr>\n",
              "      <th>성별</th>\n",
              "      <th></th>\n",
              "      <th></th>\n",
              "      <th></th>\n",
              "      <th></th>\n",
              "    </tr>\n",
              "  </thead>\n",
              "  <tbody>\n",
              "    <tr>\n",
              "      <th>F</th>\n",
              "      <td>52.921136</td>\n",
              "      <td>57.416404</td>\n",
              "      <td>50.378549</td>\n",
              "      <td>63.056782</td>\n",
              "    </tr>\n",
              "    <tr>\n",
              "      <th>M</th>\n",
              "      <td>50.055901</td>\n",
              "      <td>58.391304</td>\n",
              "      <td>49.761905</td>\n",
              "      <td>62.968944</td>\n",
              "    </tr>\n",
              "  </tbody>\n",
              "</table>\n",
              "</div>"
            ],
            "text/plain": [
              "          협동성       자기주장         기능         지식\n",
              "성별                                            \n",
              "F   52.921136  57.416404  50.378549  63.056782\n",
              "M   50.055901  58.391304  49.761905  62.968944"
            ]
          },
          "metadata": {},
          "execution_count": 77
        }
      ]
    },
    {
      "cell_type": "code",
      "metadata": {
        "colab": {
          "base_uri": "https://localhost:8080/",
          "height": 142
        },
        "id": "8FuO0MZSdEER",
        "outputId": "d5d0578b-a49c-4efd-bbe9-353baa5c15a7"
      },
      "source": [
        "jhk2.groupby(jhk['성별']).std()"
      ],
      "execution_count": null,
      "outputs": [
        {
          "output_type": "execute_result",
          "data": {
            "text/html": [
              "<div>\n",
              "<style scoped>\n",
              "    .dataframe tbody tr th:only-of-type {\n",
              "        vertical-align: middle;\n",
              "    }\n",
              "\n",
              "    .dataframe tbody tr th {\n",
              "        vertical-align: top;\n",
              "    }\n",
              "\n",
              "    .dataframe thead th {\n",
              "        text-align: right;\n",
              "    }\n",
              "</style>\n",
              "<table border=\"1\" class=\"dataframe\">\n",
              "  <thead>\n",
              "    <tr style=\"text-align: right;\">\n",
              "      <th></th>\n",
              "      <th>협동성</th>\n",
              "      <th>자기주장</th>\n",
              "      <th>기능</th>\n",
              "      <th>지식</th>\n",
              "    </tr>\n",
              "    <tr>\n",
              "      <th>성별</th>\n",
              "      <th></th>\n",
              "      <th></th>\n",
              "      <th></th>\n",
              "      <th></th>\n",
              "    </tr>\n",
              "  </thead>\n",
              "  <tbody>\n",
              "    <tr>\n",
              "      <th>F</th>\n",
              "      <td>9.845809</td>\n",
              "      <td>11.233291</td>\n",
              "      <td>10.153034</td>\n",
              "      <td>7.662786</td>\n",
              "    </tr>\n",
              "    <tr>\n",
              "      <th>M</th>\n",
              "      <td>10.116078</td>\n",
              "      <td>12.462645</td>\n",
              "      <td>9.912231</td>\n",
              "      <td>8.214264</td>\n",
              "    </tr>\n",
              "  </tbody>\n",
              "</table>\n",
              "</div>"
            ],
            "text/plain": [
              "          협동성       자기주장         기능        지식\n",
              "성별                                           \n",
              "F    9.845809  11.233291  10.153034  7.662786\n",
              "M   10.116078  12.462645   9.912231  8.214264"
            ]
          },
          "metadata": {},
          "execution_count": 78
        }
      ]
    },
    {
      "cell_type": "markdown",
      "metadata": {
        "id": "DPMkOAExeSt9"
      },
      "source": [
        "## 데이터의 표준화"
      ]
    },
    {
      "cell_type": "markdown",
      "metadata": {
        "id": "yaLqb3IMeaNM"
      },
      "source": [
        "z 점수의 평균은 0, 표준편차는 1.\n",
        "아 그리고 여기선 당연하지만 변수별로 표준화한 거"
      ]
    },
    {
      "cell_type": "code",
      "metadata": {
        "colab": {
          "base_uri": "https://localhost:8080/"
        },
        "id": "7q3LZlNceUhc",
        "outputId": "07631ec0-6db4-4256-e87b-6e4e21e9fe57"
      },
      "source": [
        "%%R\n",
        "zscore <- scale(jhk2)\n",
        "head(zscore, 2)"
      ],
      "execution_count": null,
      "outputs": [
        {
          "output_type": "stream",
          "name": "stdout",
          "text": [
            "         협동성   자기주장       기능     지식\n",
            "[1,]  1.8619812 -1.0843912 1.49839107 1.000089\n",
            "[2,] -0.6129058  0.3331136 0.09930979 1.125159\n"
          ]
        }
      ]
    },
    {
      "cell_type": "markdown",
      "metadata": {
        "id": "bpG3wCSkef7u"
      },
      "source": [
        "평균을 50, 표준편차를 10으로 조정해보자"
      ]
    },
    {
      "cell_type": "code",
      "metadata": {
        "colab": {
          "base_uri": "https://localhost:8080/"
        },
        "id": "4_N_sjjFeXlT",
        "outputId": "ae658cd1-4236-4d01-fe44-b7a8db4c0ec2"
      },
      "source": [
        "%%R\n",
        "tscore <- zscore * 10 + 50\n",
        "head(tscore, 2)"
      ],
      "execution_count": null,
      "outputs": [
        {
          "output_type": "stream",
          "name": "stdout",
          "text": [
            "       협동성 자기주장     기능     지식\n",
            "[1,] 68.61981 39.15609 64.98391 60.00089\n",
            "[2,] 43.87094 53.33114 50.99310 61.25159\n"
          ]
        }
      ]
    },
    {
      "cell_type": "code",
      "metadata": {
        "colab": {
          "base_uri": "https://localhost:8080/"
        },
        "id": "ZlPzlhogesRY",
        "outputId": "f0963c55-2755-4d66-f02c-7e0832d7a383"
      },
      "source": [
        "zscore = (jhk2 - jhk2.mean()) / jhk2.std()\n",
        "zscore.head()"
      ],
      "execution_count": null,
      "outputs": [
        {
          "output_type": "execute_result",
          "data": {
            "text/html": [
              "<div>\n",
              "<style scoped>\n",
              "    .dataframe tbody tr th:only-of-type {\n",
              "        vertical-align: middle;\n",
              "    }\n",
              "\n",
              "    .dataframe tbody tr th {\n",
              "        vertical-align: top;\n",
              "    }\n",
              "\n",
              "    .dataframe thead th {\n",
              "        text-align: right;\n",
              "    }\n",
              "</style>\n",
              "<table border=\"1\" class=\"dataframe\">\n",
              "  <thead>\n",
              "    <tr style=\"text-align: right;\">\n",
              "      <th></th>\n",
              "      <th>협동성</th>\n",
              "      <th>자기주장</th>\n",
              "      <th>기능</th>\n",
              "      <th>지식</th>\n",
              "    </tr>\n",
              "  </thead>\n",
              "  <tbody>\n",
              "    <tr>\n",
              "      <th>0</th>\n",
              "      <td>1.861981</td>\n",
              "      <td>-1.084391</td>\n",
              "      <td>1.498391</td>\n",
              "      <td>1.000089</td>\n",
              "    </tr>\n",
              "    <tr>\n",
              "      <th>1</th>\n",
              "      <td>-0.612906</td>\n",
              "      <td>0.333114</td>\n",
              "      <td>0.099310</td>\n",
              "      <td>1.125159</td>\n",
              "    </tr>\n",
              "    <tr>\n",
              "      <th>2</th>\n",
              "      <td>0.278054</td>\n",
              "      <td>1.000175</td>\n",
              "      <td>0.499047</td>\n",
              "      <td>0.875019</td>\n",
              "    </tr>\n",
              "    <tr>\n",
              "      <th>3</th>\n",
              "      <td>-0.018933</td>\n",
              "      <td>0.416496</td>\n",
              "      <td>0.299179</td>\n",
              "      <td>0.249670</td>\n",
              "    </tr>\n",
              "    <tr>\n",
              "      <th>4</th>\n",
              "      <td>0.476045</td>\n",
              "      <td>-0.500713</td>\n",
              "      <td>-0.600231</td>\n",
              "      <td>0.624880</td>\n",
              "    </tr>\n",
              "  </tbody>\n",
              "</table>\n",
              "</div>"
            ],
            "text/plain": [
              "        협동성      자기주장        기능        지식\n",
              "0  1.861981 -1.084391  1.498391  1.000089\n",
              "1 -0.612906  0.333114  0.099310  1.125159\n",
              "2  0.278054  1.000175  0.499047  0.875019\n",
              "3 -0.018933  0.416496  0.299179  0.249670\n",
              "4  0.476045 -0.500713 -0.600231  0.624880"
            ]
          },
          "metadata": {},
          "execution_count": 81
        }
      ]
    },
    {
      "cell_type": "code",
      "metadata": {
        "colab": {
          "base_uri": "https://localhost:8080/"
        },
        "id": "mok5cgt7e6gr",
        "outputId": "945564fc-51f9-4e7a-d016-0d1cda05ab6e"
      },
      "source": [
        "tscore = zscore * 10 + 50\n",
        "tscore.head(2)"
      ],
      "execution_count": null,
      "outputs": [
        {
          "output_type": "execute_result",
          "data": {
            "text/html": [
              "<div>\n",
              "<style scoped>\n",
              "    .dataframe tbody tr th:only-of-type {\n",
              "        vertical-align: middle;\n",
              "    }\n",
              "\n",
              "    .dataframe tbody tr th {\n",
              "        vertical-align: top;\n",
              "    }\n",
              "\n",
              "    .dataframe thead th {\n",
              "        text-align: right;\n",
              "    }\n",
              "</style>\n",
              "<table border=\"1\" class=\"dataframe\">\n",
              "  <thead>\n",
              "    <tr style=\"text-align: right;\">\n",
              "      <th></th>\n",
              "      <th>협동성</th>\n",
              "      <th>자기주장</th>\n",
              "      <th>기능</th>\n",
              "      <th>지식</th>\n",
              "    </tr>\n",
              "  </thead>\n",
              "  <tbody>\n",
              "    <tr>\n",
              "      <th>0</th>\n",
              "      <td>68.619812</td>\n",
              "      <td>39.156088</td>\n",
              "      <td>64.983911</td>\n",
              "      <td>60.000889</td>\n",
              "    </tr>\n",
              "    <tr>\n",
              "      <th>1</th>\n",
              "      <td>43.870942</td>\n",
              "      <td>53.331136</td>\n",
              "      <td>50.993098</td>\n",
              "      <td>61.251586</td>\n",
              "    </tr>\n",
              "  </tbody>\n",
              "</table>\n",
              "</div>"
            ],
            "text/plain": [
              "         협동성       자기주장         기능         지식\n",
              "0  68.619812  39.156088  64.983911  60.000889\n",
              "1  43.870942  53.331136  50.993098  61.251586"
            ]
          },
          "metadata": {},
          "execution_count": 82
        }
      ]
    },
    {
      "cell_type": "code",
      "metadata": {
        "colab": {
          "base_uri": "https://localhost:8080/"
        },
        "id": "yLsFBqWZfExN",
        "outputId": "5a5e2ec6-cdd9-4f19-9bde-aa5aaafc7e04"
      },
      "source": [
        "from sklearn.preprocessing import StandardScaler\n",
        "std_scaler = StandardScaler()\n",
        "fitted = std_scaler.fit(jhk2)\n",
        "print(fitted.mean_)"
      ],
      "execution_count": null,
      "outputs": [
        {
          "output_type": "stream",
          "name": "stdout",
          "text": [
            "[51.19125 58.005   50.00625 63.00375]\n"
          ]
        }
      ]
    },
    {
      "cell_type": "code",
      "metadata": {
        "colab": {
          "base_uri": "https://localhost:8080/"
        },
        "id": "sLZmwCzOfS9t",
        "outputId": "efa4ee50-22b1-4642-ecbb-d601e2f901db"
      },
      "source": [
        "output = std_scaler.transform(jhk2)\n",
        "pd.DataFrame(output, columns=jhk2.columns)"
      ],
      "execution_count": null,
      "outputs": [
        {
          "output_type": "execute_result",
          "data": {
            "text/html": [
              "<div>\n",
              "<style scoped>\n",
              "    .dataframe tbody tr th:only-of-type {\n",
              "        vertical-align: middle;\n",
              "    }\n",
              "\n",
              "    .dataframe tbody tr th {\n",
              "        vertical-align: top;\n",
              "    }\n",
              "\n",
              "    .dataframe thead th {\n",
              "        text-align: right;\n",
              "    }\n",
              "</style>\n",
              "<table border=\"1\" class=\"dataframe\">\n",
              "  <thead>\n",
              "    <tr style=\"text-align: right;\">\n",
              "      <th></th>\n",
              "      <th>협동성</th>\n",
              "      <th>자기주장</th>\n",
              "      <th>기능</th>\n",
              "      <th>지식</th>\n",
              "    </tr>\n",
              "  </thead>\n",
              "  <tbody>\n",
              "    <tr>\n",
              "      <th>0</th>\n",
              "      <td>1.863146</td>\n",
              "      <td>-1.085070</td>\n",
              "      <td>1.499328</td>\n",
              "      <td>1.000715</td>\n",
              "    </tr>\n",
              "    <tr>\n",
              "      <th>1</th>\n",
              "      <td>-0.613289</td>\n",
              "      <td>0.333322</td>\n",
              "      <td>0.099372</td>\n",
              "      <td>1.125863</td>\n",
              "    </tr>\n",
              "    <tr>\n",
              "      <th>2</th>\n",
              "      <td>0.278228</td>\n",
              "      <td>1.000800</td>\n",
              "      <td>0.499359</td>\n",
              "      <td>0.875567</td>\n",
              "    </tr>\n",
              "    <tr>\n",
              "      <th>3</th>\n",
              "      <td>-0.018945</td>\n",
              "      <td>0.416757</td>\n",
              "      <td>0.299366</td>\n",
              "      <td>0.249827</td>\n",
              "    </tr>\n",
              "    <tr>\n",
              "      <th>4</th>\n",
              "      <td>0.476342</td>\n",
              "      <td>-0.501026</td>\n",
              "      <td>-0.600606</td>\n",
              "      <td>0.625271</td>\n",
              "    </tr>\n",
              "    <tr>\n",
              "      <th>...</th>\n",
              "      <td>...</td>\n",
              "      <td>...</td>\n",
              "      <td>...</td>\n",
              "      <td>...</td>\n",
              "    </tr>\n",
              "    <tr>\n",
              "      <th>795</th>\n",
              "      <td>-1.306691</td>\n",
              "      <td>-1.335374</td>\n",
              "      <td>-0.900597</td>\n",
              "      <td>-0.626209</td>\n",
              "    </tr>\n",
              "    <tr>\n",
              "      <th>796</th>\n",
              "      <td>-1.801978</td>\n",
              "      <td>-0.584461</td>\n",
              "      <td>-2.300554</td>\n",
              "      <td>-1.251949</td>\n",
              "    </tr>\n",
              "    <tr>\n",
              "      <th>797</th>\n",
              "      <td>-1.801978</td>\n",
              "      <td>-1.001635</td>\n",
              "      <td>-1.800569</td>\n",
              "      <td>-0.876505</td>\n",
              "    </tr>\n",
              "    <tr>\n",
              "      <th>798</th>\n",
              "      <td>-0.316117</td>\n",
              "      <td>0.833931</td>\n",
              "      <td>1.899316</td>\n",
              "      <td>-0.501061</td>\n",
              "    </tr>\n",
              "    <tr>\n",
              "      <th>799</th>\n",
              "      <td>-0.514232</td>\n",
              "      <td>-0.834765</td>\n",
              "      <td>-1.800569</td>\n",
              "      <td>-0.125617</td>\n",
              "    </tr>\n",
              "  </tbody>\n",
              "</table>\n",
              "<p>800 rows × 4 columns</p>\n",
              "</div>"
            ],
            "text/plain": [
              "          협동성      자기주장        기능        지식\n",
              "0    1.863146 -1.085070  1.499328  1.000715\n",
              "1   -0.613289  0.333322  0.099372  1.125863\n",
              "2    0.278228  1.000800  0.499359  0.875567\n",
              "3   -0.018945  0.416757  0.299366  0.249827\n",
              "4    0.476342 -0.501026 -0.600606  0.625271\n",
              "..        ...       ...       ...       ...\n",
              "795 -1.306691 -1.335374 -0.900597 -0.626209\n",
              "796 -1.801978 -0.584461 -2.300554 -1.251949\n",
              "797 -1.801978 -1.001635 -1.800569 -0.876505\n",
              "798 -0.316117  0.833931  1.899316 -0.501061\n",
              "799 -0.514232 -0.834765 -1.800569 -0.125617\n",
              "\n",
              "[800 rows x 4 columns]"
            ]
          },
          "metadata": {},
          "execution_count": 84
        }
      ]
    },
    {
      "cell_type": "code",
      "metadata": {
        "colab": {
          "base_uri": "https://localhost:8080/"
        },
        "id": "eGM8yndafhsl",
        "outputId": "7f66a668-02a1-4604-fb84-840b57ba8d45"
      },
      "source": [
        "std_scaler.fit_transform(jhk2)"
      ],
      "execution_count": null,
      "outputs": [
        {
          "output_type": "execute_result",
          "data": {
            "text/plain": [
              "array([[ 1.86314606, -1.08506956,  1.49932844,  1.00071454],\n",
              "       [-0.61328919,  0.33332202,  0.09937191,  1.12586253],\n",
              "       [ 0.2782275 ,  1.00080041,  0.49935949,  0.87556656],\n",
              "       ...,\n",
              "       [-1.80197811, -1.00163476, -1.80056908, -0.87650517],\n",
              "       [-0.31611696,  0.83393081,  1.89931602, -0.50106123],\n",
              "       [-0.51423178, -0.83476516, -1.80056908, -0.12561729]])"
            ]
          },
          "metadata": {},
          "execution_count": 85
        }
      ]
    },
    {
      "cell_type": "markdown",
      "metadata": {
        "id": "XlzmkFemfmO9"
      },
      "source": [
        "# 다변량 데이터의 관계성 분석"
      ]
    },
    {
      "cell_type": "markdown",
      "metadata": {
        "id": "pMsdKBZgfyNQ"
      },
      "source": [
        "## 상관관계 분석"
      ]
    },
    {
      "cell_type": "markdown",
      "metadata": {
        "id": "aogox81Of1St"
      },
      "source": [
        "**산점도**"
      ]
    },
    {
      "cell_type": "code",
      "metadata": {
        "colab": {
          "base_uri": "https://localhost:8080/",
          "height": 497
        },
        "id": "3RrMZPlPf69H",
        "outputId": "7a945c18-465c-489a-de78-32dd8e533864"
      },
      "source": [
        "%%R\n",
        "plot(jhk$기능, jhk$지식, xlab='기능', ylab='지식')\n",
        "# plot(지식~기능, data=jhk, xlab='기능', ylab='지식') 도 결과는 같다."
      ],
      "execution_count": null,
      "outputs": [
        {
          "output_type": "display_data",
          "data": {
            "image/png": "[encoded data removed]"
          },
          "metadata": {}
        }
      ]
    },
    {
      "cell_type": "code",
      "metadata": {
        "colab": {
          "base_uri": "https://localhost:8080/",
          "height": 278
        },
        "id": "n7lIbwzJgMCd",
        "outputId": "d22b1dbe-c4ff-4e75-d6f1-f26b40fd3ce5"
      },
      "source": [
        "sns.scatterplot(x='기능', y='지식', data=jhk)\n",
        "plt.show()"
      ],
      "execution_count": null,
      "outputs": [
        {
          "output_type": "display_data",
          "data": {
            "image/png": "[encoded data removed]",
            "text/plain": [
              "<Figure size 432x288 with 1 Axes>"
            ]
          },
          "metadata": {
            "needs_background": "light"
          }
        }
      ]
    },
    {
      "cell_type": "markdown",
      "metadata": {
        "id": "PiDv5q8GhXnO"
      },
      "source": [
        "**산점도 행렬**"
      ]
    },
    {
      "cell_type": "code",
      "metadata": {
        "colab": {
          "base_uri": "https://localhost:8080/",
          "height": 497
        },
        "id": "f1gkMo_lgp57",
        "outputId": "187d05ad-d3ba-4d27-c401-c553a89db521"
      },
      "source": [
        "%%R\n",
        "kjs <- c('협동성', '자기주장', '스트레스')\n",
        "plot(jhk[,kjs])"
      ],
      "execution_count": null,
      "outputs": [
        {
          "output_type": "display_data",
          "data": {
            "image/png": "[encoded data removed]"
          },
          "metadata": {}
        }
      ]
    },
    {
      "cell_type": "code",
      "metadata": {
        "colab": {
          "base_uri": "https://localhost:8080/",
          "height": 550
        },
        "id": "L3WULxdhg49G",
        "outputId": "f4ee7285-9cfe-4a99-974f-d092695ad805"
      },
      "source": [
        "kjs = ['협동성', '자기주장', '스트레스']\n",
        "sns.pairplot(jhk[kjs])\n",
        "plt.show()"
      ],
      "execution_count": null,
      "outputs": [
        {
          "output_type": "display_data",
          "data": {
            "image/png": "[encoded data removed]",
            "text/plain": [
              "<Figure size 540x540 with 12 Axes>"
            ]
          },
          "metadata": {
            "needs_background": "light"
          }
        }
      ]
    },
    {
      "cell_type": "markdown",
      "metadata": {
        "id": "TWKWVwOkhVXe"
      },
      "source": [
        "**층별 산점도**"
      ]
    },
    {
      "cell_type": "code",
      "metadata": {
        "colab": {
          "base_uri": "https://localhost:8080/",
          "height": 497
        },
        "id": "A0O5iaUbhaA_",
        "outputId": "541582bc-e7ea-42d9-eb86-2d1da4b28ecb"
      },
      "source": [
        "# lattice 패키지임 참고로\n",
        "%%R\n",
        "xyplot(지식~기능|연령+부서, data=jhk)"
      ],
      "execution_count": null,
      "outputs": [
        {
          "output_type": "display_data",
          "data": {
            "image/png": "[encoded data removed]"
          },
          "metadata": {}
        }
      ]
    },
    {
      "cell_type": "code",
      "metadata": {
        "colab": {
          "base_uri": "https://localhost:8080/",
          "height": 441
        },
        "id": "UX79fs3jhpDQ",
        "outputId": "d19c0af1-6dc0-490b-87d1-71c3554b26a4"
      },
      "source": [
        "g = sns.FacetGrid(jhk, row='부서', col='연령')\n",
        "g.map(sns.scatterplot, '기능', '지식')\n",
        "plt.show()"
      ],
      "execution_count": null,
      "outputs": [
        {
          "output_type": "display_data",
          "data": {
            "image/png": "[encoded data removed]",
            "text/plain": [
              "<Figure size 648x432 with 6 Axes>"
            ]
          },
          "metadata": {
            "needs_background": "light"
          }
        }
      ]
    },
    {
      "cell_type": "markdown",
      "metadata": {
        "id": "wSLU9dVZiHhd"
      },
      "source": [
        "**상관계수**"
      ]
    },
    {
      "cell_type": "code",
      "metadata": {
        "colab": {
          "base_uri": "https://localhost:8080/"
        },
        "id": "MezGQlVJiLqn",
        "outputId": "ef96f62b-9269-49ed-ca91-c46adc78df50"
      },
      "source": [
        "%%R\n",
        "cor(jhk$협동성, jhk$스트레스)"
      ],
      "execution_count": null,
      "outputs": [
        {
          "output_type": "stream",
          "name": "stdout",
          "text": [
            "[1] -0.507292\n"
          ]
        }
      ]
    },
    {
      "cell_type": "code",
      "metadata": {
        "colab": {
          "base_uri": "https://localhost:8080/"
        },
        "id": "VcQnXnTticdM",
        "outputId": "383e9b88-3bfd-4486-bf13-4546ee15ab44"
      },
      "source": [
        "jhk['협동성'].corr(jhk['스트레스'])"
      ],
      "execution_count": null,
      "outputs": [
        {
          "output_type": "execute_result",
          "data": {
            "text/plain": [
              "-0.5072919779026461"
            ]
          },
          "metadata": {},
          "execution_count": 93
        }
      ]
    },
    {
      "cell_type": "code",
      "metadata": {
        "colab": {
          "base_uri": "https://localhost:8080/"
        },
        "id": "-6U6A_G0ifGj",
        "outputId": "0f8d7ebe-13b7-4366-9909-5aed800e1e98"
      },
      "source": [
        "np.corrcoef(jhk.협동성, jhk.스트레스)"
      ],
      "execution_count": null,
      "outputs": [
        {
          "output_type": "execute_result",
          "data": {
            "text/plain": [
              "array([[ 1.        , -0.50729198],\n",
              "       [-0.50729198,  1.        ]])"
            ]
          },
          "metadata": {},
          "execution_count": 94
        }
      ]
    },
    {
      "cell_type": "code",
      "metadata": {
        "colab": {
          "base_uri": "https://localhost:8080/"
        },
        "id": "rsNXIJpLiR5V",
        "outputId": "62e48ec1-a332-4182-8774-909df578a23d"
      },
      "source": [
        "# 상관행렬\n",
        "%%R\n",
        "cor(jhk[,kjs])"
      ],
      "execution_count": null,
      "outputs": [
        {
          "output_type": "stream",
          "name": "stdout",
          "text": [
            "             협동성  자기주장   스트레스\n",
            "협동성    1.0000000 0.3486028 -0.5072920\n",
            "자기주장  0.3486028 1.0000000  0.1147188\n",
            "스트레스 -0.5072920 0.1147188  1.0000000\n"
          ]
        }
      ]
    },
    {
      "cell_type": "code",
      "metadata": {
        "colab": {
          "base_uri": "https://localhost:8080/",
          "height": 142
        },
        "id": "ZnhByCTeijqj",
        "outputId": "761ea06e-c45e-4c5d-fc22-d29c6ae23265"
      },
      "source": [
        "jhk[kjs].corr()"
      ],
      "execution_count": null,
      "outputs": [
        {
          "output_type": "execute_result",
          "data": {
            "text/html": [
              "<div>\n",
              "<style scoped>\n",
              "    .dataframe tbody tr th:only-of-type {\n",
              "        vertical-align: middle;\n",
              "    }\n",
              "\n",
              "    .dataframe tbody tr th {\n",
              "        vertical-align: top;\n",
              "    }\n",
              "\n",
              "    .dataframe thead th {\n",
              "        text-align: right;\n",
              "    }\n",
              "</style>\n",
              "<table border=\"1\" class=\"dataframe\">\n",
              "  <thead>\n",
              "    <tr style=\"text-align: right;\">\n",
              "      <th></th>\n",
              "      <th>협동성</th>\n",
              "      <th>자기주장</th>\n",
              "      <th>스트레스</th>\n",
              "    </tr>\n",
              "  </thead>\n",
              "  <tbody>\n",
              "    <tr>\n",
              "      <th>협동성</th>\n",
              "      <td>1.000000</td>\n",
              "      <td>0.348603</td>\n",
              "      <td>-0.507292</td>\n",
              "    </tr>\n",
              "    <tr>\n",
              "      <th>자기주장</th>\n",
              "      <td>0.348603</td>\n",
              "      <td>1.000000</td>\n",
              "      <td>0.114719</td>\n",
              "    </tr>\n",
              "    <tr>\n",
              "      <th>스트레스</th>\n",
              "      <td>-0.507292</td>\n",
              "      <td>0.114719</td>\n",
              "      <td>1.000000</td>\n",
              "    </tr>\n",
              "  </tbody>\n",
              "</table>\n",
              "</div>"
            ],
            "text/plain": [
              "           협동성      자기주장      스트레스\n",
              "협동성   1.000000  0.348603 -0.507292\n",
              "자기주장  0.348603  1.000000  0.114719\n",
              "스트레스 -0.507292  0.114719  1.000000"
            ]
          },
          "metadata": {},
          "execution_count": 96
        }
      ]
    },
    {
      "cell_type": "code",
      "metadata": {
        "colab": {
          "base_uri": "https://localhost:8080/"
        },
        "id": "m1NhGKz-irAx",
        "outputId": "227e4736-0a8f-4978-bfe0-1243465bebc1"
      },
      "source": [
        "# 공분산 행렬\n",
        "%%R\n",
        "cov(jhk[,kjs])"
      ],
      "execution_count": null,
      "outputs": [
        {
          "output_type": "stream",
          "name": "stdout",
          "text": [
            "            협동성   자기주장   스트레스\n",
            "협동성   102.03972  42.231834 -30.863620\n",
            "자기주장  42.23183 143.829762   8.286345\n",
            "스트레스 -30.86362   8.286345  36.275088\n"
          ]
        }
      ]
    },
    {
      "cell_type": "code",
      "metadata": {
        "colab": {
          "base_uri": "https://localhost:8080/",
          "height": 142
        },
        "id": "iRaXj8h6iwFc",
        "outputId": "2d28f844-3d96-4d95-ccab-e3a2c6db94dc"
      },
      "source": [
        "jhk[kjs].cov()"
      ],
      "execution_count": null,
      "outputs": [
        {
          "output_type": "execute_result",
          "data": {
            "text/html": [
              "<div>\n",
              "<style scoped>\n",
              "    .dataframe tbody tr th:only-of-type {\n",
              "        vertical-align: middle;\n",
              "    }\n",
              "\n",
              "    .dataframe tbody tr th {\n",
              "        vertical-align: top;\n",
              "    }\n",
              "\n",
              "    .dataframe thead th {\n",
              "        text-align: right;\n",
              "    }\n",
              "</style>\n",
              "<table border=\"1\" class=\"dataframe\">\n",
              "  <thead>\n",
              "    <tr style=\"text-align: right;\">\n",
              "      <th></th>\n",
              "      <th>협동성</th>\n",
              "      <th>자기주장</th>\n",
              "      <th>스트레스</th>\n",
              "    </tr>\n",
              "  </thead>\n",
              "  <tbody>\n",
              "    <tr>\n",
              "      <th>협동성</th>\n",
              "      <td>102.039723</td>\n",
              "      <td>42.231834</td>\n",
              "      <td>-30.863620</td>\n",
              "    </tr>\n",
              "    <tr>\n",
              "      <th>자기주장</th>\n",
              "      <td>42.231834</td>\n",
              "      <td>143.829762</td>\n",
              "      <td>8.286345</td>\n",
              "    </tr>\n",
              "    <tr>\n",
              "      <th>스트레스</th>\n",
              "      <td>-30.863620</td>\n",
              "      <td>8.286345</td>\n",
              "      <td>36.275088</td>\n",
              "    </tr>\n",
              "  </tbody>\n",
              "</table>\n",
              "</div>"
            ],
            "text/plain": [
              "             협동성        자기주장       스트레스\n",
              "협동성   102.039723   42.231834 -30.863620\n",
              "자기주장   42.231834  143.829762   8.286345\n",
              "스트레스  -30.863620    8.286345  36.275088"
            ]
          },
          "metadata": {},
          "execution_count": 98
        }
      ]
    },
    {
      "cell_type": "markdown",
      "metadata": {
        "id": "FDWPCun-i1Ai"
      },
      "source": [
        "**상관계수 검정**"
      ]
    },
    {
      "cell_type": "code",
      "metadata": {
        "colab": {
          "base_uri": "https://localhost:8080/"
        },
        "id": "1zVLC0Mci68B",
        "outputId": "14d3a2c6-dbfc-4b6d-f8a6-523f339a5a4b"
      },
      "source": [
        "%%R\n",
        "cor.test(jhk$협동성, jhk$스트레스)"
      ],
      "execution_count": null,
      "outputs": [
        {
          "output_type": "stream",
          "name": "stdout",
          "text": [
            "\n",
            "\tPearson's product-moment correlation\n",
            "\n",
            "data:  jhk$협동성 and jhk$스트레스\n",
            "t = -16.629, df = 798, p-value < 2.2e-16\n",
            "alternative hypothesis: true correlation is not equal to 0\n",
            "95 percent confidence interval:\n",
            " -0.5570199 -0.4539395\n",
            "sample estimates:\n",
            "      cor \n",
            "-0.507292 \n",
            "\n"
          ]
        }
      ]
    },
    {
      "cell_type": "markdown",
      "metadata": {
        "id": "ustLURYZjCR2"
      },
      "source": [
        "여러 변수를 동시에 검정하고 싶다면, psych 패키지의 함수 corr.test를 이용해보자"
      ]
    },
    {
      "cell_type": "code",
      "metadata": {
        "id": "0d7rBrSS-axJ"
      },
      "source": [
        ""
      ],
      "execution_count": null,
      "outputs": []
    },
    {
      "cell_type": "code",
      "metadata": {
        "colab": {
          "base_uri": "https://localhost:8080/"
        },
        "id": "Zimc-hURjFb5",
        "outputId": "37c80b04-6f7f-4c89-92c6-9c80fe962ccb"
      },
      "source": [
        "%%R\n",
        "library(psych)\n",
        "corkekka <- corr.test(jhk[,kjs])\n",
        "print(corkekka, short=FALSE)"
      ],
      "execution_count": null,
      "outputs": [
        {
          "output_type": "stream",
          "name": "stdout",
          "text": [
            "Call:corr.test(x = jhk[, kjs])\n",
            "Correlation matrix \n",
            "         협동성 자기주장 스트레스\n",
            "협동성     1.00     0.35    -0.51\n",
            "자기주장   0.35     1.00     0.11\n",
            "스트레스  -0.51     0.11     1.00\n",
            "Sample Size \n",
            "[1] 800\n",
            "Probability values (Entries above the diagonal are adjusted for multiple tests.) \n",
            "         협동성 자기주장 스트레스\n",
            "협동성        0        0        0\n",
            "자기주장      0        0        0\n",
            "스트레스      0        0        0\n",
            "\n",
            " Confidence intervals based upon normal theory.  To get bootstrapped values, try cor.ci\n",
            "                  raw.lower raw.r raw.upper raw.p lower.adj upper.adj\n",
            "협동성-자기주장        0.29  0.35      0.41     0      0.28      0.42\n",
            "협동성-스트레스       -0.56 -0.51     -0.45     0     -0.57     -0.44\n",
            "자기주장-스트레스      0.05  0.11      0.18     0      0.05      0.18\n"
          ]
        }
      ]
    },
    {
      "cell_type": "code",
      "metadata": {
        "colab": {
          "base_uri": "https://localhost:8080/"
        },
        "id": "YIFhjNG2j6j1",
        "outputId": "8ce7236b-2005-4913-ff72-3ea6c4ccde58"
      },
      "source": [
        "%%R\n",
        "corkekka$t"
      ],
      "execution_count": null,
      "outputs": [
        {
          "output_type": "stream",
          "name": "stdout",
          "text": [
            "            협동성  자기주장   스트레스\n",
            "협동성         Inf 10.506726 -16.628992\n",
            "자기주장  10.50673       Inf   3.262215\n",
            "스트레스 -16.62899  3.262215        Inf\n"
          ]
        }
      ]
    },
    {
      "cell_type": "code",
      "metadata": {
        "colab": {
          "base_uri": "https://localhost:8080/"
        },
        "id": "B7PtLrFEj9jK",
        "outputId": "42dc2a2a-e3ac-49fe-cb81-4f550c18150a"
      },
      "source": [
        "%%R\n",
        "corkekka$p"
      ],
      "execution_count": null,
      "outputs": [
        {
          "output_type": "stream",
          "name": "stdout",
          "text": [
            "               협동성     자기주장     스트레스\n",
            "협동성   0.000000e+00 5.674197e-24 4.625242e-53\n",
            "자기주장 2.837099e-24 0.000000e+00 1.152430e-03\n",
            "스트레스 1.541747e-53 1.152430e-03 0.000000e+00\n"
          ]
        }
      ]
    },
    {
      "cell_type": "markdown",
      "metadata": {
        "id": "b99kBjqCkAFv"
      },
      "source": [
        "상감각행렬에는 검정의 반복을 고려한 유의확률이,\n",
        "\n",
        "하삼각행렬엔 검정의 반복을 고려하지 않은 유의확률이 기재되어 있다.\n"
      ]
    },
    {
      "cell_type": "markdown",
      "metadata": {
        "id": "6ew5vDPOkM8D"
      },
      "source": [
        "## 연관분석"
      ]
    },
    {
      "cell_type": "markdown",
      "metadata": {
        "id": "hcQYfPiGkdJX"
      },
      "source": [
        "연관: 두 가지 질적변수 사이의 연관성\n",
        "\n",
        "(질적 변수 <-> 양적 변수. 질적 변수는 이산, 양적 변수는 연속으로 이해하면 쉬울 거임.)\n"
      ]
    },
    {
      "cell_type": "markdown",
      "metadata": {
        "id": "1R7CIL3bk10a"
      },
      "source": [
        "**교차 집계표**"
      ]
    },
    {
      "cell_type": "markdown",
      "metadata": {
        "id": "4qIakll8k5OC"
      },
      "source": [
        "여기서 부서와 연령은 이산변수이다. 이상한 일본식 표현 말고 내가 쓰던 표현 쓸 거임."
      ]
    },
    {
      "cell_type": "code",
      "metadata": {
        "colab": {
          "base_uri": "https://localhost:8080/"
        },
        "id": "mS5iE8Sak3oS",
        "outputId": "834b392a-5f39-41c6-dd08-2ae1cfe3e48c"
      },
      "source": [
        "%%R\n",
        "cross <- table(jhk$부서, jhk$연령)\n",
        "cross"
      ],
      "execution_count": null,
      "outputs": [
        {
          "output_type": "stream",
          "name": "stdout",
          "text": [
            "     \n",
            "      숙련 중견 청년\n",
            "  A부   58  150  216\n",
            "  B부  119  158   99\n"
          ]
        }
      ]
    },
    {
      "cell_type": "code",
      "metadata": {
        "colab": {
          "base_uri": "https://localhost:8080/",
          "height": 142
        },
        "id": "vcBFYy-KlAPp",
        "outputId": "fa390f14-0779-47a2-b345-37777309638f"
      },
      "source": [
        "cross = pd.crosstab(jhk.부서, jhk.연령)\n",
        "cross"
      ],
      "execution_count": null,
      "outputs": [
        {
          "output_type": "execute_result",
          "data": {
            "text/html": [
              "<div>\n",
              "<style scoped>\n",
              "    .dataframe tbody tr th:only-of-type {\n",
              "        vertical-align: middle;\n",
              "    }\n",
              "\n",
              "    .dataframe tbody tr th {\n",
              "        vertical-align: top;\n",
              "    }\n",
              "\n",
              "    .dataframe thead th {\n",
              "        text-align: right;\n",
              "    }\n",
              "</style>\n",
              "<table border=\"1\" class=\"dataframe\">\n",
              "  <thead>\n",
              "    <tr style=\"text-align: right;\">\n",
              "      <th>연령</th>\n",
              "      <th>숙련</th>\n",
              "      <th>중견</th>\n",
              "      <th>청년</th>\n",
              "    </tr>\n",
              "    <tr>\n",
              "      <th>부서</th>\n",
              "      <th></th>\n",
              "      <th></th>\n",
              "      <th></th>\n",
              "    </tr>\n",
              "  </thead>\n",
              "  <tbody>\n",
              "    <tr>\n",
              "      <th>A부</th>\n",
              "      <td>58</td>\n",
              "      <td>150</td>\n",
              "      <td>216</td>\n",
              "    </tr>\n",
              "    <tr>\n",
              "      <th>B부</th>\n",
              "      <td>119</td>\n",
              "      <td>158</td>\n",
              "      <td>99</td>\n",
              "    </tr>\n",
              "  </tbody>\n",
              "</table>\n",
              "</div>"
            ],
            "text/plain": [
              "연령   숙련   중견   청년\n",
              "부서               \n",
              "A부   58  150  216\n",
              "B부  119  158   99"
            ]
          },
          "metadata": {},
          "execution_count": 108
        }
      ]
    },
    {
      "cell_type": "markdown",
      "metadata": {
        "id": "gaRmB6IKlM5t"
      },
      "source": [
        "비율 표기로 변환해 보자."
      ]
    },
    {
      "cell_type": "code",
      "metadata": {
        "colab": {
          "base_uri": "https://localhost:8080/"
        },
        "id": "RZumOEvYlPqq",
        "outputId": "8aece960-ee35-45a8-9f70-2cedf70600bf"
      },
      "source": [
        "# 전체를 기준으로\n",
        "%%R\n",
        "prop.table(cross)"
      ],
      "execution_count": null,
      "outputs": [
        {
          "output_type": "stream",
          "name": "stdout",
          "text": [
            "     \n",
            "         숙련    중견    청년\n",
            "  A부 0.07250 0.18750 0.27000\n",
            "  B부 0.14875 0.19750 0.12375\n"
          ]
        }
      ]
    },
    {
      "cell_type": "code",
      "metadata": {
        "colab": {
          "base_uri": "https://localhost:8080/",
          "height": 142
        },
        "id": "nPtUluXflvzl",
        "outputId": "aeb8977a-8f5e-4ba5-99ff-b554d22e666c"
      },
      "source": [
        "pd.crosstab(jhk.부서, jhk.연령, normalize='all')"
      ],
      "execution_count": null,
      "outputs": [
        {
          "output_type": "execute_result",
          "data": {
            "text/html": [
              "<div>\n",
              "<style scoped>\n",
              "    .dataframe tbody tr th:only-of-type {\n",
              "        vertical-align: middle;\n",
              "    }\n",
              "\n",
              "    .dataframe tbody tr th {\n",
              "        vertical-align: top;\n",
              "    }\n",
              "\n",
              "    .dataframe thead th {\n",
              "        text-align: right;\n",
              "    }\n",
              "</style>\n",
              "<table border=\"1\" class=\"dataframe\">\n",
              "  <thead>\n",
              "    <tr style=\"text-align: right;\">\n",
              "      <th>연령</th>\n",
              "      <th>숙련</th>\n",
              "      <th>중견</th>\n",
              "      <th>청년</th>\n",
              "    </tr>\n",
              "    <tr>\n",
              "      <th>부서</th>\n",
              "      <th></th>\n",
              "      <th></th>\n",
              "      <th></th>\n",
              "    </tr>\n",
              "  </thead>\n",
              "  <tbody>\n",
              "    <tr>\n",
              "      <th>A부</th>\n",
              "      <td>0.07250</td>\n",
              "      <td>0.1875</td>\n",
              "      <td>0.27000</td>\n",
              "    </tr>\n",
              "    <tr>\n",
              "      <th>B부</th>\n",
              "      <td>0.14875</td>\n",
              "      <td>0.1975</td>\n",
              "      <td>0.12375</td>\n",
              "    </tr>\n",
              "  </tbody>\n",
              "</table>\n",
              "</div>"
            ],
            "text/plain": [
              "연령       숙련      중견       청년\n",
              "부서                          \n",
              "A부  0.07250  0.1875  0.27000\n",
              "B부  0.14875  0.1975  0.12375"
            ]
          },
          "metadata": {},
          "execution_count": 110
        }
      ]
    },
    {
      "cell_type": "code",
      "metadata": {
        "colab": {
          "base_uri": "https://localhost:8080/"
        },
        "id": "UYkE-OaflS1e",
        "outputId": "6e5f826a-d6eb-44a7-bae3-a46c278bed56"
      },
      "source": [
        "# 행 방향으로 비율 표기\n",
        "%%R \n",
        "prop.table(cross, 1)"
      ],
      "execution_count": null,
      "outputs": [
        {
          "output_type": "stream",
          "name": "stdout",
          "text": [
            "     \n",
            "           숙련      중견      청년\n",
            "  A부 0.1367925 0.3537736 0.5094340\n",
            "  B부 0.3164894 0.4202128 0.2632979\n"
          ]
        }
      ]
    },
    {
      "cell_type": "code",
      "metadata": {
        "colab": {
          "base_uri": "https://localhost:8080/",
          "height": 142
        },
        "id": "bcFFAqwglzCC",
        "outputId": "7aa8ba50-7213-4d2b-e7f1-3c35c1d8268b"
      },
      "source": [
        "pd.crosstab(jhk.부서, jhk.연령, normalize='index')"
      ],
      "execution_count": null,
      "outputs": [
        {
          "output_type": "execute_result",
          "data": {
            "text/html": [
              "<div>\n",
              "<style scoped>\n",
              "    .dataframe tbody tr th:only-of-type {\n",
              "        vertical-align: middle;\n",
              "    }\n",
              "\n",
              "    .dataframe tbody tr th {\n",
              "        vertical-align: top;\n",
              "    }\n",
              "\n",
              "    .dataframe thead th {\n",
              "        text-align: right;\n",
              "    }\n",
              "</style>\n",
              "<table border=\"1\" class=\"dataframe\">\n",
              "  <thead>\n",
              "    <tr style=\"text-align: right;\">\n",
              "      <th>연령</th>\n",
              "      <th>숙련</th>\n",
              "      <th>중견</th>\n",
              "      <th>청년</th>\n",
              "    </tr>\n",
              "    <tr>\n",
              "      <th>부서</th>\n",
              "      <th></th>\n",
              "      <th></th>\n",
              "      <th></th>\n",
              "    </tr>\n",
              "  </thead>\n",
              "  <tbody>\n",
              "    <tr>\n",
              "      <th>A부</th>\n",
              "      <td>0.136792</td>\n",
              "      <td>0.353774</td>\n",
              "      <td>0.509434</td>\n",
              "    </tr>\n",
              "    <tr>\n",
              "      <th>B부</th>\n",
              "      <td>0.316489</td>\n",
              "      <td>0.420213</td>\n",
              "      <td>0.263298</td>\n",
              "    </tr>\n",
              "  </tbody>\n",
              "</table>\n",
              "</div>"
            ],
            "text/plain": [
              "연령        숙련        중견        청년\n",
              "부서                              \n",
              "A부  0.136792  0.353774  0.509434\n",
              "B부  0.316489  0.420213  0.263298"
            ]
          },
          "metadata": {},
          "execution_count": 112
        }
      ]
    },
    {
      "cell_type": "code",
      "metadata": {
        "colab": {
          "base_uri": "https://localhost:8080/"
        },
        "id": "lnx3JUzDleyK",
        "outputId": "a0137493-e801-41f7-dc99-e09db1c8939e"
      },
      "source": [
        "# 열 방향으로 비율 표기\n",
        "%%R\n",
        "prop.table(cross, 2)"
      ],
      "execution_count": null,
      "outputs": [
        {
          "output_type": "stream",
          "name": "stdout",
          "text": [
            "     \n",
            "           숙련      중견      청년\n",
            "  A부 0.3276836 0.4870130 0.6857143\n",
            "  B부 0.6723164 0.5129870 0.3142857\n"
          ]
        }
      ]
    },
    {
      "cell_type": "code",
      "metadata": {
        "colab": {
          "base_uri": "https://localhost:8080/",
          "height": 142
        },
        "id": "42-Z3v_Plr03",
        "outputId": "809c3d87-bf7b-49de-c01b-64c94c76ccc5"
      },
      "source": [
        "pd.crosstab(jhk.부서, jhk.연령, normalize='columns')"
      ],
      "execution_count": null,
      "outputs": [
        {
          "output_type": "execute_result",
          "data": {
            "text/html": [
              "<div>\n",
              "<style scoped>\n",
              "    .dataframe tbody tr th:only-of-type {\n",
              "        vertical-align: middle;\n",
              "    }\n",
              "\n",
              "    .dataframe tbody tr th {\n",
              "        vertical-align: top;\n",
              "    }\n",
              "\n",
              "    .dataframe thead th {\n",
              "        text-align: right;\n",
              "    }\n",
              "</style>\n",
              "<table border=\"1\" class=\"dataframe\">\n",
              "  <thead>\n",
              "    <tr style=\"text-align: right;\">\n",
              "      <th>연령</th>\n",
              "      <th>숙련</th>\n",
              "      <th>중견</th>\n",
              "      <th>청년</th>\n",
              "    </tr>\n",
              "    <tr>\n",
              "      <th>부서</th>\n",
              "      <th></th>\n",
              "      <th></th>\n",
              "      <th></th>\n",
              "    </tr>\n",
              "  </thead>\n",
              "  <tbody>\n",
              "    <tr>\n",
              "      <th>A부</th>\n",
              "      <td>0.327684</td>\n",
              "      <td>0.487013</td>\n",
              "      <td>0.685714</td>\n",
              "    </tr>\n",
              "    <tr>\n",
              "      <th>B부</th>\n",
              "      <td>0.672316</td>\n",
              "      <td>0.512987</td>\n",
              "      <td>0.314286</td>\n",
              "    </tr>\n",
              "  </tbody>\n",
              "</table>\n",
              "</div>"
            ],
            "text/plain": [
              "연령        숙련        중견        청년\n",
              "부서                              \n",
              "A부  0.327684  0.487013  0.685714\n",
              "B부  0.672316  0.512987  0.314286"
            ]
          },
          "metadata": {},
          "execution_count": 114
        }
      ]
    },
    {
      "cell_type": "markdown",
      "metadata": {
        "id": "oPTNekYtmM2A"
      },
      "source": [
        "**층별 교차 집계표**\n"
      ]
    },
    {
      "cell_type": "code",
      "metadata": {
        "colab": {
          "base_uri": "https://localhost:8080/"
        },
        "id": "-PM8bsFImQZg",
        "outputId": "bfa3549d-e4f9-4df6-8409-3b9c426e9384"
      },
      "source": [
        "%%R\n",
        "xtabs(~부서+연령+성별, data=jhk)"
      ],
      "execution_count": null,
      "outputs": [
        {
          "output_type": "stream",
          "name": "stdout",
          "text": [
            ", , 성별 = F\n",
            "\n",
            "     연령\n",
            "부서 숙련 중견 청년\n",
            "  A부   23   53   91\n",
            "  B부   54   56   40\n",
            "\n",
            ", , 성별 = M\n",
            "\n",
            "     연령\n",
            "부서 숙련 중견 청년\n",
            "  A부   35   97  125\n",
            "  B부   65  102   59\n",
            "\n"
          ]
        }
      ]
    },
    {
      "cell_type": "markdown",
      "metadata": {
        "id": "RBMMpkoNoqQm"
      },
      "source": [
        "**크래머의 연관계수 V**"
      ]
    },
    {
      "cell_type": "markdown",
      "metadata": {
        "id": "QEnC5clco4eM"
      },
      "source": [
        "하한이 0, 상한이 1로, 완전한 연관에 가까워질수록 1에 가까운 값을 취한다.\n",
        "\n",
        "예를 들어, 여성의 흡연자 비율이 1, 남성의 흡연자 비율이 0일 때 -> 완전한 연관\n",
        "\n",
        "성별에 따라 흡연비율이 완전히 역전되어 있으면, 완전한 연관이 있다고 볼 수 있다."
      ]
    },
    {
      "cell_type": "code",
      "metadata": {
        "colab": {
          "base_uri": "https://localhost:8080/"
        },
        "id": "9z_0HHPBpJLs",
        "outputId": "214567cf-2cf4-4a47-d274-efb5b8d655c5"
      },
      "source": [
        "# vcd 패키지의 assocstats\n",
        "%%R\n",
        "library(vcd)\n",
        "assocstats(cross)"
      ],
      "execution_count": null,
      "outputs": [
        {
          "output_type": "stream",
          "name": "stderr",
          "text": [
            "R[write to console]: Loading required package: grid\n",
            "\n"
          ]
        },
        {
          "output_type": "stream",
          "name": "stdout",
          "text": [
            "                    X^2 df   P(> X^2)\n",
            "Likelihood Ratio 63.302  2 1.7986e-14\n",
            "Pearson          62.031  2 3.3862e-14\n",
            "\n",
            "Phi-Coefficient   : NA \n",
            "Contingency Coeff.: 0.268 \n",
            "Cramer's V        : 0.278 \n"
          ]
        }
      ]
    },
    {
      "cell_type": "markdown",
      "metadata": {
        "id": "bAkky8lQpgUU"
      },
      "source": [
        "연관계수가 0.278로 일정한 연관이 존재함을 알 수 있다."
      ]
    },
    {
      "cell_type": "markdown",
      "metadata": {
        "id": "fwaAdogppjtj"
      },
      "source": [
        "$V = \\sqrt{\\frac{\\chi^2}{n(q - 1)}}$\n",
        "\n",
        "$\\chi^2$: 카이제곱 통계량\n",
        "\n",
        "$n$: 총 사례 수\n",
        "\n",
        "$q$: 줄과 칸의 수 중 더 적은 숫자"
      ]
    },
    {
      "cell_type": "code",
      "metadata": {
        "colab": {
          "base_uri": "https://localhost:8080/"
        },
        "id": "j7bIVXQkpw9A",
        "outputId": "a8de36b7-e18e-46f5-d3f1-497c4ba3c46f"
      },
      "source": [
        "X2 = st.chi2_contingency(cross, correction=False)[0]\n",
        "n = cross.sum().sum()\n",
        "minDim = min(cross.shape) - 1\n",
        "V = np.sqrt(X2 / (n * minDim))\n",
        "print(V)"
      ],
      "execution_count": null,
      "outputs": [
        {
          "output_type": "stream",
          "name": "stdout",
          "text": [
            "0.2784574585482234\n"
          ]
        }
      ]
    },
    {
      "cell_type": "markdown",
      "metadata": {
        "id": "VN3Pc3gxqixF"
      },
      "source": [
        "완전한 연관이 있는 교차집계표와, 완젼하게 독립인 교차집계표의 연관계수를 확인해보자."
      ]
    },
    {
      "cell_type": "code",
      "metadata": {
        "colab": {
          "base_uri": "https://localhost:8080/"
        },
        "id": "9oIOorDiqmXd",
        "outputId": "6be756f6-1fc8-4ac7-8292-8d5092643df9"
      },
      "source": [
        "%%R\n",
        "m1 <- matrix(c(50, 0, 0, 50), ncol=2)\n",
        "m1"
      ],
      "execution_count": null,
      "outputs": [
        {
          "output_type": "stream",
          "name": "stdout",
          "text": [
            "     [,1] [,2]\n",
            "[1,]   50    0\n",
            "[2,]    0   50\n"
          ]
        }
      ]
    },
    {
      "cell_type": "code",
      "metadata": {
        "colab": {
          "base_uri": "https://localhost:8080/"
        },
        "id": "qX3QGNrnqtBR",
        "outputId": "038cf991-bbad-46c3-9b0a-977e9db3e5ba"
      },
      "source": [
        "%%R\n",
        "assocstats(m1)"
      ],
      "execution_count": null,
      "outputs": [
        {
          "output_type": "stream",
          "name": "stdout",
          "text": [
            "                    X^2 df P(> X^2)\n",
            "Likelihood Ratio 138.63  1        0\n",
            "Pearson          100.00  1        0\n",
            "\n",
            "Phi-Coefficient   : 1 \n",
            "Contingency Coeff.: 0.707 \n",
            "Cramer's V        : 1 \n"
          ]
        }
      ]
    },
    {
      "cell_type": "code",
      "metadata": {
        "colab": {
          "base_uri": "https://localhost:8080/"
        },
        "id": "NajSA2ELqvFY",
        "outputId": "659f5095-75a4-471b-e28b-719baccedb72"
      },
      "source": [
        "%%R\n",
        "m2 <- matrix(c(10, 20, 100, 200), ncol=2)\n",
        "m2"
      ],
      "execution_count": null,
      "outputs": [
        {
          "output_type": "stream",
          "name": "stdout",
          "text": [
            "     [,1] [,2]\n",
            "[1,]   10  100\n",
            "[2,]   20  200\n"
          ]
        }
      ]
    },
    {
      "cell_type": "code",
      "metadata": {
        "colab": {
          "base_uri": "https://localhost:8080/"
        },
        "id": "XE4EbDnbq2ON",
        "outputId": "b52fb498-996d-48e1-8db0-07b51580e2e8"
      },
      "source": [
        "%%R\n",
        "assocstats(m2)"
      ],
      "execution_count": null,
      "outputs": [
        {
          "output_type": "stream",
          "name": "stdout",
          "text": [
            "                 X^2 df P(> X^2)\n",
            "Likelihood Ratio   0  1        1\n",
            "Pearson            0  1        1\n",
            "\n",
            "Phi-Coefficient   : 0 \n",
            "Contingency Coeff.: 0 \n",
            "Cramer's V        : 0 \n"
          ]
        }
      ]
    },
    {
      "cell_type": "markdown",
      "metadata": {
        "id": "Q7Kc4cWeq5yV"
      },
      "source": [
        "**$\\chi^2$ 검정과 잔차분석**\n"
      ]
    },
    {
      "cell_type": "markdown",
      "metadata": {
        "id": "X4dM5b4trMhI"
      },
      "source": [
        "$\\chi^2 = \\sum \\frac{(관측빈도 - 기대빈도)^2}{기대빈도}$\n",
        "\n",
        "자유도는 (행의 수 - 1) * (열의 수 - 1)"
      ]
    },
    {
      "cell_type": "code",
      "metadata": {
        "colab": {
          "base_uri": "https://localhost:8080/",
          "height": 142
        },
        "id": "qXojkUHwrXy6",
        "outputId": "1bfa3385-2a12-4b42-e512-bc010713c7b6"
      },
      "source": [
        "cross"
      ],
      "execution_count": null,
      "outputs": [
        {
          "output_type": "execute_result",
          "data": {
            "text/html": [
              "<div>\n",
              "<style scoped>\n",
              "    .dataframe tbody tr th:only-of-type {\n",
              "        vertical-align: middle;\n",
              "    }\n",
              "\n",
              "    .dataframe tbody tr th {\n",
              "        vertical-align: top;\n",
              "    }\n",
              "\n",
              "    .dataframe thead th {\n",
              "        text-align: right;\n",
              "    }\n",
              "</style>\n",
              "<table border=\"1\" class=\"dataframe\">\n",
              "  <thead>\n",
              "    <tr style=\"text-align: right;\">\n",
              "      <th>연령</th>\n",
              "      <th>숙련</th>\n",
              "      <th>중견</th>\n",
              "      <th>청년</th>\n",
              "    </tr>\n",
              "    <tr>\n",
              "      <th>부서</th>\n",
              "      <th></th>\n",
              "      <th></th>\n",
              "      <th></th>\n",
              "    </tr>\n",
              "  </thead>\n",
              "  <tbody>\n",
              "    <tr>\n",
              "      <th>A부</th>\n",
              "      <td>58</td>\n",
              "      <td>150</td>\n",
              "      <td>216</td>\n",
              "    </tr>\n",
              "    <tr>\n",
              "      <th>B부</th>\n",
              "      <td>119</td>\n",
              "      <td>158</td>\n",
              "      <td>99</td>\n",
              "    </tr>\n",
              "  </tbody>\n",
              "</table>\n",
              "</div>"
            ],
            "text/plain": [
              "연령   숙련   중견   청년\n",
              "부서               \n",
              "A부   58  150  216\n",
              "B부  119  158   99"
            ]
          },
          "metadata": {},
          "execution_count": 125
        }
      ]
    },
    {
      "cell_type": "code",
      "metadata": {
        "colab": {
          "base_uri": "https://localhost:8080/"
        },
        "id": "j_Bj9qqhrUqS",
        "outputId": "5868f693-d4de-41ff-b11d-bc8b53c823cf"
      },
      "source": [
        "%%R\n",
        "rechisq <- chisq.test(cross)\n",
        "rechisq"
      ],
      "execution_count": null,
      "outputs": [
        {
          "output_type": "stream",
          "name": "stdout",
          "text": [
            "\n",
            "\tPearson's Chi-squared test\n",
            "\n",
            "data:  cross\n",
            "X-squared = 62.031, df = 2, p-value = 3.39e-14\n",
            "\n"
          ]
        }
      ]
    },
    {
      "cell_type": "code",
      "metadata": {
        "colab": {
          "base_uri": "https://localhost:8080/"
        },
        "id": "3FA4niWorosX",
        "outputId": "1cc475e0-af1f-442d-a4be-e2ae8267b2b2"
      },
      "source": [
        "st.chi2_contingency(cross)\n",
        "# 순서대로 카이제곱 통계량, 자유도, expected values"
      ],
      "execution_count": null,
      "outputs": [
        {
          "output_type": "execute_result",
          "data": {
            "text/plain": [
              "(62.03084497690845, 3.3897928504467985e-14, 2, array([[ 93.81, 163.24, 166.95],\n",
              "        [ 83.19, 144.76, 148.05]]))"
            ]
          },
          "metadata": {},
          "execution_count": 127
        }
      ]
    },
    {
      "cell_type": "code",
      "metadata": {
        "colab": {
          "base_uri": "https://localhost:8080/"
        },
        "id": "u12vnCuDrxFz",
        "outputId": "945b34fc-f07a-4a85-fd51-3568741240ef"
      },
      "source": [
        "exp = st.chi2_contingency(cross)[3]\n",
        "((cross - exp) ** 2 / exp).sum().sum()"
      ],
      "execution_count": null,
      "outputs": [
        {
          "output_type": "execute_result",
          "data": {
            "text/plain": [
              "62.030844976908455"
            ]
          },
          "metadata": {},
          "execution_count": 128
        }
      ]
    },
    {
      "cell_type": "markdown",
      "metadata": {
        "id": "RZmNtiZSsEY3"
      },
      "source": [
        "어떤 셀에서 유의미한 일탈이 있었는지는 잔차분석을 통해 파악한다. \n",
        "\n",
        "각 셀의 표준화된 잔차 (z점수)를 확인하여, 절댓값이 1.96 이상이면 해당 셀에 5% 수준으로 유의미한 일탈이 있었음을 확인할 수 있다."
      ]
    },
    {
      "cell_type": "code",
      "metadata": {
        "colab": {
          "base_uri": "https://localhost:8080/",
          "height": 142
        },
        "id": "udxqvp8esjsa",
        "outputId": "801bdb29-c029-4045-e7ec-ad2a2ccbad0c"
      },
      "source": [
        "residuals = (cross - exp) / np.sqrt(exp)\n",
        "residuals"
      ],
      "execution_count": null,
      "outputs": [
        {
          "output_type": "execute_result",
          "data": {
            "text/html": [
              "<div>\n",
              "<style scoped>\n",
              "    .dataframe tbody tr th:only-of-type {\n",
              "        vertical-align: middle;\n",
              "    }\n",
              "\n",
              "    .dataframe tbody tr th {\n",
              "        vertical-align: top;\n",
              "    }\n",
              "\n",
              "    .dataframe thead th {\n",
              "        text-align: right;\n",
              "    }\n",
              "</style>\n",
              "<table border=\"1\" class=\"dataframe\">\n",
              "  <thead>\n",
              "    <tr style=\"text-align: right;\">\n",
              "      <th>연령</th>\n",
              "      <th>숙련</th>\n",
              "      <th>중견</th>\n",
              "      <th>청년</th>\n",
              "    </tr>\n",
              "    <tr>\n",
              "      <th>부서</th>\n",
              "      <th></th>\n",
              "      <th></th>\n",
              "      <th></th>\n",
              "    </tr>\n",
              "  </thead>\n",
              "  <tbody>\n",
              "    <tr>\n",
              "      <th>A부</th>\n",
              "      <td>-3.697258</td>\n",
              "      <td>-1.036274</td>\n",
              "      <td>3.796171</td>\n",
              "    </tr>\n",
              "    <tr>\n",
              "      <th>B부</th>\n",
              "      <td>3.926167</td>\n",
              "      <td>1.100433</td>\n",
              "      <td>-4.031204</td>\n",
              "    </tr>\n",
              "  </tbody>\n",
              "</table>\n",
              "</div>"
            ],
            "text/plain": [
              "연령        숙련        중견        청년\n",
              "부서                              \n",
              "A부 -3.697258 -1.036274  3.796171\n",
              "B부  3.926167  1.100433 -4.031204"
            ]
          },
          "metadata": {},
          "execution_count": 129
        }
      ]
    },
    {
      "cell_type": "markdown",
      "metadata": {
        "id": "YopF1AH1tZrV"
      },
      "source": [
        "stdres의 겨우 여기서 추가로 "
      ]
    },
    {
      "cell_type": "code",
      "metadata": {
        "colab": {
          "base_uri": "https://localhost:8080/"
        },
        "id": "Al_MWmZms4LT",
        "outputId": "2728017d-6f45-4876-bb7f-67c064e2897b"
      },
      "source": [
        "%%R\n",
        "rechisq$residuals"
      ],
      "execution_count": null,
      "outputs": [
        {
          "output_type": "stream",
          "name": "stdout",
          "text": [
            "     \n",
            "           숙련      중견      청년\n",
            "  A부 -3.697258 -1.036274  3.796171\n",
            "  B부  3.926167  1.100433 -4.031204\n"
          ]
        }
      ]
    },
    {
      "cell_type": "code",
      "metadata": {
        "colab": {
          "base_uri": "https://localhost:8080/"
        },
        "id": "nyhmJnc7sYYs",
        "outputId": "80082293-bdc9-4bc3-b877-edc3d160faa9"
      },
      "source": [
        "%%R\n",
        "rechisq$stdres"
      ],
      "execution_count": null,
      "outputs": [
        {
          "output_type": "stream",
          "name": "stdout",
          "text": [
            "     \n",
            "           숙련      중견      청년\n",
            "  A부 -6.111275 -1.927473  7.111660\n",
            "  B부  6.111275  1.927473 -7.111660\n"
          ]
        }
      ]
    },
    {
      "cell_type": "markdown",
      "metadata": {
        "id": "lTqdLcB8sbwa"
      },
      "source": [
        "청년과 숙련 층에서 표준화된 잔차는 유의하다.\n",
        "\n",
        "부서와 연령 사이의 유의한 연관은, 청년과 숙련 층에 대한 부서 간 도수의 편증에 원인이 있다고 볼 수 있다."
      ]
    },
    {
      "cell_type": "markdown",
      "metadata": {
        "id": "Or5sraS8_N0R"
      },
      "source": [
        "# 기본 통계량의 수학적 정의"
      ]
    },
    {
      "cell_type": "markdown",
      "metadata": {
        "id": "20hyok8H_oV6"
      },
      "source": [
        "**다변량 데이터 행렬 표기**\n",
        "\n",
        "각 데이터를 행으로, 변수를 열로 표기할 수 있다.\n",
        "\n",
        "각 열은 협동성, 자기주장, 기능, 지식 순...\n",
        "\n",
        "$X = \\begin{bmatrix}\n",
        "5 & 10 & 20 & 5\\\\\n",
        "25 & 35 & 25 & 15\\\\\n",
        "25 & 45 & 35 & 30\\\\\n",
        "35 & 45 & 40 & 55\\\\\n",
        "60 & 65 & 55 & 70\\\\\n",
        "\\end{bmatrix}$"
      ]
    },
    {
      "cell_type": "markdown",
      "metadata": {
        "id": "Yz76Gv8xAGe4"
      },
      "source": [
        "**분산과 SD**\n",
        "\n",
        "총 사원 수를 n, 사원 i의 협동성 점수를 $x_{i1}$이라고 표현한다.\n",
        "\n",
        "표본크기 n의 표본 데이터로부터 모수(모집단의 평균과 분산)를 추정할 수 있다.\n",
        "\n",
        "협동성 표본평균 $\\bar{x_1}$이 30점이라면, 협동성의 표본분산 $s_1^2$은 편차 $(x_{i1}-\\bar{x_1})$ 제곱의 평균값으로, 다음과 같이 구한다.\n",
        "\n",
        "$s_1^2 = \\frac{(5 - 30)^2 + (25 - 30)^2 + (25 - 30)^2 + (35 - 30)^2 + (60 - 30)^2}{5} = 320$\n",
        "\n",
        "분산의 제곱근 $s_1 = \\sqrt{s_1^2}$은 표본표준편차, $\\sqrt{320}=17.889$\n",
        "\n",
        "다만 위 값은 불편추정량이 아니다. 불편분산은 모분산에 대한 불편추정량이다. 제곱합을 n이 아닌 n-1로 나누어주면 된다.\n",
        "\n",
        "$\\hat{\\sigma_1}^2 = 400$ (320에 4분의 5 곱하면 나온다고 그냥 해.)\n",
        "\n",
        "$\\hat{\\sigma_1} = 20$\n",
        "\n",
        "데이터 개수가 한없이 큰 경우 $\\hat{\\sigma}$나 $s$나 거기서거기다."
      ]
    },
    {
      "cell_type": "markdown",
      "metadata": {
        "id": "J3PtUIZ0CHmb"
      },
      "source": [
        "**공분산과 상관계수**\n",
        "\n",
        "협동산과 자기주장의 상관계수 $r_{12}$를 구하기 전에, 표본공분산 $s_{12}$을 먼저 구해보자\n",
        "\n",
        "두 변수의 편차제곱합을 표본크기 n으로 나눠주자\n",
        "\n",
        "$s_{12} = \\frac{(5-30)(10-40) + ... + (60-30)(65-40)}{5} = 305$\n",
        "\n",
        "불편공분산은 분모를 $n-1$로 변경하면 된다\n",
        "\n",
        "$\\hat{\\sigma_{12}} = \\frac{(5-30)(10-40) + .... + (60-30)(65-40)}{4} = 381.25$\n",
        "\n",
        "공분산은 측정값의 단위에 의존한다는 문제가 있다. 상관계수 $r$은 이 문제를 해결한다.\n",
        "\n",
        "$r_{12} = \\frac{s_{12}}{s_1s_2} = \\frac{\\hat{\\sigma_{12}}}{\\hat\\sigma_1\\hat\\sigma_2} = 0.953125...$\n",
        "\n",
        "상관계수는 모집단의 추정값을 이용하든 말든 값이 같다. 차피 분모(자유도)가 나누어 떨어지기 때문이지."
      ]
    },
    {
      "cell_type": "markdown",
      "metadata": {
        "id": "bMiFB2dEDTcR"
      },
      "source": [
        "**상관행렬**\n",
        "\n",
        "여러 변수의 상관계수를 행렬로 표현한 것.\n",
        "\n",
        "상관행렬, 표본공분산행렬 등이 있다. 귀찮으니 안 적을래."
      ]
    },
    {
      "cell_type": "markdown",
      "metadata": {
        "id": "elVslAumDbFZ"
      },
      "source": [
        "**표준점수**\n",
        "\n",
        "$z_{11} = \\frac{x_{11}-\\bar{x_1}}{s_1} = \\frac{5 - 30}{17.889} = -1.398$\n",
        "\n",
        "z점수는 집단의 평균적인 편차(SD)를 1이라고 했을 때 개인 편차의 비로 해석할 수 있다. z 점수의 절댓값이 1보다 크면 집단의 평균적인 산포도를 넘어선 곳에 있다고 볼 수 있다.\n",
        "\n",
        "본 저자가 제시하는 편차값의 개념을 넣어보면...\n",
        "\n",
        "$T_{11} = 10z_{11} + 50 = 36.02$\n",
        "\n",
        "모집단의 편차값 추정을 위해선, $s_1$ 대신 $\\hat{\\sigma_1} = 20$를 넣어주자."
      ]
    },
    {
      "cell_type": "markdown",
      "metadata": {
        "id": "33i7stJdEFj6"
      },
      "source": [
        "**표본평균의 표준오차**\n",
        "\n",
        "표본크기 n으로 표본을 추출해 표본평균을 구하는 과정을 무한히 반복하면 표본평균의 분포를 구성할 수 있다.\n",
        "\n",
        "표분평균의 분포 중심은 모평균 $\\mu$이며, 이 표본분포의 SD는 표준오차라고 부른다.\n",
        "\n",
        "표준오차가 작으면, 어느 표본으로 추정해도 모평균에 가까운 값을 얻을 가능성이 높다. 추정의 정밀도 지표이다.\n",
        "\n",
        "$\\hat{SE} = \\frac{\\hat{\\sigma}}{\\sqrt{n}} = \\frac{20}{\\sqrt{5}} = 8.944$\n",
        "\n",
        "그러니까 모평균을 중심으로 $\\pm8.944$의 범우에서 표본평균이 평균적으로 흩어져 있다.\n",
        "\n",
        "표본평균 말고 다른 통계량에도 표준오차가 존재한다. 매우 다양하다... 추정값의 검정과 신뢰구간에 관한 이론은, 표준오차에 기초하여 구축되어 있다."
      ]
    },
    {
      "cell_type": "markdown",
      "metadata": {
        "id": "fn0B7RybFFBS"
      },
      "source": [
        "**모평균의 신뢰구간**\n",
        "\n",
        "$[\\bar{x} - t_{\\alpha/2, df}SE, \\bar{x} + t_{\\alpha/2, df}SE]$\n",
        "\n",
        "이를 모평균의 $(1 - \\alpha)100$% 신뢰구간이라고 부른다.\n",
        "\n",
        "$t_{\\alpha/2}$는 자유도가 $df$인 t분포에서 유의수준 $\\alpha$의 양측검정 임계값을 의미한다. 자유도는 $n-1$이다.\n",
        "\n",
        "\n"
      ]
    },
    {
      "cell_type": "code",
      "metadata": {
        "colab": {
          "base_uri": "https://localhost:8080/"
        },
        "id": "92mjJpsUFpux",
        "outputId": "3720f70f-4ee6-4cce-93db-cd27357b3a7d"
      },
      "source": [
        "%%R\n",
        "qt(1 - 0.05 / 2, df=4)"
      ],
      "execution_count": null,
      "outputs": [
        {
          "output_type": "stream",
          "name": "stdout",
          "text": [
            "[1] 2.776445\n"
          ]
        }
      ]
    },
    {
      "cell_type": "code",
      "metadata": {
        "colab": {
          "base_uri": "https://localhost:8080/"
        },
        "id": "TfJBDXIeFq2x",
        "outputId": "cc0d7dd2-2257-49b8-c435-14de3cb69375"
      },
      "source": [
        "st.t.ppf(1 - 0.05 / 2, df = 4)"
      ],
      "execution_count": null,
      "outputs": [
        {
          "output_type": "execute_result",
          "data": {
            "text/plain": [
              "2.7764451051977987"
            ]
          },
          "metadata": {},
          "execution_count": 134
        }
      ]
    },
    {
      "cell_type": "markdown",
      "metadata": {
        "id": "zVTOGH-tGL6J"
      },
      "source": [
        "$\\bar{x}=30, SE=8.944$ 이므로,\n",
        "\n",
        "신뢰구간은 $[30 - 2.776 \\times 8.944 = 5.171, 30 + 2.776 \\times 8.944 = 54.829]$\n",
        "\n",
        "여러 표본을 추출해 동일 과정으로 구간 산출을 반복하면, 구간의 95%가 모평균을 포함한다.\n",
        "\n"
      ]
    },
    {
      "cell_type": "markdown",
      "metadata": {
        "id": "0b2TZtz2HbhS"
      },
      "source": [
        "# 편상관계수"
      ]
    },
    {
      "cell_type": "markdown",
      "metadata": {
        "id": "FodCQtQSH_X6"
      },
      "source": [
        "체중과 어휘량의 상관계수를 구했다 -> 유사상관이 아닐까??\n",
        "\n",
        "체중과 어휘량은 연령이라는 제3의 변수에 의해 함께 증가한다.\n",
        "\n",
        "**편상관**은 제3의 변수로부터 받는 영향을 제거한 다음에 확인되는 상관이다."
      ]
    },
    {
      "cell_type": "markdown",
      "metadata": {
        "id": "Xd-UyRN2IQyx"
      },
      "source": [
        "제3의 변수를 $w$, 상관관계를 구하는 변수를 $x$, $y$라고 할 때 $r_{xy|w}$의 공식은\n",
        "\n",
        "$r_{xy|w} = \\frac{r_{xy} - r_{xw}r_{yw}}{\\sqrt{1 - r_{xw}^2}\\sqrt{1-r_{yw}^2}}$\n",
        "\n",
        "3쌍의 상관계수를 상관행렬에서 추출해서 편상관계수를 구할 수 있다."
      ]
    },
    {
      "cell_type": "markdown",
      "metadata": {
        "id": "kok4eIPxI-mu"
      },
      "source": [
        "제3의 변수가 2개 이상일 경우, 패키지 psych에 포함된 partial.r 함수를 이용하면 된다."
      ]
    },
    {
      "cell_type": "code",
      "metadata": {
        "id": "qTJz9NdFJFEh"
      },
      "source": [
        "%%R\n",
        "sixname <- c('협동성', '자기주장', '기능', '지식', '총합', '작년총합')\n",
        "jhk3 <- jhk[,sixname]"
      ],
      "execution_count": null,
      "outputs": []
    },
    {
      "cell_type": "code",
      "metadata": {
        "colab": {
          "base_uri": "https://localhost:8080/"
        },
        "id": "PObysjFHJZXJ",
        "outputId": "e36cca71-3d26-4e74-e02f-7825bc48fe90"
      },
      "source": [
        "# 총합과 작년총합의 상관계수\n",
        "%%R\n",
        "cor(jhk3[,5], jhk3[,6])"
      ],
      "execution_count": null,
      "outputs": [
        {
          "output_type": "stream",
          "name": "stdout",
          "text": [
            "[1] 0.8203213\n"
          ]
        }
      ]
    },
    {
      "cell_type": "code",
      "metadata": {
        "colab": {
          "base_uri": "https://localhost:8080/"
        },
        "id": "ZpM383aHJeYZ",
        "outputId": "05d32ea2-fd09-4237-83c1-d4c948fffad4"
      },
      "source": [
        "# 협동성 자기주장 기능 지식을 통제한, 총합과 작년총합의 편상관계수\n",
        "%%R\n",
        "partial.r(jhk3, c(5, 6), c(1, 2, 3, 4))"
      ],
      "execution_count": null,
      "outputs": [
        {
          "output_type": "stream",
          "name": "stdout",
          "text": [
            "partial correlations \n",
            "         총합 작년총합\n",
            "총합     1.00     0.03\n",
            "작년총합 0.03     1.00\n"
          ]
        }
      ]
    },
    {
      "cell_type": "code",
      "metadata": {
        "colab": {
          "base_uri": "https://localhost:8080/",
          "height": 80
        },
        "id": "TPHQtpBeJ1Xz",
        "outputId": "8110400d-d5d9-483f-9e88-6bd2f7f37e3f"
      },
      "source": [
        "import pingouin as pg\n",
        "\n",
        "jhk3 = jhk[['협동성', '자기주장', '기능', '지식', '총합', '작년총합']]\n",
        "pg.partial_corr(jhk3, x='총합', y='작년총합', covar=['협동성', '자기주장', '기능', '지식'])"
      ],
      "execution_count": null,
      "outputs": [
        {
          "output_type": "execute_result",
          "data": {
            "text/html": [
              "<div>\n",
              "<style scoped>\n",
              "    .dataframe tbody tr th:only-of-type {\n",
              "        vertical-align: middle;\n",
              "    }\n",
              "\n",
              "    .dataframe tbody tr th {\n",
              "        vertical-align: top;\n",
              "    }\n",
              "\n",
              "    .dataframe thead th {\n",
              "        text-align: right;\n",
              "    }\n",
              "</style>\n",
              "<table border=\"1\" class=\"dataframe\">\n",
              "  <thead>\n",
              "    <tr style=\"text-align: right;\">\n",
              "      <th></th>\n",
              "      <th>n</th>\n",
              "      <th>r</th>\n",
              "      <th>CI95%</th>\n",
              "      <th>p-val</th>\n",
              "    </tr>\n",
              "  </thead>\n",
              "  <tbody>\n",
              "    <tr>\n",
              "      <th>pearson</th>\n",
              "      <td>800</td>\n",
              "      <td>0.025826</td>\n",
              "      <td>[-0.04, 0.1]</td>\n",
              "      <td>0.466856</td>\n",
              "    </tr>\n",
              "  </tbody>\n",
              "</table>\n",
              "</div>"
            ],
            "text/plain": [
              "           n         r         CI95%     p-val\n",
              "pearson  800  0.025826  [-0.04, 0.1]  0.466856"
            ]
          },
          "metadata": {},
          "execution_count": 51
        }
      ]
    },
    {
      "cell_type": "markdown",
      "metadata": {
        "id": "JiPMFA6rLFXB"
      },
      "source": [
        "# 순서 범주형 변수의 상관계수"
      ]
    },
    {
      "cell_type": "markdown",
      "metadata": {
        "id": "eePoKUFOLHsx"
      },
      "source": [
        "**순서 범주형 변수**\n",
        "\n",
        "시험 문제의 답에 대해 '0=오답, 1=정답'으로 코딩한 변수라던가 (**2값 순서 범주형 변수**),\n",
        "\n",
        "학생의 성적을 5단계로 평가한 결과를 포함한 변수라던가... (**다중값 순서 범주형 변수**)\n",
        "\n",
        "얘네는 피어슨 상관계수 말고, 순서 범주형 변수에 대응하는 다른 상관계수를 사용하는 게 적절함."
      ]
    },
    {
      "cell_type": "markdown",
      "metadata": {
        "id": "xp26C91NMw4r"
      },
      "source": [
        "**폴리코릭(polychoric) 상관계수**\n",
        "\n",
        "순서 범주형 변수 간의 상관계수\n",
        "\n",
        "특히 양 변수가 2값 형인 경우의 상관관계를 테트라코릭(tetrachoric) 상관계수라고 부른다.\n",
        "\n",
        "**폴리시리얼(polyserial) 상관계수**\n",
        "\n",
        "순서 범주형 변수와 양적 변수 간의 상관계수\n",
        "\n",
        "특히 순서 범주형 변수가 2진값형인 경우네는 바이시리얼(biserial) 상관계수라고 부른다."
      ]
    },
    {
      "cell_type": "markdown",
      "metadata": {
        "id": "KP0dfB7mNUxK"
      },
      "source": [
        "순서 범주형 변수 간의 상관관계수를 구할 땐, 범주형 분포의 배후에 양적 잠재변수 Z를 가정한다. 이를테면, 행의 합과 열의 합 분포라던가... 그 주변분포의 배후에 잠재변수 $Z_{X}$, $Z_{Y}$를 가정한다.\n",
        "\n",
        "피얼슨의 적률상관계수란, $Z_{X}, Z_{Y}$가 양적 변수로 관측되고 있다는 전제 하에 산출된다. Z를 가지고 있지 않으면, Z를 잠재변수로 표현하고 잠재변수 간 상관계수를 추정한다."
      ]
    },
    {
      "cell_type": "code",
      "metadata": {
        "colab": {
          "base_uri": "https://localhost:8080/",
          "height": 204
        },
        "id": "x6mb8zeAOYO_",
        "outputId": "e5e24a29-312a-4b02-c837-b5649c20530b"
      },
      "source": [
        "jhk.head()"
      ],
      "execution_count": null,
      "outputs": [
        {
          "output_type": "execute_result",
          "data": {
            "text/html": [
              "<div>\n",
              "<style scoped>\n",
              "    .dataframe tbody tr th:only-of-type {\n",
              "        vertical-align: middle;\n",
              "    }\n",
              "\n",
              "    .dataframe tbody tr th {\n",
              "        vertical-align: top;\n",
              "    }\n",
              "\n",
              "    .dataframe thead th {\n",
              "        text-align: right;\n",
              "    }\n",
              "</style>\n",
              "<table border=\"1\" class=\"dataframe\">\n",
              "  <thead>\n",
              "    <tr style=\"text-align: right;\">\n",
              "      <th></th>\n",
              "      <th>ID</th>\n",
              "      <th>성별</th>\n",
              "      <th>부서</th>\n",
              "      <th>연령</th>\n",
              "      <th>협동성</th>\n",
              "      <th>자기주장</th>\n",
              "      <th>기능</th>\n",
              "      <th>지식</th>\n",
              "      <th>스트레스</th>\n",
              "      <th>총합</th>\n",
              "      <th>작년총합</th>\n",
              "    </tr>\n",
              "  </thead>\n",
              "  <tbody>\n",
              "    <tr>\n",
              "      <th>0</th>\n",
              "      <td>1</td>\n",
              "      <td>M</td>\n",
              "      <td>A부</td>\n",
              "      <td>중견</td>\n",
              "      <td>70</td>\n",
              "      <td>45</td>\n",
              "      <td>65</td>\n",
              "      <td>71</td>\n",
              "      <td>53</td>\n",
              "      <td>251</td>\n",
              "      <td>248</td>\n",
              "    </tr>\n",
              "    <tr>\n",
              "      <th>1</th>\n",
              "      <td>2</td>\n",
              "      <td>F</td>\n",
              "      <td>B부</td>\n",
              "      <td>숙련</td>\n",
              "      <td>45</td>\n",
              "      <td>62</td>\n",
              "      <td>51</td>\n",
              "      <td>72</td>\n",
              "      <td>64</td>\n",
              "      <td>227</td>\n",
              "      <td>211</td>\n",
              "    </tr>\n",
              "    <tr>\n",
              "      <th>2</th>\n",
              "      <td>3</td>\n",
              "      <td>M</td>\n",
              "      <td>A부</td>\n",
              "      <td>중견</td>\n",
              "      <td>54</td>\n",
              "      <td>70</td>\n",
              "      <td>55</td>\n",
              "      <td>70</td>\n",
              "      <td>61</td>\n",
              "      <td>249</td>\n",
              "      <td>242</td>\n",
              "    </tr>\n",
              "    <tr>\n",
              "      <th>3</th>\n",
              "      <td>4</td>\n",
              "      <td>M</td>\n",
              "      <td>A부</td>\n",
              "      <td>숙련</td>\n",
              "      <td>51</td>\n",
              "      <td>63</td>\n",
              "      <td>53</td>\n",
              "      <td>65</td>\n",
              "      <td>60</td>\n",
              "      <td>232</td>\n",
              "      <td>240</td>\n",
              "    </tr>\n",
              "    <tr>\n",
              "      <th>4</th>\n",
              "      <td>5</td>\n",
              "      <td>F</td>\n",
              "      <td>A부</td>\n",
              "      <td>청년</td>\n",
              "      <td>56</td>\n",
              "      <td>52</td>\n",
              "      <td>44</td>\n",
              "      <td>68</td>\n",
              "      <td>56</td>\n",
              "      <td>217</td>\n",
              "      <td>177</td>\n",
              "    </tr>\n",
              "  </tbody>\n",
              "</table>\n",
              "</div>"
            ],
            "text/plain": [
              "   ID 성별  부서  연령  협동성  자기주장  기능  지식  스트레스   총합  작년총합\n",
              "0   1  M  A부  중견   70    45  65  71    53  251   248\n",
              "1   2  F  B부  숙련   45    62  51  72    64  227   211\n",
              "2   3  M  A부  중견   54    70  55  70    61  249   242\n",
              "3   4  M  A부  숙련   51    63  53  65    60  232   240\n",
              "4   5  F  A부  청년   56    52  44  68    56  217   177"
            ]
          },
          "metadata": {},
          "execution_count": 155
        }
      ]
    },
    {
      "cell_type": "markdown",
      "metadata": {
        "id": "pLdeXd2SOW3q"
      },
      "source": [
        "'총합'을 2값 순서범주형 변수 '총합범주'로 변화하고, '기능'을 다중값 순서범주형변수 '기능범주'로 변환해보자."
      ]
    },
    {
      "cell_type": "code",
      "metadata": {
        "colab": {
          "base_uri": "https://localhost:8080/"
        },
        "id": "3I0xPHbGOgmB",
        "outputId": "be7a8337-2574-4bf7-c48e-13d00929db42"
      },
      "source": [
        "%%R\n",
        "sogoc <- c(-Inf, mean(jhk$총합), Inf)\n",
        "scat <- cut(jhk$총합, breaks=sogoc, right=FALSE, labels=c(0, 1))\n",
        "scat"
      ],
      "execution_count": null,
      "outputs": [
        {
          "output_type": "stream",
          "name": "stdout",
          "text": [
            " [1] 1 1 1 1 0 1 1 1 1 1 1 1 0 1 1 1 1 0 0 1 0 0 1 1 1 0 0 0 1 0 1 1 1 0 0 0 0 0\n",
            "[39] 0 1 1 0 0 0 0 1 0 1 0 1\n",
            " [ reached getOption(\"max.print\") -- omitted 750 entries ]\n",
            "Levels: 0 1\n"
          ]
        }
      ]
    },
    {
      "cell_type": "code",
      "metadata": {
        "colab": {
          "base_uri": "https://localhost:8080/"
        },
        "id": "ajZGrh4eO0wC",
        "outputId": "2ca381b8-f4ac-40e3-cb81-98e7ceade1f0"
      },
      "source": [
        "sogoc = [-np.inf, jhk['총합'].mean(), np.inf]\n",
        "scat = pd.cut(jhk['총합'], bins=sogoc, right=False, labels=[0, 1])\n",
        "scat"
      ],
      "execution_count": null,
      "outputs": [
        {
          "output_type": "execute_result",
          "data": {
            "text/plain": [
              "0      1\n",
              "1      1\n",
              "2      1\n",
              "3      1\n",
              "4      0\n",
              "      ..\n",
              "795    0\n",
              "796    0\n",
              "797    0\n",
              "798    1\n",
              "799    0\n",
              "Name: 총합, Length: 800, dtype: category\n",
              "Categories (2, int64): [0 < 1]"
            ]
          },
          "metadata": {},
          "execution_count": 163
        }
      ]
    },
    {
      "cell_type": "code",
      "metadata": {
        "colab": {
          "base_uri": "https://localhost:8080/"
        },
        "id": "iOkthy2aPrHo",
        "outputId": "e57c2964-2385-43a7-9712-0cc89e62e987"
      },
      "source": [
        "%%R\n",
        "ginoc <- c(-Inf, summary(jhk$기능)[c(2, 5)], Inf)\n",
        "ginoc"
      ],
      "execution_count": null,
      "outputs": [
        {
          "output_type": "stream",
          "name": "stdout",
          "text": [
            "        1st Qu. 3rd Qu.         \n",
            "   -Inf      44      56     Inf \n"
          ]
        }
      ]
    },
    {
      "cell_type": "code",
      "metadata": {
        "colab": {
          "base_uri": "https://localhost:8080/"
        },
        "id": "UncKPw5vP6MT",
        "outputId": "5c9c1ff7-a46c-4704-aebd-ed078e158dbe"
      },
      "source": [
        "%%R\n",
        "gcat <- cut(jhk$기능, breaks=ginoc, right=FALSE, labels=c(0, 1, 2))\n",
        "gcat"
      ],
      "execution_count": null,
      "outputs": [
        {
          "output_type": "stream",
          "name": "stdout",
          "text": [
            " [1] 2 1 1 1 1 1 2 1 2 1 1 2 1 1 0 1 1 0 0 2 0 0 1 1 2 1 0 0 1 1 1 2 2 1 0 0 1 0\n",
            "[39] 0 1 2 0 1 0 0 1 0 1 1 2\n",
            " [ reached getOption(\"max.print\") -- omitted 750 entries ]\n",
            "Levels: 0 1 2\n"
          ]
        }
      ]
    },
    {
      "cell_type": "code",
      "metadata": {
        "colab": {
          "base_uri": "https://localhost:8080/"
        },
        "id": "A7Q8sg6LQdzB",
        "outputId": "c22cf441-3bf7-495a-b631-70f0eae721f5"
      },
      "source": [
        "jhk['기능']"
      ],
      "execution_count": null,
      "outputs": [
        {
          "output_type": "execute_result",
          "data": {
            "text/plain": [
              "0      65\n",
              "1      51\n",
              "2      55\n",
              "3      53\n",
              "4      44\n",
              "       ..\n",
              "795    41\n",
              "796    27\n",
              "797    32\n",
              "798    69\n",
              "799    32\n",
              "Name: 기능, Length: 800, dtype: int64"
            ]
          },
          "metadata": {},
          "execution_count": 172
        }
      ]
    },
    {
      "cell_type": "code",
      "metadata": {
        "colab": {
          "base_uri": "https://localhost:8080/"
        },
        "id": "uxRdx28_QBQC",
        "outputId": "9dc8a35e-9357-41f6-ba92-6b4f0f46a4e8"
      },
      "source": [
        "gcat = pd.qcut(jhk['기능'], q=[0, 0.25, 0.75, 1], labels=[0, 1, 2])\n",
        "gcat"
      ],
      "execution_count": null,
      "outputs": [
        {
          "output_type": "execute_result",
          "data": {
            "text/plain": [
              "0      2\n",
              "1      1\n",
              "2      1\n",
              "3      1\n",
              "4      0\n",
              "      ..\n",
              "795    0\n",
              "796    0\n",
              "797    0\n",
              "798    2\n",
              "799    0\n",
              "Name: 기능, Length: 800, dtype: category\n",
              "Categories (3, int64): [0 < 1 < 2]"
            ]
          },
          "metadata": {},
          "execution_count": 171
        }
      ]
    },
    {
      "cell_type": "markdown",
      "metadata": {
        "id": "name3F-dQnvR"
      },
      "source": [
        "계산의 차이 때문에 양쪽이 조금 다름. 근데 맞추기 귀찮아 ㅎㅎ"
      ]
    },
    {
      "cell_type": "markdown",
      "metadata": {
        "id": "xo9rY0v2Qvfi"
      },
      "source": [
        "순서 범주형 변수를 포함한 상관행렬을 산출할 땐 polycor 패키지의 hetcor 함수를 이용할 수 있다. (양적 변수랑 순서범주형 변수가 섞여도 문제없다.)"
      ]
    },
    {
      "cell_type": "code",
      "metadata": {
        "colab": {
          "base_uri": "https://localhost:8080/"
        },
        "id": "VEzfXiTdQ2jp",
        "outputId": "a5275f49-b650-4b88-d088-271c77e131e6"
      },
      "source": [
        "%%R\n",
        "library(polycor)\n",
        "# 양적변수 '작년총합'도 포함\n",
        "jhk4 <- data.frame(총합범주=scat, 기능범주=gcat, 지식=jhk$지식)\n",
        "hetcor(jhk4, ML=TRUE) # 최우법으로 상관행렬 산출"
      ],
      "execution_count": null,
      "outputs": [
        {
          "output_type": "stream",
          "name": "stderr",
          "text": [
            "R[write to console]: \n",
            "Attaching package: ‘polycor’\n",
            "\n",
            "\n",
            "R[write to console]: The following object is masked from ‘package:psych’:\n",
            "\n",
            "    polyserial\n",
            "\n",
            "\n"
          ]
        },
        {
          "output_type": "stream",
          "name": "stdout",
          "text": [
            "\n",
            "Maximum-Likelihood Estimates\n",
            "\n",
            "Correlations/Type of Correlation:\n",
            "         총합범주   기능범주       지식\n",
            "총합범주        1 Polychoric Polyserial\n",
            "기능범주   0.7973          1 Polyserial\n",
            "지식       0.6329     0.4558          1\n",
            "\n",
            "Standard Errors:\n",
            "         총합범주 기능범주\n",
            "총합범주                  \n",
            "기능범주  0.02391         \n",
            "지식      0.02811  0.03074\n",
            "\n",
            "n = 800 \n",
            "\n",
            "P-values for Tests of Bivariate Normality:\n",
            "         총합범주 기능범주\n",
            "총합범주                  \n",
            "기능범주   0.3198         \n",
            "지식       0.1545   0.1056\n"
          ]
        }
      ]
    },
    {
      "cell_type": "code",
      "metadata": {
        "colab": {
          "base_uri": "https://localhost:8080/"
        },
        "id": "zjkeqVGOROpL",
        "outputId": "7ba48388-611d-484d-f8a6-028abcccb6a5"
      },
      "source": [
        "%%R\n",
        "hetcor(jhk4, ML=FALSE)"
      ],
      "execution_count": null,
      "outputs": [
        {
          "output_type": "stream",
          "name": "stdout",
          "text": [
            "\n",
            "Two-Step Estimates\n",
            "\n",
            "Correlations/Type of Correlation:\n",
            "         총합범주   기능범주       지식\n",
            "총합범주        1 Polychoric Polyserial\n",
            "기능범주   0.7972          1 Polyserial\n",
            "지식       0.6329     0.4557          1\n",
            "\n",
            "Standard Errors:\n",
            "         총합범주 기능범주\n",
            "총합범주                  \n",
            "기능범주  0.02285         \n",
            "지식      0.02811  0.03033\n",
            "\n",
            "n = 800 \n",
            "\n",
            "P-values for Tests of Bivariate Normality:\n",
            "         총합범주 기능범주\n",
            "총합범주                  \n",
            "기능범주   0.3166         \n",
            "지식       0.1546   0.1054\n"
          ]
        }
      ]
    },
    {
      "cell_type": "markdown",
      "metadata": {
        "id": "vbaOJeXPRTCZ"
      },
      "source": [
        "ML=TRUE인 경우, 상관계수의 추정에 최우법(maximum likelihood method)을 이용한다. FALSE인 경우 two-step법을 기초로 추정한 최우법의 간편해가 산출된다."
      ]
    },
    {
      "cell_type": "markdown",
      "metadata": {
        "id": "XP9rQwp_R8uR"
      },
      "source": [
        "# 효과크기"
      ]
    },
    {
      "cell_type": "markdown",
      "metadata": {
        "id": "mqJNRQsHSrix"
      },
      "source": [
        "표본 크기가 클 경우 어떤 귀무가설도 기각되어 버릴 수 있다.\n",
        "\n",
        "검정 결과뿐만 아니라 효과크기 역시 산출하는 것이 중요하다.\n"
      ]
    },
    {
      "cell_type": "markdown",
      "metadata": {
        "id": "5fspAa_tS_6S"
      },
      "source": [
        "## 독립비교 t검정의 효과크기"
      ]
    },
    {
      "cell_type": "markdown",
      "metadata": {
        "id": "0V7lcm5STCyS"
      },
      "source": [
        "독립비교 t검정의 검정통계량 t는, 표본 효과크기 d와 각 집단의 표본크기로 구성되는 부분의 곱으로 표현된다.\n",
        "\n",
        "$t = d\\sqrt{\\frac{n_1n_2}{n_1 + n_2}}$"
      ]
    },
    {
      "cell_type": "markdown",
      "metadata": {
        "id": "n3yeJLekTZXK"
      },
      "source": [
        "효과크기 d(Cohen's d)는 $\\bar{x_1}$과 $\\bar{x_2}$의 차이를 모표준편차의 추정량 $s*$로 나눠서 구한다.\n",
        "\n",
        "$d = \\frac{\\bar{x_1} - \\bar{x_2}}{s*}$\n",
        "\n",
        "$s* = \\sqrt{\\frac{(n_1-1)s_1^2 + (n_2-1)s_2^2}{n_1 + n_2 -2}}$\n",
        "\n",
        "d가 일정할 때 표본크기가 커질수록 t 값은 커지고, 검정결과는 유의하게 된다. d는 모집단의 효과크기 추정량 중 하나로 이용할 수 있다."
      ]
    },
    {
      "cell_type": "markdown",
      "metadata": {
        "id": "_v9JJhomVDQ8"
      },
      "source": [
        "그러면 직접 함수로 효과크기 추정값과 그 95% 신뢰구간을 산출해보자."
      ]
    },
    {
      "cell_type": "code",
      "metadata": {
        "id": "5HOhmXuHVRCp"
      },
      "source": [
        "%%R\n",
        "effectd1 <- function(x1, x2, clevel=0.95){\n",
        "    # library(MBESS)\n",
        "    # 각 집단의 표본크기\n",
        "    n1 <- length(x1)\n",
        "    n2 <- length(x2)\n",
        "\n",
        "    # 각 집단의 평균\n",
        "    m1 <- mean(x1)\n",
        "    m2 <- mean(x2)\n",
        "\n",
        "    # 각 집단의 표본 표준편차\n",
        "    s1 <- sd(x1)\n",
        "    s2 <- sd(x2)\n",
        "\n",
        "    # 모표준편차의 추정값\n",
        "    sast <- sqrt((((n1 - 1)*s1^2) + ((n2 - 1)*s2^2))/(n1 + n2 - 2))\n",
        "\n",
        "    # 효과크기\n",
        "    d.p <- (m1-m2)/sast\n",
        "\n",
        "    # 독립표본 t검정, 자유도 산출\n",
        "    rest <- t.test(x1, x2, paired=FALSE, var.equal=TRUE)\n",
        "\n",
        "  \n",
        "    # 효과크기와 신뢰구간 산출\n",
        "    ll <- rest$statistic * sqrt(1/n1 + 1/n2)\n",
        "    ul <- rest$statistic * sqrt(1/n1 + 1/n2)\n",
        "    u3 <- pnorm(d.p, 0, 1)\n",
        "\n",
        "    return(list=c(효과크기=d.p, 신뢰수준=clevel, 구간하한=ll, 구간상한=ul, U3=u3))\n",
        "}"
      ],
      "execution_count": null,
      "outputs": []
    },
    {
      "cell_type": "code",
      "metadata": {
        "colab": {
          "base_uri": "https://localhost:8080/"
        },
        "id": "if2LchuDt9yj",
        "outputId": "568921ca-ef25-4b8c-83c3-26b1ad968685"
      },
      "source": [
        "%%R\n",
        "fdat <- jhk$협동성[jhk$성별=='F']\n",
        "mdat <- jhk$협동성[jhk$성별=='M']\n",
        "effectd1(fdat, mdat, clevel=0.95)"
      ],
      "execution_count": null,
      "outputs": [
        {
          "output_type": "stream",
          "name": "stdout",
          "text": [
            "  효과크기   신뢰수준 구간하한.t 구간상한.t         U3 \n",
            " 0.2862393  0.9500000  0.2862393  0.2862393  0.6126526 \n"
          ]
        }
      ]
    },
    {
      "cell_type": "code",
      "metadata": {
        "id": "Q4mf6J_T0dqR"
      },
      "source": [
        "def effectd1(x1, x2, clevel=0.95):\n",
        "  n1 = len(x1)\n",
        "  n2 = len(x2)\n",
        "  m1 = n1.mean()\n",
        "  m2 = n2.mean()\n",
        "  s1 = n1.std()\n",
        "  s2 = n2.std()\n",
        "  sast = np.sqrt(((n1 * s1^2) + (n2 * s2^2)) / (n1 + n2 - 2))\n",
        "  d = (m1 - m2) / sast\n",
        "\n",
        "  rest = st.ttest_ind(female, male)\n",
        "  \n",
        "  "
      ],
      "execution_count": null,
      "outputs": []
    },
    {
      "cell_type": "code",
      "metadata": {
        "colab": {
          "base_uri": "https://localhost:8080/"
        },
        "id": "XOGso0CI00kh",
        "outputId": "03a969d2-7700-420a-d171-2c101ba6599f"
      },
      "source": [
        "female = jhk.loc[jhk.성별 == 'F', '협동성']\n",
        "male = jhk.loc[jhk.성별 == 'M', '협동성']\n",
        "stats = st.ttest_ind(female, male)\n",
        "stats"
      ],
      "execution_count": null,
      "outputs": [
        {
          "output_type": "execute_result",
          "data": {
            "text/plain": [
              "Ttest_indResult(statistic=3.959930184798102, pvalue=8.166909332546908e-05)"
            ]
          },
          "metadata": {},
          "execution_count": 43
        }
      ]
    },
    {
      "cell_type": "code",
      "metadata": {
        "id": "7m3ZQqIV1P1q"
      },
      "source": [
        "st.t.interval(0.95, loc=female.mean(), scale=st.sem(female), df=len(female) - )"
      ],
      "execution_count": null,
      "outputs": []
    },
    {
      "cell_type": "markdown",
      "metadata": {
        "id": "az3gp4i3umHD"
      },
      "source": [
        "신뢰구간은 0을 포함하지 않는 걸 봐서, 모집단에서 효과크기가 0일 가능성은 낮다고 추측된다.\n",
        "\n",
        "U3는, d가 표준정규분포를 따른다는 가정 하에 남성 사원의 협동성 점수의 분포를 기준으로 여성 사원 협동성 점수의 평균값이 몇 %에 해당하는지를 구한다. (여기선 61.26526%의 값...)\n",
        "\n",
        "0.2862393의 효과크기는, 11.26526% (61.26526-50) 정도의 실질적인 차이라고 볼 수 있다.\n",
        "\n",
        "효과크기는 이렇게 기술하면 된다.\n",
        "\n",
        "(여성 사원과 남성 사원 간에 협동성의 모평균에 차이가 있는지 독립비교 검정을 실시한 결과, 0.1% 수준에서 유의한 차이를 얻을 수 있었다. $t(798)=3.96, p<0.001, d=0.286)$ 95% CI [0.144, 0.429]"
      ]
    },
    {
      "cell_type": "markdown",
      "metadata": {
        "id": "1roLRkEEvMNG"
      },
      "source": [
        "## 대응비교 t검정의 효과크기"
      ]
    },
    {
      "cell_type": "markdown",
      "metadata": {
        "id": "Fu18n61avOLz"
      },
      "source": [
        "$t = d'\\sqrt{n}, d' = \\frac{\\bar{v}}{s'_v}$"
      ]
    },
    {
      "cell_type": "markdown",
      "metadata": {
        "id": "ItQLmq3svYY7"
      },
      "source": [
        "$d'$는 표본효과량, $\\bar{v}$는 점수차이 v의 평균값, $s'_v$는 점수차이 v의 불편분산의 제곱근"
      ]
    },
    {
      "cell_type": "code",
      "metadata": {
        "id": "XoqejsmzueaE"
      },
      "source": [
        "%%R\n",
        "effectd2 <- function(x1, x2, clevel=0.95){\n",
        "    n <- length(x1 - x2)\n",
        "    v.bar <- mean(x1 - x2)\n",
        "    sv.p <- sd(x1 - x2)\n",
        "    d.p <- v.bar/sv.p\n",
        "    rest <- t.test(x1, x2, paired=TRUE)\n",
        "    u3 <- pnorm(d.p, 0, 1)\n",
        "    return(list=c(효과크기=d.p, 신뢰수준=clevel, U3=u3))\n",
        "}"
      ],
      "execution_count": null,
      "outputs": []
    },
    {
      "cell_type": "code",
      "metadata": {
        "colab": {
          "base_uri": "https://localhost:8080/"
        },
        "id": "aI_uS_tlv49U",
        "outputId": "51c83fd0-c337-4338-9ecd-a5492d407fd6"
      },
      "source": [
        "%%R\n",
        "effectd2(jhk$총합, jhk$작년총합, clevel=0.95)"
      ],
      "execution_count": null,
      "outputs": [
        {
          "output_type": "stream",
          "name": "stdout",
          "text": [
            "  효과크기   신뢰수준 \n",
            "0.03009393 0.95000000 \n"
          ]
        }
      ]
    },
    {
      "cell_type": "markdown",
      "metadata": {
        "id": "hCWmRW8Fv8yc"
      },
      "source": [
        "신뢰구간이 0을 포함하는 걸 봐선 모평균의 실제적인 차이가 0이 아니라는 가설을 강하게 주장하긴 어렵다.\n",
        "\n",
        "U3를 보았을 때, 작년총합 기준으로 총합의 평균은 0.012 정도밖에 되지 않는다."
      ]
    },
    {
      "cell_type": "markdown",
      "metadata": {
        "id": "GHDY9nMxxlSq"
      },
      "source": [
        "## 그 밖의 효과크기와 신뢰구간"
      ]
    },
    {
      "cell_type": "markdown",
      "metadata": {
        "id": "HPMamZlSxnha"
      },
      "source": [
        "**상관계수의 신뢰구간**\n",
        "상관계수 r을 그대로 효과크기의 추정값으로 이용할 수 있다."
      ]
    },
    {
      "cell_type": "code",
      "metadata": {
        "colab": {
          "base_uri": "https://localhost:8080/"
        },
        "id": "zfKA99vZxst5",
        "outputId": "1d635412-dca2-47c7-cd74-75e04103257c"
      },
      "source": [
        "%%R\n",
        "library(psych)\n",
        "kjs <- c('협동성', '자기주장', '스트레스')\n",
        "corkekka2 <- corr.test(jhk[,kjs], alpha=0.05)\n",
        "print(corkekka2, short=FALSE)"
      ],
      "execution_count": null,
      "outputs": [
        {
          "output_type": "stream",
          "name": "stdout",
          "text": [
            "Call:corr.test(x = jhk[, kjs], alpha = 0.05)\n",
            "Correlation matrix \n",
            "         협동성 자기주장 스트레스\n",
            "협동성     1.00     0.35    -0.51\n",
            "자기주장   0.35     1.00     0.11\n",
            "스트레스  -0.51     0.11     1.00\n",
            "Sample Size \n",
            "[1] 800\n",
            "Probability values (Entries above the diagonal are adjusted for multiple tests.) \n",
            "         협동성 자기주장 스트레스\n",
            "협동성        0        0        0\n",
            "자기주장      0        0        0\n",
            "스트레스      0        0        0\n",
            "\n",
            " Confidence intervals based upon normal theory.  To get bootstrapped values, try cor.ci\n",
            "                  raw.lower raw.r raw.upper raw.p lower.adj upper.adj\n",
            "협동성-자기주장        0.29  0.35      0.41     0      0.28      0.42\n",
            "협동성-스트레스       -0.56 -0.51     -0.45     0     -0.57     -0.44\n",
            "자기주장-스트레스      0.05  0.11      0.18     0      0.05      0.18\n"
          ]
        }
      ]
    },
    {
      "cell_type": "markdown",
      "metadata": {
        "id": "uI-oFy0hyHC0"
      },
      "source": [
        "**크래머의 연관계수 V의 신뢰구간**\n",
        "\n",
        "역시 연관계수 V가 효과크기 그 자체"
      ]
    },
    {
      "cell_type": "code",
      "metadata": {
        "id": "ZTSHzgLqyKUF"
      },
      "source": [
        "%%R\n",
        "effectv <- function(x,y,clevel=0.95)\n",
        "{\n",
        "    library(vcd)\n",
        "    library(MBESS)\n",
        "    #교차 집계표의 산출\n",
        "    tmpcross <- table(x,y)\n",
        "    #표본 크기의 산출\n",
        "    n <- sum(tmpcross)\n",
        "    #집계표의 행수와 열수를 산출\n",
        "    size <- dim(tmpcross)\n",
        "    #자유도를 산출\n",
        "    dof <- prod(size-1)\t\n",
        "    #카이제곱값과 크래머 계수 V의 산출\n",
        "    resas <- assocstats(tmpcross)\n",
        "    chi <- resas$chisq_tests[\"Pearson\",\"X^2\"]\t\n",
        "    v <- resas$cramer\n",
        "    #카이제곱값이 주어졌을 때의 비중심도 상한값，하한값을 산출\n",
        "    resconf <- conf.limits.nc.chisq(Chi.Square=chi,\n",
        "    df=dof,conf.level=clevel)\n",
        "    \n",
        "    if(resconf$Lower.Limit>0)#하한값이 0을 넘어서는 영역에 들어갔을 경우\n",
        "    {\n",
        "        #신뢰구간의 하한・상한 산출  \n",
        "        ll <- sqrt((dof+resconf$Lower.Limit)/((min(size)-1)*n))\n",
        "        ul <- sqrt((dof+resconf$Upper.Limit)/((min(size)-1)*n))\n",
        "        return(list=c(효과크기V=v,카이제곱값=chi,신뢰수준=clevel,\n",
        "        구간하한=ll,구간상한=ul))\n",
        "    }else if(resconf$Lower.Limit==0) #하한값이 음수가 되었을 경우\n",
        "    {\n",
        "        #신뢰구간의 하한을 0으로 제약한 후 상한을 산출       \n",
        "        resconf <- conf.limits.nc.chisq(Chi.Square=chi,\n",
        "        df=dof,conf.level=NULL,alpha.lower=0,alpha.upper=(1-clevel)/2)\n",
        "        ul <- sqrt((dof+resconf$Upper.Limit)/((min(size)-1)*n))\n",
        "        return(list=list(\n",
        "        \"하한값이 음수가 되었으므로 신뢰구간의 하한값을 0으로 했습니다.\",\n",
        "        c(효과크기V=v,카이제곱값=chi,신뢰수준=clevel,구간하한=0,\n",
        "        구간상한=ul)))\n",
        "    }\n",
        "}"
      ],
      "execution_count": null,
      "outputs": []
    },
    {
      "cell_type": "markdown",
      "metadata": {
        "id": "MkHoqHFw0Qwk"
      },
      "source": [
        "https://www.uvm.edu/~statdhtx/StatPages/ConfIntEffectSize/Confidence%20limit%20on%20effect%20size.html\n",
        "\n",
        "자세한 설명은 여기를 참고할 것."
      ]
    }
  ]
}